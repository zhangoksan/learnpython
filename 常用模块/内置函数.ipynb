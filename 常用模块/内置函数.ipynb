{
 "cells": [
  {
   "cell_type": "markdown",
   "metadata": {},
   "source": [
    "### 1. abs(x)"
   ]
  },
  {
   "cell_type": "markdown",
   "metadata": {},
   "source": [
    "返回一个数的绝对值。\n",
    "x可以是一个整数或浮点数"
   ]
  },
  {
   "cell_type": "code",
   "execution_count": 1,
   "metadata": {},
   "outputs": [
    {
     "data": {
      "text/plain": [
       "5"
      ]
     },
     "execution_count": 1,
     "metadata": {},
     "output_type": "execute_result"
    }
   ],
   "source": [
    "abs(-5)"
   ]
  },
  {
   "cell_type": "code",
   "execution_count": 2,
   "metadata": {},
   "outputs": [
    {
     "data": {
      "text/plain": [
       "25.0"
      ]
     },
     "execution_count": 2,
     "metadata": {},
     "output_type": "execute_result"
    }
   ],
   "source": [
    "# 如果参数是一个复数，则返回它的模\n",
    "abs(-5 * 5j)"
   ]
  },
  {
   "cell_type": "markdown",
   "metadata": {},
   "source": [
    "### 2. all(iterable)"
   ]
  },
  {
   "cell_type": "markdown",
   "metadata": {},
   "source": [
    "如果iterable的所有元素为真（迭代器为空），返回True。等价于："
   ]
  },
  {
   "cell_type": "code",
   "execution_count": 3,
   "metadata": {},
   "outputs": [],
   "source": [
    "# def all(iterable):\n",
    "#     for element in iterable:\n",
    "#         if not element:\n",
    "#             return False\n",
    "#         return True"
   ]
  },
  {
   "cell_type": "code",
   "execution_count": 4,
   "metadata": {},
   "outputs": [
    {
     "data": {
      "text/plain": [
       "True"
      ]
     },
     "execution_count": 4,
     "metadata": {},
     "output_type": "execute_result"
    }
   ],
   "source": [
    "all([1, 2, 3, 0])"
   ]
  },
  {
   "cell_type": "code",
   "execution_count": 5,
   "metadata": {},
   "outputs": [
    {
     "ename": "TypeError",
     "evalue": "'NoneType' object is not iterable",
     "output_type": "error",
     "traceback": [
      "\u001b[1;31m---------------------------------------------------------------------------\u001b[0m",
      "\u001b[1;31mTypeError\u001b[0m                                 Traceback (most recent call last)",
      "\u001b[1;32m<ipython-input-5-3ef42531facb>\u001b[0m in \u001b[0;36m<module>\u001b[1;34m\u001b[0m\n\u001b[1;32m----> 1\u001b[1;33m \u001b[0mall\u001b[0m\u001b[1;33m(\u001b[0m\u001b[1;32mNone\u001b[0m\u001b[1;33m)\u001b[0m\u001b[1;33m\u001b[0m\u001b[1;33m\u001b[0m\u001b[0m\n\u001b[0m",
      "\u001b[1;32m<ipython-input-3-54c4791b183e>\u001b[0m in \u001b[0;36mall\u001b[1;34m(iterable)\u001b[0m\n\u001b[0;32m      1\u001b[0m \u001b[1;32mdef\u001b[0m \u001b[0mall\u001b[0m\u001b[1;33m(\u001b[0m\u001b[0miterable\u001b[0m\u001b[1;33m)\u001b[0m\u001b[1;33m:\u001b[0m\u001b[1;33m\u001b[0m\u001b[1;33m\u001b[0m\u001b[0m\n\u001b[1;32m----> 2\u001b[1;33m     \u001b[1;32mfor\u001b[0m \u001b[0melement\u001b[0m \u001b[1;32min\u001b[0m \u001b[0miterable\u001b[0m\u001b[1;33m:\u001b[0m\u001b[1;33m\u001b[0m\u001b[1;33m\u001b[0m\u001b[0m\n\u001b[0m\u001b[0;32m      3\u001b[0m         \u001b[1;32mif\u001b[0m \u001b[1;32mnot\u001b[0m \u001b[0melement\u001b[0m\u001b[1;33m:\u001b[0m\u001b[1;33m\u001b[0m\u001b[1;33m\u001b[0m\u001b[0m\n\u001b[0;32m      4\u001b[0m             \u001b[1;32mreturn\u001b[0m \u001b[1;32mFalse\u001b[0m\u001b[1;33m\u001b[0m\u001b[1;33m\u001b[0m\u001b[0m\n\u001b[0;32m      5\u001b[0m         \u001b[1;32mreturn\u001b[0m \u001b[1;32mTrue\u001b[0m\u001b[1;33m\u001b[0m\u001b[1;33m\u001b[0m\u001b[0m\n",
      "\u001b[1;31mTypeError\u001b[0m: 'NoneType' object is not iterable"
     ]
    }
   ],
   "source": [
    "all(None)"
   ]
  },
  {
   "cell_type": "code",
   "execution_count": 8,
   "metadata": {},
   "outputs": [
    {
     "ename": "TypeError",
     "evalue": "all() missing 1 required positional argument: 'iterable'",
     "output_type": "error",
     "traceback": [
      "\u001b[1;31m---------------------------------------------------------------------------\u001b[0m",
      "\u001b[1;31mTypeError\u001b[0m                                 Traceback (most recent call last)",
      "\u001b[1;32m<ipython-input-8-38d4e417e14f>\u001b[0m in \u001b[0;36m<module>\u001b[1;34m\u001b[0m\n\u001b[1;32m----> 1\u001b[1;33m \u001b[0mall\u001b[0m\u001b[1;33m(\u001b[0m\u001b[1;33m)\u001b[0m\u001b[1;33m\u001b[0m\u001b[1;33m\u001b[0m\u001b[0m\n\u001b[0m",
      "\u001b[1;31mTypeError\u001b[0m: all() missing 1 required positional argument: 'iterable'"
     ]
    }
   ],
   "source": [
    "all()"
   ]
  },
  {
   "cell_type": "code",
   "execution_count": 9,
   "metadata": {},
   "outputs": [
    {
     "data": {
      "text/plain": [
       "False"
      ]
     },
     "execution_count": 9,
     "metadata": {},
     "output_type": "execute_result"
    }
   ],
   "source": [
    "all(range(10))"
   ]
  },
  {
   "cell_type": "code",
   "execution_count": 10,
   "metadata": {},
   "outputs": [
    {
     "data": {
      "text/plain": [
       "False"
      ]
     },
     "execution_count": 10,
     "metadata": {},
     "output_type": "execute_result"
    }
   ],
   "source": [
    "all(list(range(10)))"
   ]
  },
  {
   "cell_type": "markdown",
   "metadata": {},
   "source": [
    "### 3. any(iterable)"
   ]
  },
  {
   "cell_type": "markdown",
   "metadata": {},
   "source": [
    "如果iterable的任一元素为真则返回True。如果迭代器为空，返回false"
   ]
  },
  {
   "cell_type": "markdown",
   "metadata": {},
   "source": [
    "### 4. ascii(object)"
   ]
  },
  {
   "cell_type": "markdown",
   "metadata": {},
   "source": [
    "- 返回一个对象可打印的字符串。\n",
    "- 类似repr()，非ASCII编码的字符，会使用\\x\\u\\U转义\n",
    "- ascii() 函数会将所有非 ascii 字符替换为转义字符\n",
    "- 任意对象包含字符串，列表，元组等"
   ]
  },
  {
   "cell_type": "code",
   "execution_count": 12,
   "metadata": {},
   "outputs": [
    {
     "data": {
      "text/plain": [
       "\"'hello !@#$'\""
      ]
     },
     "execution_count": 12,
     "metadata": {},
     "output_type": "execute_result"
    }
   ],
   "source": [
    "ascii(\"hello !@#$\")"
   ]
  },
  {
   "cell_type": "code",
   "execution_count": 13,
   "metadata": {},
   "outputs": [
    {
     "data": {
      "text/plain": [
       "\"'\\\\u6211\\\\u662f\\\\u6c49\\\\u5b57'\""
      ]
     },
     "execution_count": 13,
     "metadata": {},
     "output_type": "execute_result"
    }
   ],
   "source": [
    "ascii(\"我是汉字\")"
   ]
  },
  {
   "cell_type": "code",
   "execution_count": 14,
   "metadata": {},
   "outputs": [
    {
     "data": {
      "text/plain": [
       "\"'\\\\u03a9\\\\u2103'\""
      ]
     },
     "execution_count": 14,
     "metadata": {},
     "output_type": "execute_result"
    }
   ],
   "source": [
    "ascii(\"Ω℃\")"
   ]
  },
  {
   "cell_type": "code",
   "execution_count": 16,
   "metadata": {},
   "outputs": [
    {
     "data": {
      "text/plain": [
       "\"[1, 2, 3, '\\\\u03b1\\\\u03b2\\\\u03b3']\""
      ]
     },
     "execution_count": 16,
     "metadata": {},
     "output_type": "execute_result"
    }
   ],
   "source": [
    "ascii([1,2,3,'αβγ'])"
   ]
  },
  {
   "cell_type": "markdown",
   "metadata": {},
   "source": [
    "### 5. bin(x)"
   ]
  },
  {
   "cell_type": "markdown",
   "metadata": {},
   "source": [
    "- 将一个整数转变为一个前缀为\"0b\"的二进制字符串\n",
    "- 不需要前缀时，使用format(x, 'b')或f'{x:b}'"
   ]
  },
  {
   "cell_type": "code",
   "execution_count": 17,
   "metadata": {},
   "outputs": [
    {
     "data": {
      "text/plain": [
       "'0b11'"
      ]
     },
     "execution_count": 17,
     "metadata": {},
     "output_type": "execute_result"
    }
   ],
   "source": [
    "bin(3)"
   ]
  },
  {
   "cell_type": "code",
   "execution_count": 18,
   "metadata": {},
   "outputs": [
    {
     "data": {
      "text/plain": [
       "'-0b1010'"
      ]
     },
     "execution_count": 18,
     "metadata": {},
     "output_type": "execute_result"
    }
   ],
   "source": [
    "bin(-10)"
   ]
  },
  {
   "cell_type": "code",
   "execution_count": 19,
   "metadata": {},
   "outputs": [
    {
     "data": {
      "text/plain": [
       "('0b1110', '1110')"
      ]
     },
     "execution_count": 19,
     "metadata": {},
     "output_type": "execute_result"
    }
   ],
   "source": [
    "(format(14, '#b'), format(14, 'b'))"
   ]
  },
  {
   "cell_type": "code",
   "execution_count": 21,
   "metadata": {},
   "outputs": [
    {
     "data": {
      "text/plain": [
       "('0b1110', '1110')"
      ]
     },
     "execution_count": 21,
     "metadata": {},
     "output_type": "execute_result"
    }
   ],
   "source": [
    "f'{14:#b}', f'{14:b}'"
   ]
  },
  {
   "cell_type": "markdown",
   "metadata": {},
   "source": [
    "### 6. class bool([x])"
   ]
  },
  {
   "cell_type": "markdown",
   "metadata": {},
   "source": [
    "- x使用标准的真值测试过程转换，返回一个布尔值。\n",
    "- x是假的或者被省略，返回false；其他返回true。\n",
    "- bool类是int的子类"
   ]
  },
  {
   "cell_type": "code",
   "execution_count": 22,
   "metadata": {},
   "outputs": [
    {
     "data": {
      "text/plain": [
       "False"
      ]
     },
     "execution_count": 22,
     "metadata": {},
     "output_type": "execute_result"
    }
   ],
   "source": [
    "# 缺省参数时，返回false\n",
    "bool()"
   ]
  },
  {
   "cell_type": "code",
   "execution_count": 23,
   "metadata": {},
   "outputs": [
    {
     "data": {
      "text/plain": [
       "False"
      ]
     },
     "execution_count": 23,
     "metadata": {},
     "output_type": "execute_result"
    }
   ],
   "source": [
    "bool(None)"
   ]
  },
  {
   "cell_type": "code",
   "execution_count": 24,
   "metadata": {},
   "outputs": [
    {
     "data": {
      "text/plain": [
       "False"
      ]
     },
     "execution_count": 24,
     "metadata": {},
     "output_type": "execute_result"
    }
   ],
   "source": [
    "bool('')"
   ]
  },
  {
   "cell_type": "code",
   "execution_count": 25,
   "metadata": {},
   "outputs": [
    {
     "data": {
      "text/plain": [
       "False"
      ]
     },
     "execution_count": 25,
     "metadata": {},
     "output_type": "execute_result"
    }
   ],
   "source": [
    "bool(0)"
   ]
  },
  {
   "cell_type": "markdown",
   "metadata": {},
   "source": [
    "### 7. breakpoint(*args, **kws)"
   ]
  },
  {
   "cell_type": "markdown",
   "metadata": {},
   "source": [
    "### 8. class bytearray([source[, encoding[, errors]]])"
   ]
  },
  {
   "cell_type": "markdown",
   "metadata": {},
   "source": [
    "- 返回一个新的bytes数组。\n",
    "- bytearray类是一个可变序列，包含范围为0<=x<256的整数。\n",
    "- 它有可变序列大部分常见的方法，同时有bytes类型的大部分方法\n",
    "- source如果是一个string，必须提供encoding参数；bytearray()会使用str.encode()方法将string转变为bytes。\n",
    "- 如果是一个integer，会初始化大小为该数字的数组，并使用null字节填充。\n",
    "- 如果是一个符合buffer接口的对象，该对象的只读buffer会用来初始化字节数组。\n",
    "- 如果是一个iterable可迭代对象，它的元素范围必须是[0, 256)的整数，它会被用作数组的初始内容。\n",
    "- 如果没有实参，则创建大小为0的数组。"
   ]
  },
  {
   "cell_type": "code",
   "execution_count": 5,
   "metadata": {},
   "outputs": [
    {
     "data": {
      "text/plain": [
       "bytearray(b'')"
      ]
     },
     "execution_count": 5,
     "metadata": {},
     "output_type": "execute_result"
    }
   ],
   "source": [
    "bytearray()"
   ]
  },
  {
   "cell_type": "code",
   "execution_count": 6,
   "metadata": {},
   "outputs": [
    {
     "data": {
      "text/plain": [
       "bytearray(b'\\x01\\x02\\x03')"
      ]
     },
     "execution_count": 6,
     "metadata": {},
     "output_type": "execute_result"
    }
   ],
   "source": [
    "bytearray([1, 2, 3])"
   ]
  },
  {
   "cell_type": "code",
   "execution_count": 10,
   "metadata": {},
   "outputs": [
    {
     "data": {
      "text/plain": [
       "bytearray(b'runoob1')"
      ]
     },
     "execution_count": 10,
     "metadata": {},
     "output_type": "execute_result"
    }
   ],
   "source": [
    "bytearray('runoob1', 'utf-8')"
   ]
  },
  {
   "cell_type": "code",
   "execution_count": 11,
   "metadata": {},
   "outputs": [
    {
     "data": {
      "text/plain": [
       "bytearray(b'python3')"
      ]
     },
     "execution_count": 11,
     "metadata": {},
     "output_type": "execute_result"
    }
   ],
   "source": [
    "bytearray('python3', 'ascii')"
   ]
  },
  {
   "cell_type": "code",
   "execution_count": 14,
   "metadata": {},
   "outputs": [
    {
     "data": {
      "text/plain": [
       "bytearray(b'\\xe6\\x88\\x91\\xe6\\x98\\xaf')"
      ]
     },
     "execution_count": 14,
     "metadata": {},
     "output_type": "execute_result"
    }
   ],
   "source": [
    "bytearray('我是', 'utf-8')"
   ]
  },
  {
   "cell_type": "markdown",
   "metadata": {},
   "source": [
    "### 9. class bytes([source[, encoding[,errors]]])"
   ]
  },
  {
   "cell_type": "markdown",
   "metadata": {},
   "source": [
    "- 返回一个新的bytes对象，是一个不可变序列，包含范围为[0,256]的整数。\n",
    "- bytes是bytearray的不可变版本。"
   ]
  },
  {
   "cell_type": "code",
   "execution_count": 15,
   "metadata": {},
   "outputs": [
    {
     "data": {
      "text/plain": [
       "b'\\x01\\x02\\x03'"
      ]
     },
     "execution_count": 15,
     "metadata": {},
     "output_type": "execute_result"
    }
   ],
   "source": [
    "bytes([1, 2, 3])"
   ]
  },
  {
   "cell_type": "code",
   "execution_count": 16,
   "metadata": {},
   "outputs": [
    {
     "data": {
      "text/plain": [
       "b'python3'"
      ]
     },
     "execution_count": 16,
     "metadata": {},
     "output_type": "execute_result"
    }
   ],
   "source": [
    "bytes('python3', 'ascii')"
   ]
  },
  {
   "cell_type": "code",
   "execution_count": 17,
   "metadata": {},
   "outputs": [
    {
     "data": {
      "text/plain": [
       "b'\\xe5\\x93\\x88\\xe5\\x93\\x88'"
      ]
     },
     "execution_count": 17,
     "metadata": {},
     "output_type": "execute_result"
    }
   ],
   "source": [
    "bytes('哈哈', 'utf-8')"
   ]
  },
  {
   "cell_type": "markdown",
   "metadata": {},
   "source": [
    "### 10. callable(object)"
   ]
  },
  {
   "cell_type": "markdown",
   "metadata": {},
   "source": [
    "- 如果参数object是可调用的就返回True，否则返回false。\n",
    "- 返回true，调用仍可能失败\n",
    "- 类是可调用的\n",
    "- 如果实例所属的类有__call()则它就是可调用的"
   ]
  },
  {
   "cell_type": "code",
   "execution_count": 18,
   "metadata": {},
   "outputs": [
    {
     "data": {
      "text/plain": [
       "False"
      ]
     },
     "execution_count": 18,
     "metadata": {},
     "output_type": "execute_result"
    }
   ],
   "source": [
    "callable(0)"
   ]
  },
  {
   "cell_type": "code",
   "execution_count": 19,
   "metadata": {},
   "outputs": [
    {
     "data": {
      "text/plain": [
       "True"
      ]
     },
     "execution_count": 19,
     "metadata": {},
     "output_type": "execute_result"
    }
   ],
   "source": [
    "callable(sum)"
   ]
  },
  {
   "cell_type": "code",
   "execution_count": 20,
   "metadata": {},
   "outputs": [],
   "source": [
    "class A:\n",
    "    def method(self):\n",
    "        return 0"
   ]
  },
  {
   "cell_type": "code",
   "execution_count": 21,
   "metadata": {},
   "outputs": [
    {
     "data": {
      "text/plain": [
       "True"
      ]
     },
     "execution_count": 21,
     "metadata": {},
     "output_type": "execute_result"
    }
   ],
   "source": [
    "# 类返回true\n",
    "callable(A)"
   ]
  },
  {
   "cell_type": "code",
   "execution_count": 23,
   "metadata": {},
   "outputs": [
    {
     "data": {
      "text/plain": [
       "False"
      ]
     },
     "execution_count": 23,
     "metadata": {},
     "output_type": "execute_result"
    }
   ],
   "source": [
    "# 没有实现__call__,返回false\n",
    "a = A()\n",
    "callable(a)"
   ]
  },
  {
   "cell_type": "code",
   "execution_count": 24,
   "metadata": {},
   "outputs": [],
   "source": [
    "class B:\n",
    "    def __call__(self):\n",
    "        return 9"
   ]
  },
  {
   "cell_type": "code",
   "execution_count": 25,
   "metadata": {},
   "outputs": [
    {
     "data": {
      "text/plain": [
       "True"
      ]
     },
     "execution_count": 25,
     "metadata": {},
     "output_type": "execute_result"
    }
   ],
   "source": [
    "# 实现__call__，返回true\n",
    "callable(B)"
   ]
  },
  {
   "cell_type": "code",
   "execution_count": 26,
   "metadata": {},
   "outputs": [
    {
     "data": {
      "text/plain": [
       "True"
      ]
     },
     "execution_count": 26,
     "metadata": {},
     "output_type": "execute_result"
    }
   ],
   "source": [
    "b = B()\n",
    "callable(b)"
   ]
  },
  {
   "cell_type": "markdown",
   "metadata": {},
   "source": [
    "### 11. chr(i)"
   ]
  },
  {
   "cell_type": "markdown",
   "metadata": {},
   "source": [
    "- 返回Unicode码位为整数i的字符的字符串格式。\n",
    "- ord()的逆函数\n",
    "- 实参的合法范围是0到1114111（16进制表示是0x10FFFF）"
   ]
  },
  {
   "cell_type": "code",
   "execution_count": 28,
   "metadata": {},
   "outputs": [
    {
     "data": {
      "text/plain": [
       "'a'"
      ]
     },
     "execution_count": 28,
     "metadata": {},
     "output_type": "execute_result"
    }
   ],
   "source": [
    "chr(97)"
   ]
  },
  {
   "cell_type": "code",
   "execution_count": 29,
   "metadata": {},
   "outputs": [
    {
     "data": {
      "text/plain": [
       "'€'"
      ]
     },
     "execution_count": 29,
     "metadata": {},
     "output_type": "execute_result"
    }
   ],
   "source": [
    "chr(8364)"
   ]
  },
  {
   "cell_type": "code",
   "execution_count": 31,
   "metadata": {},
   "outputs": [
    {
     "data": {
      "text/plain": [
       "21704"
      ]
     },
     "execution_count": 31,
     "metadata": {},
     "output_type": "execute_result"
    }
   ],
   "source": [
    "ord('哈')"
   ]
  },
  {
   "cell_type": "code",
   "execution_count": 32,
   "metadata": {},
   "outputs": [
    {
     "data": {
      "text/plain": [
       "'哈'"
      ]
     },
     "execution_count": 32,
     "metadata": {},
     "output_type": "execute_result"
    }
   ],
   "source": [
    "chr(21704)"
   ]
  },
  {
   "cell_type": "code",
   "execution_count": 33,
   "metadata": {},
   "outputs": [
    {
     "data": {
      "text/plain": [
       "'0x54c8'"
      ]
     },
     "execution_count": 33,
     "metadata": {},
     "output_type": "execute_result"
    }
   ],
   "source": [
    "hex(21704)"
   ]
  },
  {
   "cell_type": "markdown",
   "metadata": {},
   "source": [
    "### 12. @classmethod"
   ]
  },
  {
   "cell_type": "markdown",
   "metadata": {},
   "source": [
    "- 把一个方法封装成类方法\n",
    "- 一个类方法把类自己作为第一个实参，就像一个实例方法把实例自己作为第一个实参。\n",
    "- @classmethod这样的形式成为函数的decorator（装饰器）"
   ]
  },
  {
   "cell_type": "code",
   "execution_count": 3,
   "metadata": {},
   "outputs": [],
   "source": [
    "class A:\n",
    "    bar = 1\n",
    "    def func1(self):\n",
    "        print('foo')\n",
    "    @classmethod\n",
    "    def func2(cls):\n",
    "        print('func2')\n",
    "        print(cls.bar)\n",
    "        cls().func1()"
   ]
  },
  {
   "cell_type": "code",
   "execution_count": 4,
   "metadata": {},
   "outputs": [
    {
     "name": "stdout",
     "output_type": "stream",
     "text": [
      "func2\n",
      "1\n",
      "foo\n"
     ]
    }
   ],
   "source": [
    "A.func2()"
   ]
  },
  {
   "cell_type": "code",
   "execution_count": 5,
   "metadata": {},
   "outputs": [
    {
     "name": "stdout",
     "output_type": "stream",
     "text": [
      "func2\n",
      "1\n",
      "foo\n"
     ]
    }
   ],
   "source": [
    "A().func2()"
   ]
  },
  {
   "cell_type": "markdown",
   "metadata": {},
   "source": [
    "### 13. compile(source,filename,mode,flags=0,dont_inherit=False,optimize=-1)"
   ]
  },
  {
   "cell_type": "markdown",
   "metadata": {},
   "source": [
    "- 将一个字符串编译为字节码\n",
    "- source 字符串或者AST对象，字节代码对象\n",
    "- filename 代码文件名称，如果不是从文件读取代码则传递一些可辨认的值\n",
    "- mode 指定编译代码的种类。可以指定exec,eval,single\n",
    "- flags 变量作用域，局部命名空间，如果被提供，可以是任何映射对象\n",
    "- flags和dont_inherit是用来控制编译源码时的标志"
   ]
  },
  {
   "cell_type": "code",
   "execution_count": 20,
   "metadata": {},
   "outputs": [
    {
     "data": {
      "text/plain": [
       "<code object <module> at 0x000001BF70897ED0, file \"\", line 1>"
      ]
     },
     "execution_count": 20,
     "metadata": {},
     "output_type": "execute_result"
    }
   ],
   "source": [
    "ss = 'print(\"hello world\")'\n",
    "cc = compile(ss, '', 'exec')\n",
    "cc"
   ]
  },
  {
   "cell_type": "code",
   "execution_count": 21,
   "metadata": {},
   "outputs": [
    {
     "name": "stdout",
     "output_type": "stream",
     "text": [
      "hello world\n"
     ]
    }
   ],
   "source": [
    "exec(cc)"
   ]
  },
  {
   "cell_type": "markdown",
   "metadata": {},
   "source": [
    "### 14. class complex([real[,imag]])"
   ]
  },
  {
   "cell_type": "markdown",
   "metadata": {},
   "source": [
    "- 返回值为real+imag*1j的复数，或将字符串或数字转换为复数。\n",
    "- 第一个形参是字符串时，不能有第二个形参，第一个形参被解释为复数。\n",
    "- 第二个形参不能是字符串。\n",
    "- 每个实参都可以是任意数值类型（包括复数）。\n",
    "- 如果两个实参都省略，返回0j\n",
    "- 字符串在+或-的周围不能有空格。"
   ]
  },
  {
   "cell_type": "code",
   "execution_count": 7,
   "metadata": {},
   "outputs": [
    {
     "data": {
      "text/plain": [
       "(1+2j)"
      ]
     },
     "execution_count": 7,
     "metadata": {},
     "output_type": "execute_result"
    }
   ],
   "source": [
    "complex('1+2j')"
   ]
  },
  {
   "cell_type": "code",
   "execution_count": 8,
   "metadata": {},
   "outputs": [
    {
     "data": {
      "text/plain": [
       "(2+4j)"
      ]
     },
     "execution_count": 8,
     "metadata": {},
     "output_type": "execute_result"
    }
   ],
   "source": [
    "complex(1 + 2j, 2 - 1j)"
   ]
  },
  {
   "cell_type": "code",
   "execution_count": 9,
   "metadata": {},
   "outputs": [
    {
     "data": {
      "text/plain": [
       "0j"
      ]
     },
     "execution_count": 9,
     "metadata": {},
     "output_type": "execute_result"
    }
   ],
   "source": [
    "complex()"
   ]
  },
  {
   "cell_type": "markdown",
   "metadata": {},
   "source": [
    "### 15. delattr(object,name)"
   ]
  },
  {
   "cell_type": "markdown",
   "metadata": {},
   "source": [
    "- 实参是一个对象和一个字符串。\n",
    "- 字符串必须是对象的某个属性。\n",
    "- 如果对象允许，该函数将删除指定的属性。\n",
    "- delattr(x, 'foobar')等价于del x.foobar"
   ]
  },
  {
   "cell_type": "code",
   "execution_count": 14,
   "metadata": {},
   "outputs": [],
   "source": [
    "class B:\n",
    "    x = 10\n",
    "    y = -5"
   ]
  },
  {
   "cell_type": "code",
   "execution_count": 15,
   "metadata": {},
   "outputs": [],
   "source": [
    "delattr(B, 'x')"
   ]
  },
  {
   "cell_type": "code",
   "execution_count": 16,
   "metadata": {},
   "outputs": [],
   "source": [
    "pp = B()"
   ]
  },
  {
   "cell_type": "code",
   "execution_count": 17,
   "metadata": {},
   "outputs": [
    {
     "ename": "AttributeError",
     "evalue": "'B' object has no attribute 'x'",
     "output_type": "error",
     "traceback": [
      "\u001b[1;31m---------------------------------------------------------------------------\u001b[0m",
      "\u001b[1;31mAttributeError\u001b[0m                            Traceback (most recent call last)",
      "\u001b[1;32m<ipython-input-17-1edcb88a507c>\u001b[0m in \u001b[0;36m<module>\u001b[1;34m\u001b[0m\n\u001b[1;32m----> 1\u001b[1;33m \u001b[0mpp\u001b[0m\u001b[1;33m.\u001b[0m\u001b[0mx\u001b[0m\u001b[1;33m\u001b[0m\u001b[1;33m\u001b[0m\u001b[0m\n\u001b[0m",
      "\u001b[1;31mAttributeError\u001b[0m: 'B' object has no attribute 'x'"
     ]
    }
   ],
   "source": [
    "pp.x"
   ]
  },
  {
   "cell_type": "code",
   "execution_count": 18,
   "metadata": {},
   "outputs": [
    {
     "data": {
      "text/plain": [
       "-5"
      ]
     },
     "execution_count": 18,
     "metadata": {},
     "output_type": "execute_result"
    }
   ],
   "source": [
    "pp.y"
   ]
  },
  {
   "cell_type": "markdown",
   "metadata": {},
   "source": [
    "### 16. class dict(**kwarg)\n",
    "### class dict(mapping,**kwarg)\n",
    "### class dict(iterable, **kwarg)"
   ]
  },
  {
   "cell_type": "markdown",
   "metadata": {},
   "source": [
    "- 创建一个新的字典\n",
    "- **kwargs 关键字\n",
    "- mapping 元素的容器\n",
    "- iterable 可迭代对象"
   ]
  },
  {
   "cell_type": "code",
   "execution_count": 1,
   "metadata": {},
   "outputs": [
    {
     "data": {
      "text/plain": [
       "{'a': 'a', 'b': 'b', 't': 't'}"
      ]
     },
     "execution_count": 1,
     "metadata": {},
     "output_type": "execute_result"
    }
   ],
   "source": [
    "# 关键字创建字典\n",
    "dict(a='a', b='b', t='t')"
   ]
  },
  {
   "cell_type": "code",
   "execution_count": 3,
   "metadata": {},
   "outputs": [
    {
     "data": {
      "text/plain": [
       "{'one': 1, 'two': 2, 'three': 3}"
      ]
     },
     "execution_count": 3,
     "metadata": {},
     "output_type": "execute_result"
    }
   ],
   "source": [
    "# 映射函数方式来构造字典\n",
    "dict(zip(['one', 'two', 'three'], [1, 2, 3]))"
   ]
  },
  {
   "cell_type": "code",
   "execution_count": 4,
   "metadata": {},
   "outputs": [
    {
     "data": {
      "text/plain": [
       "{'one': '1', 'two': 2, 'three': 3}"
      ]
     },
     "execution_count": 4,
     "metadata": {},
     "output_type": "execute_result"
    }
   ],
   "source": [
    "# 可迭代对象方式来构造字典\n",
    "dict([('one', '1'), ('two', 2), ('three', 3)])"
   ]
  },
  {
   "cell_type": "markdown",
   "metadata": {},
   "source": [
    "### 17. dir([object])"
   ]
  },
  {
   "cell_type": "markdown",
   "metadata": {},
   "source": [
    "- 如果没有实参，则返回当前本地作用域中的名称列表；\n",
    "- 如果有实参，它会尝试返回该对象的有效属性列表；\n",
    "- 如果对象有一个名为__dir__()的方法，该方法被调用，必须返回一个属性列表。\n",
    "- 如果对象不提供__dir__()，尝试从__dict__属性和类型对象收集信息;\n",
    "- 它试图返回最相关而不是最全的信息：\n",
    "- 如果对象时模块对象，则列表包含模块的属性名称；\n",
    "- 如果对象时类型或类对象，则列表包含它们的属性名称，并且递归查找所有基类的属性；\n",
    "- 否则，列表包含对象的属性名称"
   ]
  },
  {
   "cell_type": "code",
   "execution_count": 5,
   "metadata": {},
   "outputs": [
    {
     "data": {
      "text/plain": [
       "['In',\n",
       " 'Out',\n",
       " '_',\n",
       " '_1',\n",
       " '_3',\n",
       " '_4',\n",
       " '__',\n",
       " '___',\n",
       " '__builtin__',\n",
       " '__builtins__',\n",
       " '__doc__',\n",
       " '__loader__',\n",
       " '__name__',\n",
       " '__package__',\n",
       " '__spec__',\n",
       " '_dh',\n",
       " '_i',\n",
       " '_i1',\n",
       " '_i2',\n",
       " '_i3',\n",
       " '_i4',\n",
       " '_i5',\n",
       " '_ih',\n",
       " '_ii',\n",
       " '_iii',\n",
       " '_oh',\n",
       " 'exit',\n",
       " 'get_ipython',\n",
       " 'quit',\n",
       " 'struct']"
      ]
     },
     "execution_count": 5,
     "metadata": {},
     "output_type": "execute_result"
    }
   ],
   "source": [
    "import struct\n",
    "dir()"
   ]
  },
  {
   "cell_type": "code",
   "execution_count": 6,
   "metadata": {},
   "outputs": [
    {
     "data": {
      "text/plain": [
       "['Struct',\n",
       " '__all__',\n",
       " '__builtins__',\n",
       " '__cached__',\n",
       " '__doc__',\n",
       " '__file__',\n",
       " '__loader__',\n",
       " '__name__',\n",
       " '__package__',\n",
       " '__spec__',\n",
       " '_clearcache',\n",
       " 'calcsize',\n",
       " 'error',\n",
       " 'iter_unpack',\n",
       " 'pack',\n",
       " 'pack_into',\n",
       " 'unpack',\n",
       " 'unpack_from']"
      ]
     },
     "execution_count": 6,
     "metadata": {},
     "output_type": "execute_result"
    }
   ],
   "source": [
    "dir(struct)"
   ]
  },
  {
   "cell_type": "code",
   "execution_count": 7,
   "metadata": {},
   "outputs": [
    {
     "data": {
      "text/plain": [
       "['area', 'location', 'perimeter']"
      ]
     },
     "execution_count": 7,
     "metadata": {},
     "output_type": "execute_result"
    }
   ],
   "source": [
    "class Shape:\n",
    "    def __dir__(self):\n",
    "        return ['area', 'perimeter', 'location']\n",
    "    \n",
    "s = Shape()\n",
    "dir(s)"
   ]
  },
  {
   "cell_type": "markdown",
   "metadata": {},
   "source": [
    "### 18. divmod(a,b)"
   ]
  },
  {
   "cell_type": "markdown",
   "metadata": {},
   "source": [
    "- 将两个非复数数字作为实参，返回一对商和余数；\n",
    "- 对于整数，结构和(a//b, a%b)一致；\n",
    "- 对于浮点数，结果是(math.floor(a/b), a%b)；\n",
    "- 如果a%b非零，它的符号和b一样"
   ]
  },
  {
   "cell_type": "code",
   "execution_count": 8,
   "metadata": {},
   "outputs": [
    {
     "data": {
      "text/plain": [
       "(3, 1)"
      ]
     },
     "execution_count": 8,
     "metadata": {},
     "output_type": "execute_result"
    }
   ],
   "source": [
    "divmod(10, 3)"
   ]
  },
  {
   "cell_type": "code",
   "execution_count": 9,
   "metadata": {},
   "outputs": [
    {
     "data": {
      "text/plain": [
       "(2.0, 0.5)"
      ]
     },
     "execution_count": 9,
     "metadata": {},
     "output_type": "execute_result"
    }
   ],
   "source": [
    "divmod(5.5, 2.5)"
   ]
  },
  {
   "cell_type": "markdown",
   "metadata": {},
   "source": [
    "### 19. enumarate(iterable, start=0)"
   ]
  },
  {
   "cell_type": "markdown",
   "metadata": {},
   "source": [
    "- 返回一个枚举对象。\n",
    "- iterable必须是一个序列，或iterator，或其他支持迭代的对象。\n",
    "- enumarate()返回的迭代器的__next__()方法返回一个元组，里面包含一个计数值（从start开始，默认为0）和通过迭代iterable获得的值"
   ]
  },
  {
   "cell_type": "code",
   "execution_count": 10,
   "metadata": {},
   "outputs": [
    {
     "data": {
      "text/plain": [
       "<enumerate at 0x1bf70c26f30>"
      ]
     },
     "execution_count": 10,
     "metadata": {},
     "output_type": "execute_result"
    }
   ],
   "source": [
    "seasons = ['Spring', 'Summer', 'Fall', 'Winter']\n",
    "enumerate(seasons)"
   ]
  },
  {
   "cell_type": "code",
   "execution_count": 11,
   "metadata": {},
   "outputs": [
    {
     "data": {
      "text/plain": [
       "[(0, 'Spring'), (1, 'Summer'), (2, 'Fall'), (3, 'Winter')]"
      ]
     },
     "execution_count": 11,
     "metadata": {},
     "output_type": "execute_result"
    }
   ],
   "source": [
    "list(enumerate(seasons))"
   ]
  },
  {
   "cell_type": "code",
   "execution_count": 12,
   "metadata": {},
   "outputs": [
    {
     "data": {
      "text/plain": [
       "[(1, 'Spring'), (2, 'Summer'), (3, 'Fall'), (4, 'Winter')]"
      ]
     },
     "execution_count": 12,
     "metadata": {},
     "output_type": "execute_result"
    }
   ],
   "source": [
    "list(enumerate(seasons, start=1))"
   ]
  },
  {
   "cell_type": "code",
   "execution_count": 13,
   "metadata": {},
   "outputs": [
    {
     "data": {
      "text/plain": [
       "[(0, 'w'), (1, 'h'), (2, 'a'), (3, 't')]"
      ]
     },
     "execution_count": 13,
     "metadata": {},
     "output_type": "execute_result"
    }
   ],
   "source": [
    "h = 'what'\n",
    "list(enumerate(h))"
   ]
  },
  {
   "cell_type": "markdown",
   "metadata": {},
   "source": [
    "### 20. eval(expression[,globals[,locals]])"
   ]
  },
  {
   "cell_type": "markdown",
   "metadata": {},
   "source": [
    "- 实参是一个字符串，以及可选的globals和locals。\n",
    "- globals实参必须是一个字典。\n",
    "- locals可以是任何映射对象。"
   ]
  },
  {
   "cell_type": "code",
   "execution_count": 14,
   "metadata": {},
   "outputs": [
    {
     "data": {
      "text/plain": [
       "2"
      ]
     },
     "execution_count": 14,
     "metadata": {},
     "output_type": "execute_result"
    }
   ],
   "source": [
    "x = 1\n",
    "eval('x+1')"
   ]
  },
  {
   "cell_type": "markdown",
   "metadata": {},
   "source": [
    "### 21. exec(object[,globals[,locals]])"
   ]
  },
  {
   "cell_type": "markdown",
   "metadata": {},
   "source": [
    "- 支持动态执行python代码。\n",
    "- object必须是字符串或者代码对象。\n",
    "- 如果是字符串，那么该字符串将被解析为一系列python语句并执行。\n",
    "- 如果是代码对象，它将被直接执行。\n",
    "- 如果省略了可选项，代码将在当前作用域内执行。\n",
    "- 如果只提供了globals，则它必须是一个字典，该字典将被用于全局和局部变量。\n",
    "- 如果同时提供了globals和locals，它们分别被用于全局和局部变量。\n",
    "- locals可以是任何映射对象"
   ]
  },
  {
   "cell_type": "code",
   "execution_count": 15,
   "metadata": {},
   "outputs": [
    {
     "name": "stdout",
     "output_type": "stream",
     "text": [
      "0\n",
      "1\n",
      "2\n",
      "3\n",
      "4\n",
      "5\n",
      "6\n",
      "7\n",
      "8\n",
      "9\n"
     ]
    }
   ],
   "source": [
    "s = \"for i in range(0,10): print(i)\"\n",
    "exec(s)"
   ]
  },
  {
   "cell_type": "code",
   "execution_count": 16,
   "metadata": {},
   "outputs": [],
   "source": [
    "c = compile(s, '', 'exec')  # 编译为字节代码对象"
   ]
  },
  {
   "cell_type": "code",
   "execution_count": 17,
   "metadata": {},
   "outputs": [
    {
     "data": {
      "text/plain": [
       "<code object <module> at 0x000001BF70B57780, file \"\", line 1>"
      ]
     },
     "execution_count": 17,
     "metadata": {},
     "output_type": "execute_result"
    }
   ],
   "source": [
    "c"
   ]
  },
  {
   "cell_type": "code",
   "execution_count": 18,
   "metadata": {},
   "outputs": [
    {
     "name": "stdout",
     "output_type": "stream",
     "text": [
      "0\n",
      "1\n",
      "2\n",
      "3\n",
      "4\n",
      "5\n",
      "6\n",
      "7\n",
      "8\n",
      "9\n"
     ]
    }
   ],
   "source": [
    "exec(c)"
   ]
  },
  {
   "cell_type": "markdown",
   "metadata": {},
   "source": [
    "### 22. filter(funtion,iterable)"
   ]
  },
  {
   "cell_type": "markdown",
   "metadata": {},
   "source": [
    "- 用iterable中函数function返回真的那些元素，构建一个新的迭代器。\n",
    "- iterable可以是一个序列，一个支持迭代的容器，或一个迭代器。\n",
    "- 如果function是None，则会假设它是一个身份函数，即iterable中所有返回假的元素会被移除。"
   ]
  },
  {
   "cell_type": "code",
   "execution_count": 22,
   "metadata": {},
   "outputs": [],
   "source": [
    "def is_odd(n):\n",
    "    return n % 2 == 1\n",
    "\n",
    "newlist = filter(is_odd, [1,2,3,4,5,6,7,8,9,10])"
   ]
  },
  {
   "cell_type": "code",
   "execution_count": 23,
   "metadata": {},
   "outputs": [
    {
     "data": {
      "text/plain": [
       "<filter at 0x1bf70c9c278>"
      ]
     },
     "execution_count": 23,
     "metadata": {},
     "output_type": "execute_result"
    }
   ],
   "source": [
    "newlist"
   ]
  },
  {
   "cell_type": "code",
   "execution_count": 24,
   "metadata": {},
   "outputs": [
    {
     "name": "stdout",
     "output_type": "stream",
     "text": [
      "<filter object at 0x000001BF70C9C278>\n"
     ]
    }
   ],
   "source": [
    "print(newlist)"
   ]
  },
  {
   "cell_type": "code",
   "execution_count": 25,
   "metadata": {},
   "outputs": [
    {
     "data": {
      "text/plain": [
       "[1, 3, 5, 7, 9]"
      ]
     },
     "execution_count": 25,
     "metadata": {},
     "output_type": "execute_result"
    }
   ],
   "source": [
    "list(newlist)"
   ]
  },
  {
   "cell_type": "markdown",
   "metadata": {},
   "source": [
    "### 23. float([x])"
   ]
  },
  {
   "cell_type": "markdown",
   "metadata": {},
   "source": [
    "- 返回从数字或字符串x生成的浮点数。\n",
    "- 如果实参是字符串，则它必须是包含十进制数字的字符串，前面可以有符号，之前也可以有空格。\n",
    "- 实参也可以是NaN（非数字）、正负无穷大的字符串。\n",
    "- \"inf\" \"Inf\" \"INFINITY\"都表示正无穷大。\n",
    "- 如果没有实参，则返回0.0"
   ]
  },
  {
   "cell_type": "code",
   "execution_count": 26,
   "metadata": {},
   "outputs": [
    {
     "data": {
      "text/plain": [
       "1.23"
      ]
     },
     "execution_count": 26,
     "metadata": {},
     "output_type": "execute_result"
    }
   ],
   "source": [
    "float('+1.23')"
   ]
  },
  {
   "cell_type": "code",
   "execution_count": 27,
   "metadata": {},
   "outputs": [
    {
     "data": {
      "text/plain": [
       "-12345.0"
      ]
     },
     "execution_count": 27,
     "metadata": {},
     "output_type": "execute_result"
    }
   ],
   "source": [
    "float('   -12345\\n')"
   ]
  },
  {
   "cell_type": "code",
   "execution_count": 28,
   "metadata": {},
   "outputs": [
    {
     "data": {
      "text/plain": [
       "1000000.0"
      ]
     },
     "execution_count": 28,
     "metadata": {},
     "output_type": "execute_result"
    }
   ],
   "source": [
    "float('+1e6')"
   ]
  },
  {
   "cell_type": "code",
   "execution_count": 29,
   "metadata": {},
   "outputs": [
    {
     "data": {
      "text/plain": [
       "-inf"
      ]
     },
     "execution_count": 29,
     "metadata": {},
     "output_type": "execute_result"
    }
   ],
   "source": [
    "float('-Inf')"
   ]
  },
  {
   "cell_type": "markdown",
   "metadata": {},
   "source": [
    "### 24. format(value[,format_spec])"
   ]
  },
  {
   "cell_type": "markdown",
   "metadata": {},
   "source": [
    "- 将value转换为format_spec控制的“格式化”表示。\n",
    "- 默认的format_spec是一个空字符串，它和调用str(value)的结果相同"
   ]
  },
  {
   "cell_type": "code",
   "execution_count": 30,
   "metadata": {},
   "outputs": [
    {
     "data": {
      "text/plain": [
       "'world hello world'"
      ]
     },
     "execution_count": 30,
     "metadata": {},
     "output_type": "execute_result"
    }
   ],
   "source": [
    "\"{1} {0} {1}\".format(\"hello\", \"world\")"
   ]
  },
  {
   "cell_type": "code",
   "execution_count": 32,
   "metadata": {},
   "outputs": [
    {
     "data": {
      "text/plain": [
       "'网络名：菜鸟教程，地址 www.runoob.com'"
      ]
     },
     "execution_count": 32,
     "metadata": {},
     "output_type": "execute_result"
    }
   ],
   "source": [
    "\"网络名：{name}，地址 {url}\".format(name=\"菜鸟教程\", url=\"www.runoob.com\")"
   ]
  },
  {
   "cell_type": "code",
   "execution_count": 33,
   "metadata": {},
   "outputs": [
    {
     "data": {
      "text/plain": [
       "'网络名：菜鸟教程，地址 www.runoob.com'"
      ]
     },
     "execution_count": 33,
     "metadata": {},
     "output_type": "execute_result"
    }
   ],
   "source": [
    "# 通过字典设置参数\n",
    "site = {\"name\": \"菜鸟教程\", \"url\":\"www.runoob.com\"}\n",
    "\"网络名：{name}，地址 {url}\".format(**site)"
   ]
  },
  {
   "cell_type": "code",
   "execution_count": 34,
   "metadata": {},
   "outputs": [
    {
     "data": {
      "text/plain": [
       "'网络名：菜鸟教程，地址 www.runoob.com'"
      ]
     },
     "execution_count": 34,
     "metadata": {},
     "output_type": "execute_result"
    }
   ],
   "source": [
    "# 通过列表索引设置参数\n",
    "# “0”是必须的\n",
    "my_list = [\"菜鸟教程\", \"www.runoob.com\"]\n",
    "\"网络名：{0[0]}，地址 {0[1]}\".format(my_list)"
   ]
  },
  {
   "cell_type": "code",
   "execution_count": 36,
   "metadata": {},
   "outputs": [
    {
     "data": {
      "text/plain": [
       "'3.14'"
      ]
     },
     "execution_count": 36,
     "metadata": {},
     "output_type": "execute_result"
    }
   ],
   "source": [
    "# 保留小数点后两位\n",
    "\"{:.2f}\".format(3.1415926)"
   ]
  },
  {
   "cell_type": "code",
   "execution_count": 38,
   "metadata": {},
   "outputs": [
    {
     "data": {
      "text/plain": [
       "'+3.14'"
      ]
     },
     "execution_count": 38,
     "metadata": {},
     "output_type": "execute_result"
    }
   ],
   "source": [
    "# 带符号的保留小数点后两位\n",
    "\"{:+.2f}\".format(3.14159)"
   ]
  },
  {
   "cell_type": "code",
   "execution_count": 39,
   "metadata": {},
   "outputs": [
    {
     "data": {
      "text/plain": [
       "'3'"
      ]
     },
     "execution_count": 39,
     "metadata": {},
     "output_type": "execute_result"
    }
   ],
   "source": [
    "# 不带小数\n",
    "\"{:.0f}\".format(3.14)"
   ]
  },
  {
   "cell_type": "code",
   "execution_count": 41,
   "metadata": {},
   "outputs": [
    {
     "data": {
      "text/plain": [
       "'05'"
      ]
     },
     "execution_count": 41,
     "metadata": {},
     "output_type": "execute_result"
    }
   ],
   "source": [
    "# 左边填充0\n",
    "\"{:0>2d}\".format(5)"
   ]
  },
  {
   "cell_type": "code",
   "execution_count": 42,
   "metadata": {},
   "outputs": [
    {
     "data": {
      "text/plain": [
       "'4xxx'"
      ]
     },
     "execution_count": 42,
     "metadata": {},
     "output_type": "execute_result"
    }
   ],
   "source": [
    "# 右边填充x\n",
    "\"{:x<4d}\".format(4)"
   ]
  },
  {
   "cell_type": "code",
   "execution_count": 43,
   "metadata": {},
   "outputs": [
    {
     "data": {
      "text/plain": [
       "'1,000,000'"
      ]
     },
     "execution_count": 43,
     "metadata": {},
     "output_type": "execute_result"
    }
   ],
   "source": [
    "# 以逗号分隔的数字\n",
    "\"{:,}\".format(1000000)"
   ]
  },
  {
   "cell_type": "code",
   "execution_count": 46,
   "metadata": {},
   "outputs": [
    {
     "data": {
      "text/plain": [
       "'25.00%'"
      ]
     },
     "execution_count": 46,
     "metadata": {},
     "output_type": "execute_result"
    }
   ],
   "source": [
    "# 百分比格式\n",
    "\"{:.2%}\".format(0.25)"
   ]
  },
  {
   "cell_type": "code",
   "execution_count": 47,
   "metadata": {},
   "outputs": [
    {
     "data": {
      "text/plain": [
       "'1.00e+06'"
      ]
     },
     "execution_count": 47,
     "metadata": {},
     "output_type": "execute_result"
    }
   ],
   "source": [
    "# 指数格式\n",
    "\"{:.2e}\".format(1000000)"
   ]
  },
  {
   "cell_type": "code",
   "execution_count": 48,
   "metadata": {},
   "outputs": [
    {
     "data": {
      "text/plain": [
       "'        13'"
      ]
     },
     "execution_count": 48,
     "metadata": {},
     "output_type": "execute_result"
    }
   ],
   "source": [
    "# 右对齐\n",
    "\"{:>10}\".format(13)"
   ]
  },
  {
   "cell_type": "code",
   "execution_count": 49,
   "metadata": {},
   "outputs": [
    {
     "data": {
      "text/plain": [
       "'10        '"
      ]
     },
     "execution_count": 49,
     "metadata": {},
     "output_type": "execute_result"
    }
   ],
   "source": [
    "# 左对齐\n",
    "\"{:<10}\".format(10)"
   ]
  },
  {
   "cell_type": "code",
   "execution_count": 50,
   "metadata": {},
   "outputs": [
    {
     "data": {
      "text/plain": [
       "'    12    '"
      ]
     },
     "execution_count": 50,
     "metadata": {},
     "output_type": "execute_result"
    }
   ],
   "source": [
    "# 居中对齐\n",
    "\"{:^10}\".format(12)"
   ]
  },
  {
   "cell_type": "code",
   "execution_count": 51,
   "metadata": {},
   "outputs": [
    {
     "data": {
      "text/plain": [
       "'1100'"
      ]
     },
     "execution_count": 51,
     "metadata": {},
     "output_type": "execute_result"
    }
   ],
   "source": [
    "# 二进制\n",
    "'{:b}'.format(12)"
   ]
  },
  {
   "cell_type": "code",
   "execution_count": 52,
   "metadata": {},
   "outputs": [
    {
     "data": {
      "text/plain": [
       "'14'"
      ]
     },
     "execution_count": 52,
     "metadata": {},
     "output_type": "execute_result"
    }
   ],
   "source": [
    "# 八进制\n",
    "'{:o}'.format(12)"
   ]
  },
  {
   "cell_type": "code",
   "execution_count": 53,
   "metadata": {},
   "outputs": [
    {
     "data": {
      "text/plain": [
       "'12'"
      ]
     },
     "execution_count": 53,
     "metadata": {},
     "output_type": "execute_result"
    }
   ],
   "source": [
    "# 10进制\n",
    "'{:d}'.format(12)"
   ]
  },
  {
   "cell_type": "code",
   "execution_count": 54,
   "metadata": {},
   "outputs": [
    {
     "data": {
      "text/plain": [
       "'c'"
      ]
     },
     "execution_count": 54,
     "metadata": {},
     "output_type": "execute_result"
    }
   ],
   "source": [
    "# 16进制\n",
    "'{:x}'.format(12)"
   ]
  },
  {
   "cell_type": "code",
   "execution_count": 55,
   "metadata": {},
   "outputs": [
    {
     "data": {
      "text/plain": [
       "'0xc'"
      ]
     },
     "execution_count": 55,
     "metadata": {},
     "output_type": "execute_result"
    }
   ],
   "source": [
    "'{:#x}'.format(12)"
   ]
  },
  {
   "cell_type": "code",
   "execution_count": 56,
   "metadata": {},
   "outputs": [
    {
     "data": {
      "text/plain": [
       "'0XC'"
      ]
     },
     "execution_count": 56,
     "metadata": {},
     "output_type": "execute_result"
    }
   ],
   "source": [
    "'{:#X}'.format(12)"
   ]
  },
  {
   "cell_type": "markdown",
   "metadata": {},
   "source": [
    "### 25. class frozenset([iterable])"
   ]
  },
  {
   "cell_type": "markdown",
   "metadata": {},
   "source": [
    "- 返回一个新的frozenset对象，冻结的集合，不能再添加或删除任何元素。"
   ]
  },
  {
   "cell_type": "code",
   "execution_count": 58,
   "metadata": {},
   "outputs": [],
   "source": [
    "a = frozenset(range(10))"
   ]
  },
  {
   "cell_type": "code",
   "execution_count": 59,
   "metadata": {},
   "outputs": [
    {
     "data": {
      "text/plain": [
       "frozenset({0, 1, 2, 3, 4, 5, 6, 7, 8, 9})"
      ]
     },
     "execution_count": 59,
     "metadata": {},
     "output_type": "execute_result"
    }
   ],
   "source": [
    "a"
   ]
  },
  {
   "cell_type": "code",
   "execution_count": 60,
   "metadata": {},
   "outputs": [
    {
     "data": {
      "text/plain": [
       "frozenset({'e', 'h', 'l', 'o'})"
      ]
     },
     "execution_count": 60,
     "metadata": {},
     "output_type": "execute_result"
    }
   ],
   "source": [
    "frozenset('hello')  # 创建不可变集合"
   ]
  },
  {
   "cell_type": "markdown",
   "metadata": {},
   "source": [
    "### 26. getattr(object,name[,default])"
   ]
  },
  {
   "cell_type": "markdown",
   "metadata": {},
   "source": [
    "- 返回对象命名属性的值。\n",
    "- name必须是字符串。如果该字符串时对象的属性之一，则返回属性的值。\n",
    "- 如果指定的属性不存在，且提供了default值，则返回它。"
   ]
  },
  {
   "cell_type": "code",
   "execution_count": 64,
   "metadata": {},
   "outputs": [
    {
     "data": {
      "text/plain": [
       "10"
      ]
     },
     "execution_count": 64,
     "metadata": {},
     "output_type": "execute_result"
    }
   ],
   "source": [
    "class Ca:\n",
    "    aa = 10\n",
    "        \n",
    "getattr(Ca, 'aa')"
   ]
  },
  {
   "cell_type": "markdown",
   "metadata": {},
   "source": [
    "### 27. globals()"
   ]
  },
  {
   "cell_type": "markdown",
   "metadata": {},
   "source": [
    "- 返回表示当前全局符号表的字典。总是当前模块的字典"
   ]
  },
  {
   "cell_type": "code",
   "execution_count": 65,
   "metadata": {},
   "outputs": [
    {
     "data": {
      "text/plain": [
       "{'__name__': '__main__',\n",
       " '__doc__': 'Automatically created module for IPython interactive environment',\n",
       " '__package__': None,\n",
       " '__loader__': None,\n",
       " '__spec__': None,\n",
       " '__builtin__': <module 'builtins' (built-in)>,\n",
       " '__builtins__': <module 'builtins' (built-in)>,\n",
       " '_ih': ['',\n",
       "  \"dict(a='a', b='b', t='t')\",\n",
       "  \"# 映射函数方式来构造字典\\ndict(zip(['one', 'two', 'three', [1, 2, 3]]))\",\n",
       "  \"# 映射函数方式来构造字典\\ndict(zip(['one', 'two', 'three'], [1, 2, 3]))\",\n",
       "  \"# 可迭代对象方式来构造字典\\ndict([('one', '1'), ('two', 2), ('three', 3)])\",\n",
       "  'import struct\\ndir()',\n",
       "  'dir(struct)',\n",
       "  \"class Shape:\\n    def __dir__(self):\\n        return ['area', 'perimeter', 'location']\\n    \\ns = Shape()\\ndir(s)\",\n",
       "  'divmod(10, 3)',\n",
       "  'divmod(5.5, 2.5)',\n",
       "  \"seasons = ['Spring', 'Summer', 'Fall', 'Winter']\\nenumerate(seasons)\",\n",
       "  'list(enumerate(seasons))',\n",
       "  'list(enumerate(seasons, start=1))',\n",
       "  \"h = 'what'\\nlist(enumerate(h))\",\n",
       "  \"x = 1\\neval('x+1')\",\n",
       "  's = \"for i in range(0,10): print(i)\"\\nexec(s)',\n",
       "  \"c = compile(s, '', 'exec')  # 编译为字节代码对象\",\n",
       "  'c',\n",
       "  'exec(c)',\n",
       "  'ss = \\'print(\"hello world\")\\'',\n",
       "  'ss = \\'print(\"hello world\")\\'\\ncc = compile(ss, \\'\\', \\'exec\\')\\ncc',\n",
       "  'exec(cc)',\n",
       "  'def is_odd(n):\\n    return n % 2 == 1\\n\\nnewlist = filter(is_odd, [1,2,3,4,5,6,7,8,9,10])',\n",
       "  'newlist',\n",
       "  'print(newlist)',\n",
       "  'list(newlist)',\n",
       "  \"float('+1.23')\",\n",
       "  \"float('   -12345\\\\n')\",\n",
       "  \"float('+1e6')\",\n",
       "  \"float('-Inf')\",\n",
       "  '\"{1} {0} {1}\".format(\"hello\", \"world\")',\n",
       "  '\"网络名：{name}，地址{url}\".format(name=\"菜鸟教程\", url=\"www.runoob.com\")',\n",
       "  '\"网络名：{name}，地址 {url}\".format(name=\"菜鸟教程\", url=\"www.runoob.com\")',\n",
       "  '# 通过字典设置参数\\nsite = {\"name\": \"菜鸟教程\", \"url\":\"www.runoob.com\"}\\n\"网络名：{name}，地址 {url}\".format(**site)',\n",
       "  '# 通过列表索引设置参数\\n# “0”是必须的\\nmy_list = [\"菜鸟教程\", \"www.runoob.com\"]\\n\"网络名：{0[0]}，地址 {0[1]}\".format(my_list)',\n",
       "  '\"{:.2f}\".format(3.1415926)',\n",
       "  '# 保留小数点后两位\\n\"{:.2f}\".format(3.1415926)',\n",
       "  '# 带符号的保留小数点后两位\\n\"{:+.2f}\".format(314159)',\n",
       "  '# 带符号的保留小数点后两位\\n\"{:+.2f}\".format(3.14159)',\n",
       "  '# 不带小数\\n\"{:.0f}\".format(3.14)',\n",
       "  '# 左边填充0\\n\"{0>2d}\".format(5)',\n",
       "  '# 左边填充0\\n\"{:0>2d}\".format(5)',\n",
       "  '# 右边填充x\\n\"{:x<4d}\".format(4)',\n",
       "  '# 以逗号分隔的数字\\n\"{:,}\".format(1000000)',\n",
       "  '# 百分比格式\\n\"{:%}\".format(0.25)',\n",
       "  '# 百分比格式\\n\"{:2%}\".format(0.25)',\n",
       "  '# 百分比格式\\n\"{:.2%}\".format(0.25)',\n",
       "  '# 指数格式\\n\"{:.2e}\".format(1000000)',\n",
       "  '# 右对齐\\n\"{:>10}\".format(13)',\n",
       "  '# 左对齐\\n\"{:<10}\".format(10)',\n",
       "  '# 居中对齐\\n\"{:^10}\".format(12)',\n",
       "  \"# 进制\\n'{:b}'.format(12)\",\n",
       "  \"# 八进制\\n'{:o}'.format(12)\",\n",
       "  \"# 10进制\\n'{:d}'.format(12)\",\n",
       "  \"# 16进制\\n'{:x}'.format(12)\",\n",
       "  \"'{:#x}'.format(12)\",\n",
       "  \"'{:#X}'.format(12)\",\n",
       "  '- 返回一个新的frozenset对象，冻结的集合，不能再添加或删除任何元素。',\n",
       "  'a = frozenset(range(10))',\n",
       "  'a',\n",
       "  \"frozenset('hello')\",\n",
       "  'class Ca:\\n    def __init__(self):\\n        self.aa = 10\\n        self.bb = 12\\n        \\nD = Ca\\ngetattr(D, aa)',\n",
       "  \"class Ca:\\n    def __init__(self):\\n        self.aa = 10\\n        self.bb = 12\\n        \\nD = Ca\\ngetattr(D, 'aa')\",\n",
       "  \"class Ca:\\n    def __init__(self, aa, bb):\\n        self.aa = 10\\n        self.bb = 12\\n        \\nD = Ca\\ngetattr(D, 'aa')\",\n",
       "  \"class Ca:\\n    aa = 10\\n        \\ngetattr(Ca, 'aa')\",\n",
       "  'globals()'],\n",
       " '_oh': {1: {'a': 'a', 'b': 'b', 't': 't'},\n",
       "  3: {'one': 1, 'two': 2, 'three': 3},\n",
       "  4: {'one': '1', 'two': 2, 'three': 3},\n",
       "  5: ['In',\n",
       "   'Out',\n",
       "   '_',\n",
       "   '_1',\n",
       "   '_3',\n",
       "   '_4',\n",
       "   '__',\n",
       "   '___',\n",
       "   '__builtin__',\n",
       "   '__builtins__',\n",
       "   '__doc__',\n",
       "   '__loader__',\n",
       "   '__name__',\n",
       "   '__package__',\n",
       "   '__spec__',\n",
       "   '_dh',\n",
       "   '_i',\n",
       "   '_i1',\n",
       "   '_i2',\n",
       "   '_i3',\n",
       "   '_i4',\n",
       "   '_i5',\n",
       "   '_ih',\n",
       "   '_ii',\n",
       "   '_iii',\n",
       "   '_oh',\n",
       "   'exit',\n",
       "   'get_ipython',\n",
       "   'quit',\n",
       "   'struct'],\n",
       "  6: ['Struct',\n",
       "   '__all__',\n",
       "   '__builtins__',\n",
       "   '__cached__',\n",
       "   '__doc__',\n",
       "   '__file__',\n",
       "   '__loader__',\n",
       "   '__name__',\n",
       "   '__package__',\n",
       "   '__spec__',\n",
       "   '_clearcache',\n",
       "   'calcsize',\n",
       "   'error',\n",
       "   'iter_unpack',\n",
       "   'pack',\n",
       "   'pack_into',\n",
       "   'unpack',\n",
       "   'unpack_from'],\n",
       "  7: ['area', 'location', 'perimeter'],\n",
       "  8: (3, 1),\n",
       "  9: (2.0, 0.5),\n",
       "  10: <enumerate at 0x1bf70c26f30>,\n",
       "  11: [(0, 'Spring'), (1, 'Summer'), (2, 'Fall'), (3, 'Winter')],\n",
       "  12: [(1, 'Spring'), (2, 'Summer'), (3, 'Fall'), (4, 'Winter')],\n",
       "  13: [(0, 'w'), (1, 'h'), (2, 'a'), (3, 't')],\n",
       "  14: 2,\n",
       "  17: <code object <module> at 0x000001BF70B57780, file \"\", line 1>,\n",
       "  20: <code object <module> at 0x000001BF70897ED0, file \"\", line 1>,\n",
       "  23: <filter at 0x1bf70c9c278>,\n",
       "  25: [1, 3, 5, 7, 9],\n",
       "  26: 1.23,\n",
       "  27: -12345.0,\n",
       "  28: 1000000.0,\n",
       "  29: -inf,\n",
       "  30: 'world hello world',\n",
       "  31: '网络名：菜鸟教程，地址www.runoob.com',\n",
       "  32: '网络名：菜鸟教程，地址 www.runoob.com',\n",
       "  33: '网络名：菜鸟教程，地址 www.runoob.com',\n",
       "  34: '网络名：菜鸟教程，地址 www.runoob.com',\n",
       "  35: '3.14',\n",
       "  36: '3.14',\n",
       "  37: '+314159.00',\n",
       "  38: '+3.14',\n",
       "  39: '3',\n",
       "  41: '05',\n",
       "  42: '4xxx',\n",
       "  43: '1,000,000',\n",
       "  44: '25.000000%',\n",
       "  45: '25.000000%',\n",
       "  46: '25.00%',\n",
       "  47: '1.00e+06',\n",
       "  48: '        13',\n",
       "  49: '10        ',\n",
       "  50: '    12    ',\n",
       "  51: '1100',\n",
       "  52: '14',\n",
       "  53: '12',\n",
       "  54: 'c',\n",
       "  55: '0xc',\n",
       "  56: '0XC',\n",
       "  59: frozenset({0, 1, 2, 3, 4, 5, 6, 7, 8, 9}),\n",
       "  60: frozenset({'e', 'h', 'l', 'o'}),\n",
       "  64: 10},\n",
       " '_dh': ['E:\\\\learnpython\\\\常用模块'],\n",
       " 'In': ['',\n",
       "  \"dict(a='a', b='b', t='t')\",\n",
       "  \"# 映射函数方式来构造字典\\ndict(zip(['one', 'two', 'three', [1, 2, 3]]))\",\n",
       "  \"# 映射函数方式来构造字典\\ndict(zip(['one', 'two', 'three'], [1, 2, 3]))\",\n",
       "  \"# 可迭代对象方式来构造字典\\ndict([('one', '1'), ('two', 2), ('three', 3)])\",\n",
       "  'import struct\\ndir()',\n",
       "  'dir(struct)',\n",
       "  \"class Shape:\\n    def __dir__(self):\\n        return ['area', 'perimeter', 'location']\\n    \\ns = Shape()\\ndir(s)\",\n",
       "  'divmod(10, 3)',\n",
       "  'divmod(5.5, 2.5)',\n",
       "  \"seasons = ['Spring', 'Summer', 'Fall', 'Winter']\\nenumerate(seasons)\",\n",
       "  'list(enumerate(seasons))',\n",
       "  'list(enumerate(seasons, start=1))',\n",
       "  \"h = 'what'\\nlist(enumerate(h))\",\n",
       "  \"x = 1\\neval('x+1')\",\n",
       "  's = \"for i in range(0,10): print(i)\"\\nexec(s)',\n",
       "  \"c = compile(s, '', 'exec')  # 编译为字节代码对象\",\n",
       "  'c',\n",
       "  'exec(c)',\n",
       "  'ss = \\'print(\"hello world\")\\'',\n",
       "  'ss = \\'print(\"hello world\")\\'\\ncc = compile(ss, \\'\\', \\'exec\\')\\ncc',\n",
       "  'exec(cc)',\n",
       "  'def is_odd(n):\\n    return n % 2 == 1\\n\\nnewlist = filter(is_odd, [1,2,3,4,5,6,7,8,9,10])',\n",
       "  'newlist',\n",
       "  'print(newlist)',\n",
       "  'list(newlist)',\n",
       "  \"float('+1.23')\",\n",
       "  \"float('   -12345\\\\n')\",\n",
       "  \"float('+1e6')\",\n",
       "  \"float('-Inf')\",\n",
       "  '\"{1} {0} {1}\".format(\"hello\", \"world\")',\n",
       "  '\"网络名：{name}，地址{url}\".format(name=\"菜鸟教程\", url=\"www.runoob.com\")',\n",
       "  '\"网络名：{name}，地址 {url}\".format(name=\"菜鸟教程\", url=\"www.runoob.com\")',\n",
       "  '# 通过字典设置参数\\nsite = {\"name\": \"菜鸟教程\", \"url\":\"www.runoob.com\"}\\n\"网络名：{name}，地址 {url}\".format(**site)',\n",
       "  '# 通过列表索引设置参数\\n# “0”是必须的\\nmy_list = [\"菜鸟教程\", \"www.runoob.com\"]\\n\"网络名：{0[0]}，地址 {0[1]}\".format(my_list)',\n",
       "  '\"{:.2f}\".format(3.1415926)',\n",
       "  '# 保留小数点后两位\\n\"{:.2f}\".format(3.1415926)',\n",
       "  '# 带符号的保留小数点后两位\\n\"{:+.2f}\".format(314159)',\n",
       "  '# 带符号的保留小数点后两位\\n\"{:+.2f}\".format(3.14159)',\n",
       "  '# 不带小数\\n\"{:.0f}\".format(3.14)',\n",
       "  '# 左边填充0\\n\"{0>2d}\".format(5)',\n",
       "  '# 左边填充0\\n\"{:0>2d}\".format(5)',\n",
       "  '# 右边填充x\\n\"{:x<4d}\".format(4)',\n",
       "  '# 以逗号分隔的数字\\n\"{:,}\".format(1000000)',\n",
       "  '# 百分比格式\\n\"{:%}\".format(0.25)',\n",
       "  '# 百分比格式\\n\"{:2%}\".format(0.25)',\n",
       "  '# 百分比格式\\n\"{:.2%}\".format(0.25)',\n",
       "  '# 指数格式\\n\"{:.2e}\".format(1000000)',\n",
       "  '# 右对齐\\n\"{:>10}\".format(13)',\n",
       "  '# 左对齐\\n\"{:<10}\".format(10)',\n",
       "  '# 居中对齐\\n\"{:^10}\".format(12)',\n",
       "  \"# 进制\\n'{:b}'.format(12)\",\n",
       "  \"# 八进制\\n'{:o}'.format(12)\",\n",
       "  \"# 10进制\\n'{:d}'.format(12)\",\n",
       "  \"# 16进制\\n'{:x}'.format(12)\",\n",
       "  \"'{:#x}'.format(12)\",\n",
       "  \"'{:#X}'.format(12)\",\n",
       "  '- 返回一个新的frozenset对象，冻结的集合，不能再添加或删除任何元素。',\n",
       "  'a = frozenset(range(10))',\n",
       "  'a',\n",
       "  \"frozenset('hello')\",\n",
       "  'class Ca:\\n    def __init__(self):\\n        self.aa = 10\\n        self.bb = 12\\n        \\nD = Ca\\ngetattr(D, aa)',\n",
       "  \"class Ca:\\n    def __init__(self):\\n        self.aa = 10\\n        self.bb = 12\\n        \\nD = Ca\\ngetattr(D, 'aa')\",\n",
       "  \"class Ca:\\n    def __init__(self, aa, bb):\\n        self.aa = 10\\n        self.bb = 12\\n        \\nD = Ca\\ngetattr(D, 'aa')\",\n",
       "  \"class Ca:\\n    aa = 10\\n        \\ngetattr(Ca, 'aa')\",\n",
       "  'globals()'],\n",
       " 'Out': {1: {'a': 'a', 'b': 'b', 't': 't'},\n",
       "  3: {'one': 1, 'two': 2, 'three': 3},\n",
       "  4: {'one': '1', 'two': 2, 'three': 3},\n",
       "  5: ['In',\n",
       "   'Out',\n",
       "   '_',\n",
       "   '_1',\n",
       "   '_3',\n",
       "   '_4',\n",
       "   '__',\n",
       "   '___',\n",
       "   '__builtin__',\n",
       "   '__builtins__',\n",
       "   '__doc__',\n",
       "   '__loader__',\n",
       "   '__name__',\n",
       "   '__package__',\n",
       "   '__spec__',\n",
       "   '_dh',\n",
       "   '_i',\n",
       "   '_i1',\n",
       "   '_i2',\n",
       "   '_i3',\n",
       "   '_i4',\n",
       "   '_i5',\n",
       "   '_ih',\n",
       "   '_ii',\n",
       "   '_iii',\n",
       "   '_oh',\n",
       "   'exit',\n",
       "   'get_ipython',\n",
       "   'quit',\n",
       "   'struct'],\n",
       "  6: ['Struct',\n",
       "   '__all__',\n",
       "   '__builtins__',\n",
       "   '__cached__',\n",
       "   '__doc__',\n",
       "   '__file__',\n",
       "   '__loader__',\n",
       "   '__name__',\n",
       "   '__package__',\n",
       "   '__spec__',\n",
       "   '_clearcache',\n",
       "   'calcsize',\n",
       "   'error',\n",
       "   'iter_unpack',\n",
       "   'pack',\n",
       "   'pack_into',\n",
       "   'unpack',\n",
       "   'unpack_from'],\n",
       "  7: ['area', 'location', 'perimeter'],\n",
       "  8: (3, 1),\n",
       "  9: (2.0, 0.5),\n",
       "  10: <enumerate at 0x1bf70c26f30>,\n",
       "  11: [(0, 'Spring'), (1, 'Summer'), (2, 'Fall'), (3, 'Winter')],\n",
       "  12: [(1, 'Spring'), (2, 'Summer'), (3, 'Fall'), (4, 'Winter')],\n",
       "  13: [(0, 'w'), (1, 'h'), (2, 'a'), (3, 't')],\n",
       "  14: 2,\n",
       "  17: <code object <module> at 0x000001BF70B57780, file \"\", line 1>,\n",
       "  20: <code object <module> at 0x000001BF70897ED0, file \"\", line 1>,\n",
       "  23: <filter at 0x1bf70c9c278>,\n",
       "  25: [1, 3, 5, 7, 9],\n",
       "  26: 1.23,\n",
       "  27: -12345.0,\n",
       "  28: 1000000.0,\n",
       "  29: -inf,\n",
       "  30: 'world hello world',\n",
       "  31: '网络名：菜鸟教程，地址www.runoob.com',\n",
       "  32: '网络名：菜鸟教程，地址 www.runoob.com',\n",
       "  33: '网络名：菜鸟教程，地址 www.runoob.com',\n",
       "  34: '网络名：菜鸟教程，地址 www.runoob.com',\n",
       "  35: '3.14',\n",
       "  36: '3.14',\n",
       "  37: '+314159.00',\n",
       "  38: '+3.14',\n",
       "  39: '3',\n",
       "  41: '05',\n",
       "  42: '4xxx',\n",
       "  43: '1,000,000',\n",
       "  44: '25.000000%',\n",
       "  45: '25.000000%',\n",
       "  46: '25.00%',\n",
       "  47: '1.00e+06',\n",
       "  48: '        13',\n",
       "  49: '10        ',\n",
       "  50: '    12    ',\n",
       "  51: '1100',\n",
       "  52: '14',\n",
       "  53: '12',\n",
       "  54: 'c',\n",
       "  55: '0xc',\n",
       "  56: '0XC',\n",
       "  59: frozenset({0, 1, 2, 3, 4, 5, 6, 7, 8, 9}),\n",
       "  60: frozenset({'e', 'h', 'l', 'o'}),\n",
       "  64: 10},\n",
       " 'get_ipython': <bound method InteractiveShell.get_ipython of <ipykernel.zmqshell.ZMQInteractiveShell object at 0x000001BF6E9D9A20>>,\n",
       " 'exit': <IPython.core.autocall.ZMQExitAutocall at 0x1bf70703208>,\n",
       " 'quit': <IPython.core.autocall.ZMQExitAutocall at 0x1bf70703208>,\n",
       " '_': 10,\n",
       " '__': frozenset({'e', 'h', 'l', 'o'}),\n",
       " '___': frozenset({0, 1, 2, 3, 4, 5, 6, 7, 8, 9}),\n",
       " '_i': \"class Ca:\\n    aa = 10\\n        \\ngetattr(Ca, 'aa')\",\n",
       " '_ii': \"class Ca:\\n    def __init__(self, aa, bb):\\n        self.aa = 10\\n        self.bb = 12\\n        \\nD = Ca\\ngetattr(D, 'aa')\",\n",
       " '_iii': \"class Ca:\\n    def __init__(self):\\n        self.aa = 10\\n        self.bb = 12\\n        \\nD = Ca\\ngetattr(D, 'aa')\",\n",
       " '_i1': \"dict(a='a', b='b', t='t')\",\n",
       " '_1': {'a': 'a', 'b': 'b', 't': 't'},\n",
       " '_i2': \"# 映射函数方式来构造字典\\ndict(zip(['one', 'two', 'three', [1, 2, 3]]))\",\n",
       " '_i3': \"# 映射函数方式来构造字典\\ndict(zip(['one', 'two', 'three'], [1, 2, 3]))\",\n",
       " '_3': {'one': 1, 'two': 2, 'three': 3},\n",
       " '_i4': \"# 可迭代对象方式来构造字典\\ndict([('one', '1'), ('two', 2), ('three', 3)])\",\n",
       " '_4': {'one': '1', 'two': 2, 'three': 3},\n",
       " '_i5': 'import struct\\ndir()',\n",
       " 'struct': <module 'struct' from 'C:\\\\Program Files (x86)\\\\Anaconda3\\\\lib\\\\struct.py'>,\n",
       " '_5': ['In',\n",
       "  'Out',\n",
       "  '_',\n",
       "  '_1',\n",
       "  '_3',\n",
       "  '_4',\n",
       "  '__',\n",
       "  '___',\n",
       "  '__builtin__',\n",
       "  '__builtins__',\n",
       "  '__doc__',\n",
       "  '__loader__',\n",
       "  '__name__',\n",
       "  '__package__',\n",
       "  '__spec__',\n",
       "  '_dh',\n",
       "  '_i',\n",
       "  '_i1',\n",
       "  '_i2',\n",
       "  '_i3',\n",
       "  '_i4',\n",
       "  '_i5',\n",
       "  '_ih',\n",
       "  '_ii',\n",
       "  '_iii',\n",
       "  '_oh',\n",
       "  'exit',\n",
       "  'get_ipython',\n",
       "  'quit',\n",
       "  'struct'],\n",
       " '_i6': 'dir(struct)',\n",
       " '_6': ['Struct',\n",
       "  '__all__',\n",
       "  '__builtins__',\n",
       "  '__cached__',\n",
       "  '__doc__',\n",
       "  '__file__',\n",
       "  '__loader__',\n",
       "  '__name__',\n",
       "  '__package__',\n",
       "  '__spec__',\n",
       "  '_clearcache',\n",
       "  'calcsize',\n",
       "  'error',\n",
       "  'iter_unpack',\n",
       "  'pack',\n",
       "  'pack_into',\n",
       "  'unpack',\n",
       "  'unpack_from'],\n",
       " '_i7': \"class Shape:\\n    def __dir__(self):\\n        return ['area', 'perimeter', 'location']\\n    \\ns = Shape()\\ndir(s)\",\n",
       " 'Shape': __main__.Shape,\n",
       " 's': 'for i in range(0,10): print(i)',\n",
       " '_7': ['area', 'location', 'perimeter'],\n",
       " '_i8': 'divmod(10, 3)',\n",
       " '_8': (3, 1),\n",
       " '_i9': 'divmod(5.5, 2.5)',\n",
       " '_9': (2.0, 0.5),\n",
       " '_i10': \"seasons = ['Spring', 'Summer', 'Fall', 'Winter']\\nenumerate(seasons)\",\n",
       " 'seasons': ['Spring', 'Summer', 'Fall', 'Winter'],\n",
       " '_10': <enumerate at 0x1bf70c26f30>,\n",
       " '_i11': 'list(enumerate(seasons))',\n",
       " '_11': [(0, 'Spring'), (1, 'Summer'), (2, 'Fall'), (3, 'Winter')],\n",
       " '_i12': 'list(enumerate(seasons, start=1))',\n",
       " '_12': [(1, 'Spring'), (2, 'Summer'), (3, 'Fall'), (4, 'Winter')],\n",
       " '_i13': \"h = 'what'\\nlist(enumerate(h))\",\n",
       " 'h': 'what',\n",
       " '_13': [(0, 'w'), (1, 'h'), (2, 'a'), (3, 't')],\n",
       " '_i14': \"x = 1\\neval('x+1')\",\n",
       " 'x': 1,\n",
       " '_14': 2,\n",
       " '_i15': 's = \"for i in range(0,10): print(i)\"\\nexec(s)',\n",
       " 'i': 9,\n",
       " '_i16': \"c = compile(s, '', 'exec')  # 编译为字节代码对象\",\n",
       " 'c': <code object <module> at 0x000001BF70B57780, file \"\", line 1>,\n",
       " '_i17': 'c',\n",
       " '_17': <code object <module> at 0x000001BF70B57780, file \"\", line 1>,\n",
       " '_i18': 'exec(c)',\n",
       " '_i19': 'ss = \\'print(\"hello world\")\\'',\n",
       " 'ss': 'print(\"hello world\")',\n",
       " '_i20': 'ss = \\'print(\"hello world\")\\'\\ncc = compile(ss, \\'\\', \\'exec\\')\\ncc',\n",
       " 'cc': <code object <module> at 0x000001BF70897ED0, file \"\", line 1>,\n",
       " '_20': <code object <module> at 0x000001BF70897ED0, file \"\", line 1>,\n",
       " '_i21': 'exec(cc)',\n",
       " '_i22': 'def is_odd(n):\\n    return n % 2 == 1\\n\\nnewlist = filter(is_odd, [1,2,3,4,5,6,7,8,9,10])',\n",
       " 'is_odd': <function __main__.is_odd(n)>,\n",
       " 'newlist': <filter at 0x1bf70c9c278>,\n",
       " '_i23': 'newlist',\n",
       " '_23': <filter at 0x1bf70c9c278>,\n",
       " '_i24': 'print(newlist)',\n",
       " '_i25': 'list(newlist)',\n",
       " '_25': [1, 3, 5, 7, 9],\n",
       " '_i26': \"float('+1.23')\",\n",
       " '_26': 1.23,\n",
       " '_i27': \"float('   -12345\\\\n')\",\n",
       " '_27': -12345.0,\n",
       " '_i28': \"float('+1e6')\",\n",
       " '_28': 1000000.0,\n",
       " '_i29': \"float('-Inf')\",\n",
       " '_29': -inf,\n",
       " '_i30': '\"{1} {0} {1}\".format(\"hello\", \"world\")',\n",
       " '_30': 'world hello world',\n",
       " '_i31': '\"网络名：{name}，地址{url}\".format(name=\"菜鸟教程\", url=\"www.runoob.com\")',\n",
       " '_31': '网络名：菜鸟教程，地址www.runoob.com',\n",
       " '_i32': '\"网络名：{name}，地址 {url}\".format(name=\"菜鸟教程\", url=\"www.runoob.com\")',\n",
       " '_32': '网络名：菜鸟教程，地址 www.runoob.com',\n",
       " '_i33': '# 通过字典设置参数\\nsite = {\"name\": \"菜鸟教程\", \"url\":\"www.runoob.com\"}\\n\"网络名：{name}，地址 {url}\".format(**site)',\n",
       " 'site': {'name': '菜鸟教程', 'url': 'www.runoob.com'},\n",
       " '_33': '网络名：菜鸟教程，地址 www.runoob.com',\n",
       " '_i34': '# 通过列表索引设置参数\\n# “0”是必须的\\nmy_list = [\"菜鸟教程\", \"www.runoob.com\"]\\n\"网络名：{0[0]}，地址 {0[1]}\".format(my_list)',\n",
       " 'my_list': ['菜鸟教程', 'www.runoob.com'],\n",
       " '_34': '网络名：菜鸟教程，地址 www.runoob.com',\n",
       " '_i35': '\"{:.2f}\".format(3.1415926)',\n",
       " '_35': '3.14',\n",
       " '_i36': '# 保留小数点后两位\\n\"{:.2f}\".format(3.1415926)',\n",
       " '_36': '3.14',\n",
       " '_i37': '# 带符号的保留小数点后两位\\n\"{:+.2f}\".format(314159)',\n",
       " '_37': '+314159.00',\n",
       " '_i38': '# 带符号的保留小数点后两位\\n\"{:+.2f}\".format(3.14159)',\n",
       " '_38': '+3.14',\n",
       " '_i39': '# 不带小数\\n\"{:.0f}\".format(3.14)',\n",
       " '_39': '3',\n",
       " '_i40': '# 左边填充0\\n\"{0>2d}\".format(5)',\n",
       " '_i41': '# 左边填充0\\n\"{:0>2d}\".format(5)',\n",
       " '_41': '05',\n",
       " '_i42': '# 右边填充x\\n\"{:x<4d}\".format(4)',\n",
       " '_42': '4xxx',\n",
       " '_i43': '# 以逗号分隔的数字\\n\"{:,}\".format(1000000)',\n",
       " '_43': '1,000,000',\n",
       " '_i44': '# 百分比格式\\n\"{:%}\".format(0.25)',\n",
       " '_44': '25.000000%',\n",
       " '_i45': '# 百分比格式\\n\"{:2%}\".format(0.25)',\n",
       " '_45': '25.000000%',\n",
       " '_i46': '# 百分比格式\\n\"{:.2%}\".format(0.25)',\n",
       " '_46': '25.00%',\n",
       " '_i47': '# 指数格式\\n\"{:.2e}\".format(1000000)',\n",
       " '_47': '1.00e+06',\n",
       " '_i48': '# 右对齐\\n\"{:>10}\".format(13)',\n",
       " '_48': '        13',\n",
       " '_i49': '# 左对齐\\n\"{:<10}\".format(10)',\n",
       " '_49': '10        ',\n",
       " '_i50': '# 居中对齐\\n\"{:^10}\".format(12)',\n",
       " '_50': '    12    ',\n",
       " '_i51': \"# 进制\\n'{:b}'.format(12)\",\n",
       " '_51': '1100',\n",
       " '_i52': \"# 八进制\\n'{:o}'.format(12)\",\n",
       " '_52': '14',\n",
       " '_i53': \"# 10进制\\n'{:d}'.format(12)\",\n",
       " '_53': '12',\n",
       " '_i54': \"# 16进制\\n'{:x}'.format(12)\",\n",
       " '_54': 'c',\n",
       " '_i55': \"'{:#x}'.format(12)\",\n",
       " '_55': '0xc',\n",
       " '_i56': \"'{:#X}'.format(12)\",\n",
       " '_56': '0XC',\n",
       " '_i57': '- 返回一个新的frozenset对象，冻结的集合，不能再添加或删除任何元素。',\n",
       " '_i58': 'a = frozenset(range(10))',\n",
       " 'a': frozenset({0, 1, 2, 3, 4, 5, 6, 7, 8, 9}),\n",
       " '_i59': 'a',\n",
       " '_59': frozenset({0, 1, 2, 3, 4, 5, 6, 7, 8, 9}),\n",
       " '_i60': \"frozenset('hello')\",\n",
       " '_60': frozenset({'e', 'h', 'l', 'o'}),\n",
       " '_i61': 'class Ca:\\n    def __init__(self):\\n        self.aa = 10\\n        self.bb = 12\\n        \\nD = Ca\\ngetattr(D, aa)',\n",
       " 'Ca': __main__.Ca,\n",
       " 'D': __main__.Ca,\n",
       " '_i62': \"class Ca:\\n    def __init__(self):\\n        self.aa = 10\\n        self.bb = 12\\n        \\nD = Ca\\ngetattr(D, 'aa')\",\n",
       " '_i63': \"class Ca:\\n    def __init__(self, aa, bb):\\n        self.aa = 10\\n        self.bb = 12\\n        \\nD = Ca\\ngetattr(D, 'aa')\",\n",
       " '_i64': \"class Ca:\\n    aa = 10\\n        \\ngetattr(Ca, 'aa')\",\n",
       " '_64': 10,\n",
       " '_i65': 'globals()'}"
      ]
     },
     "execution_count": 65,
     "metadata": {},
     "output_type": "execute_result"
    }
   ],
   "source": [
    "globals()"
   ]
  },
  {
   "cell_type": "markdown",
   "metadata": {},
   "source": [
    "### 28. hasattr(object,name)"
   ]
  },
  {
   "cell_type": "markdown",
   "metadata": {},
   "source": [
    "- 实参是一个对象和一个字符串。\n",
    "- 如果字符串时对象的属性之一的名称，则返回True，否则返回false。"
   ]
  },
  {
   "cell_type": "code",
   "execution_count": 66,
   "metadata": {},
   "outputs": [
    {
     "data": {
      "text/plain": [
       "True"
      ]
     },
     "execution_count": 66,
     "metadata": {},
     "output_type": "execute_result"
    }
   ],
   "source": [
    "hasattr(Ca, 'aa')"
   ]
  },
  {
   "cell_type": "markdown",
   "metadata": {},
   "source": [
    "### 29. hash(object)"
   ]
  },
  {
   "cell_type": "markdown",
   "metadata": {},
   "source": [
    "- 返回该对象的哈希值。哈希值是整数。\n",
    "- 它们在字典查找元素时用来快速比较字典的键。\n",
    "- 相同大小的数字变量有相同的哈希值，即使类型不同"
   ]
  },
  {
   "cell_type": "code",
   "execution_count": 67,
   "metadata": {},
   "outputs": [
    {
     "data": {
      "text/plain": [
       "10"
      ]
     },
     "execution_count": 67,
     "metadata": {},
     "output_type": "execute_result"
    }
   ],
   "source": [
    "hash(10)"
   ]
  },
  {
   "cell_type": "code",
   "execution_count": 68,
   "metadata": {},
   "outputs": [
    {
     "data": {
      "text/plain": [
       "10"
      ]
     },
     "execution_count": 68,
     "metadata": {},
     "output_type": "execute_result"
    }
   ],
   "source": [
    "hash(10.0)"
   ]
  },
  {
   "cell_type": "code",
   "execution_count": 69,
   "metadata": {},
   "outputs": [
    {
     "data": {
      "text/plain": [
       "-2968244930115618878"
      ]
     },
     "execution_count": 69,
     "metadata": {},
     "output_type": "execute_result"
    }
   ],
   "source": [
    "hash('hello')"
   ]
  },
  {
   "cell_type": "code",
   "execution_count": 70,
   "metadata": {},
   "outputs": [
    {
     "data": {
      "text/plain": [
       "-3773578090416851820"
      ]
     },
     "execution_count": 70,
     "metadata": {},
     "output_type": "execute_result"
    }
   ],
   "source": [
    "hash('A')"
   ]
  },
  {
   "cell_type": "markdown",
   "metadata": {},
   "source": [
    "### 30. help([object])"
   ]
  },
  {
   "cell_type": "markdown",
   "metadata": {},
   "source": [
    "- 启动内置的帮助系统。\n",
    "- 如果没有实参，解释器控制台里会启动交互式帮助系统。\n",
    "- 如果实参是一个字符串，则在模块、函数、类、方法、关键字或文档主题中搜索该字符串，并在控制台上打印帮助信息。\n",
    "- 如果实参是其他任意对象，则会生成该对象的帮助页。\n",
    "- 在形参列表中出现斜杠（/），则它在发起调用help()的时候意味着斜杠之前的均为仅限位置形参。"
   ]
  },
  {
   "cell_type": "code",
   "execution_count": 71,
   "metadata": {},
   "outputs": [
    {
     "name": "stdout",
     "output_type": "stream",
     "text": [
      "\n",
      "Welcome to Python 3.7's help utility!\n",
      "\n",
      "If this is your first time using Python, you should definitely check out\n",
      "the tutorial on the Internet at https://docs.python.org/3.7/tutorial/.\n",
      "\n",
      "Enter the name of any module, keyword, or topic to get help on writing\n",
      "Python programs and using Python modules.  To quit this help utility and\n",
      "return to the interpreter, just type \"quit\".\n",
      "\n",
      "To get a list of available modules, keywords, symbols, or topics, type\n",
      "\"modules\", \"keywords\", \"symbols\", or \"topics\".  Each module also comes\n",
      "with a one-line summary of what it does; to list the modules whose name\n",
      "or summary contain a given string such as \"spam\", type \"modules spam\".\n",
      "\n",
      "help> modules\n",
      "\n",
      "Please wait a moment while I gather a list of all available modules...\n",
      "\n",
      "pygame 1.9.6\n",
      "Hello from the pygame community. https://www.pygame.org/contribute.html\n"
     ]
    },
    {
     "name": "stderr",
     "output_type": "stream",
     "text": [
      "C:\\Program Files (x86)\\Anaconda3\\lib\\site-packages\\IPython\\kernel\\__init__.py:13: ShimWarning: The `IPython.kernel` package has been deprecated since IPython 4.0.You should import from ipykernel or jupyter_client instead.\n",
      "  \"You should import from ipykernel or jupyter_client instead.\", ShimWarning)\n",
      "WARNING: AstropyDeprecationWarning: astropy.utils.compat.futures is now deprecated - use concurrent.futures instead [astropy.utils.compat.futures]\n",
      "19896981 WARNING: AstropyDeprecationWarning: astropy.utils.compat.futures is now deprecated - use concurrent.futures instead\n",
      "C:\\Program Files (x86)\\Anaconda3\\lib\\site-packages\\odo\\backends\\pandas.py:102: FutureWarning: pandas.tslib is deprecated and will be removed in a future version.\n",
      "You can access NaTType as type(pandas.NaT)\n",
      "  @convert.register((pd.Timestamp, pd.Timedelta), (pd.tslib.NaTType, type(None)))\n",
      "19905203 INFO: Could not import comtypes.gen, trying to create it.\n",
      "19905204 INFO: Created comtypes.gen directory: 'C:\\Program Files (x86)\\Anaconda3\\lib\\site-packages\\comtypes\\gen'\n",
      "19905205 INFO: Writing __init__.py file: 'C:\\Program Files (x86)\\Anaconda3\\lib\\site-packages\\comtypes\\gen\\__init__.py'\n",
      "19905209 INFO: Using writeable comtypes cache directory: 'C:\\Program Files (x86)\\Anaconda3\\lib\\site-packages\\comtypes\\gen'\n",
      "19906765 INFO: Loading KWallet\n",
      "19906770 INFO: Loading SecretService\n",
      "19906775 INFO: Loading Windows\n",
      "19906779 INFO: Loading chainer\n",
      "19906783 INFO: Loading macOS\n",
      "C:\\Program Files (x86)\\Anaconda3\\lib\\site-packages\\nltk\\twitter\\__init__.py:22: UserWarning: The twython library has not been installed. Some functionality from the twitter package will not be available.\n",
      "  \"The twython library has not been installed. \"\n",
      "C:\\Program Files (x86)\\Anaconda3\\lib\\site-packages\\skimage\\novice\\__init__.py:103: UserWarning: The `skimage.novice` module was deprecated in version 0.14. It will be removed in 0.16.\n",
      "  warnings.warn(\"The `skimage.novice` module was deprecated in version 0.14. \"\n",
      "C:\\Program Files (x86)\\Anaconda3\\lib\\site-packages\\skimage\\viewer\\utils\\core.py:10: UserWarning: Recommended matplotlib backend is `Agg` for full skimage.viewer functionality.\n",
      "  warn(\"Recommended matplotlib backend is `Agg` for full \"\n",
      "C:\\Program Files (x86)\\Anaconda3\\lib\\site-packages\\sphinx\\websupport\\__init__.py:25: RemovedInSphinx20Warning: sphinx.websupport module is now provided as sphinxcontrib-websupport. sphinx.websupport will be removed at Sphinx-2.0. Please use the package instead.\n",
      "  RemovedInSphinx20Warning)\n",
      "C:\\Program Files (x86)\\Anaconda3\\lib\\site-packages\\qtawesome\\iconic_font.py:276: UserWarning: You need to have a running QApplication to use QtAwesome!\n",
      "  warnings.warn(\"You need to have a running \"\n",
      "C:\\Program Files (x86)\\Anaconda3\\lib\\pkgutil.py:107: VisibleDeprecationWarning: zmq.eventloop.minitornado is deprecated in pyzmq 14.0 and will be removed.\n",
      "    Install tornado itself to use zmq with the tornado IOLoop.\n",
      "    \n",
      "  yield from walk_packages(path, info.name+'.', onerror)\n"
     ]
    },
    {
     "name": "stdout",
     "output_type": "stream",
     "text": [
      "Crypto              builtins            menuinst            sockshandler\n",
      "Cython              bz2                 mimetypes           sortedcollections\n",
      "EmQuantAPI          cProfile            mistune             sortedcontainers\n",
      "IPython             calendar            mkl                 sphinx\n",
      "OpenSSL             certifi             mkl_fft             sphinxcontrib\n",
      "PIL                 cffi                mkl_random          spyder\n",
      "PyInstaller         cgi                 mmap                spyder_breakpoints\n",
      "PyQt5               cgitb               mmapfile            spyder_io_dcm\n",
      "__future__          chardet             mmsystem            spyder_io_hdf5\n",
      "_abc                chunk               modulefinder        spyder_kernels\n",
      "_ast                click               more_itertools      spyder_profiler\n",
      "_asyncio            cloudpickle         mpmath              spyder_pylint\n",
      "_bisect             clyent              msgpack             sqlalchemy\n",
      "_blake2             cmath               msilib              sqlite3\n",
      "_bootlocale         cmd                 msvcrt              sre_compile\n",
      "_bz2                code                multipledispatch    sre_constants\n",
      "_cffi_backend       codecs              multiprocessing     sre_parse\n",
      "_codecs             codeop              navigator_updater   ssl\n",
      "_codecs_cn          collections         nbconvert           sspi\n",
      "_codecs_hk          colorama            nbformat            sspicon\n",
      "_codecs_iso2022     colorsys            netbios             stat\n",
      "_codecs_jp          commctrl            netrc               statistics\n",
      "_codecs_kr          compileall          networkx            statsmodels\n",
      "_codecs_tw          comtypes            nltk                storemagic\n",
      "_collections        concurrent          nntplib             string\n",
      "_collections_abc    conda               nose                stringprep\n",
      "_compat_pickle      conda_build         notebook            struct\n",
      "_compression        conda_env           nt                  subprocess\n",
      "_contextvars        conda_verify        ntpath              sunau\n",
      "_csv                configparser        ntsecuritycon       symbol\n",
      "_ctypes             contextlib          nturl2path          sympy\n",
      "_ctypes_test        contextlib2         numba               sympyprinting\n",
      "_datetime           contextvars         numbers             symtable\n",
      "_decimal            copy                numexpr             sys\n",
      "_distutils_findvs   copyreg             numpy               sysconfig\n",
      "_dummy_thread       crypt               numpydoc            tables\n",
      "_elementtree        cryptography        odbc                tabnanny\n",
      "_functools          csv                 odo                 tarfile\n",
      "_hashlib            ctypes              olefile             tblib\n",
      "_heapq              curl                opcode              telnetlib\n",
      "_imp                curses              openpyxl            tempfile\n",
      "_io                 cwp                 operator            terminado\n",
      "_json               cwru                optparse            test\n",
      "_locale             cycler              ordlookup           test_path\n",
      "_lsprof             cython              os                  test_pycosat\n",
      "_lzma               cythonmagic         packaging           testpath\n",
      "_markupbase         cytoolz             pandas              tests\n",
      "_md5                dask                pandocfilters       textwrap\n",
      "_msi                dataclasses         parser              this\n",
      "_multibytecodec     datashape           parso               threading\n",
      "_multiprocessing    datetime            partd               time\n",
      "_nsis               dateutil            past                timeit\n",
      "_opcode             dbi                 path                timer\n",
      "_operator           dbm                 pathlib             tkinter\n",
      "_osx_support        dde                 pathlib2            tlz\n",
      "_overlapped         decimal             patsy               token\n",
      "_pickle             decorator           pdb                 tokenize\n",
      "_py_abc             defusedxml          pefile              toolz\n",
      "_pydecimal          demo                pep8                tornado\n",
      "_pyio               difflib             perfmon             tqdm\n",
      "_pytest             dis                 peutils             trace\n",
      "_queue              distributed         pickle              traceback\n",
      "_random             distutils           pickleshare         tracemalloc\n",
      "_sha1               doctest             pickletools         traitlets\n",
      "_sha256             docutils            pip                 tty\n",
      "_sha3               dummy_threading     pipes               turtle\n",
      "_sha512             easy_install        pkg_resources       turtledemo\n",
      "_signal             email               pkginfo             tushare\n",
      "_sitebuiltins       encodings           pkgutil             types\n",
      "_socket             ensurepip           platform            typing\n",
      "_sqlite3            entrypoints         plistlib            unicodecsv\n",
      "_sre                enum                pluggy              unicodedata\n",
      "_ssl                errno               ply                 unittest\n",
      "_stat               et_xmlfile          poplib              urllib\n",
      "_string             fastcache           posixpath           urllib3\n",
      "_strptime           faulthandler        pprint              uu\n",
      "_struct             filecmp             profile             uuid\n",
      "_symtable           fileinput           prometheus_client   venv\n",
      "_system_path        filelock            prompt_toolkit      warnings\n",
      "_testbuffer         flask               pstats              wave\n",
      "_testcapi           flask_cors          psutil              wcwidth\n",
      "_testconsole        fnmatch             pty                 weakref\n",
      "_testimportmultiple formatter           py                  webbrowser\n",
      "_testmultiphase     fractions           py_compile          webencodings\n",
      "_thread             ftplib              pyclbr              werkzeug\n",
      "_threading_local    functools           pycodestyle         wheel\n",
      "_tkinter            future              pycosat             widgetsnbextension\n",
      "_tracemalloc        gc                  pycparser           win2kras\n",
      "_warnings           genericpath         pycurl              win32api\n",
      "_weakref            getopt              pydoc               win32clipboard\n",
      "_weakrefset         getpass             pydoc_data          win32com\n",
      "_win32sysloader     gettext             pyexpat             win32con\n",
      "_winapi             gevent              pyflakes            win32console\n",
      "_winxptheme         glob                pygame              win32cred\n",
      "_yaml               glob2               pygments            win32crypt\n",
      "abc                 greenlet            pylab               win32cryptcon\n",
      "adodbapi            gzip                pylint              win32ctypes\n",
      "afxres              h5py                pymysql             win32event\n",
      "aifc                hashlib             pyodbc              win32evtlog\n",
      "alabaster           heapdict            pyparsing           win32evtlogutil\n",
      "altgraph            heapq               pytdx               win32file\n",
      "anaconda_navigator  hmac                pytest              win32gui\n",
      "anaconda_project    html                pytest_arraydiff    win32gui_struct\n",
      "antigravity         html5lib            pytest_doctestplus  win32help\n",
      "argparse            http                pytest_openfiles    win32inet\n",
      "array               idlelib             pytest_remotedata   win32inetcon\n",
      "asn1crypto          idna                pythoncom           win32job\n",
      "ast                 imageio             pytz                win32lz\n",
      "astroid             imagesize           pywin               win32net\n",
      "astropy             imaplib             pywin32_testutil    win32netcon\n",
      "asynchat            imghdr              pywintypes          win32pdh\n",
      "asyncio             imp                 pywt                win32pdhquery\n",
      "asyncore            importlib           pyximport           win32pdhutil\n",
      "atexit              importlib_metadata  qtawesome           win32pipe\n",
      "atomicwrites        inspect             qtconsole           win32print\n",
      "attr                installEmQuantAPI   qtpy                win32process\n",
      "audioop             io                  queue               win32profile\n",
      "autoreload          ipaddress           quopri              win32ras\n",
      "babel               ipykernel           random              win32rcparser\n",
      "backcall            ipykernel_launcher  rasutil             win32security\n",
      "backports           ipython_genutils    re                  win32service\n",
      "base64              ipywidgets          regcheck            win32serviceutil\n",
      "bdb                 isapi               regutil             win32timezone\n",
      "binascii            isort               reprlib             win32trace\n",
      "binhex              isympy              requests            win32traceutil\n",
      "binstar_client      itertools           rlcompleter         win32transaction\n",
      "bisect              itsdangerous        rmagic              win32ts\n",
      "bitarray            jdcal               rope                win32ui\n",
      "bkcharts            jedi                ruamel_yaml         win32uiole\n",
      "blaze               jinja2              run                 win32verstamp\n",
      "bleach              joblib              runpy               win32wnet\n",
      "bokeh               json                sched               win_inet_pton\n",
      "boto                jsonschema          scipy               win_unicode_console\n",
      "bottleneck          jupyter             scripts             wincertstore\n",
      "brain_argparse      jupyter_client      seaborn             winerror\n",
      "brain_attrs         jupyter_console     secrets             winioctlcon\n",
      "brain_builtin_inference jupyter_core        select              winnt\n",
      "brain_collections   jupyterlab          selectors           winperf\n",
      "brain_curses        jupyterlab_server   send2trash          winpty\n",
      "brain_dateutil      keyring             servicemanager      winreg\n",
      "brain_fstrings      keyword             setuptools          winsound\n",
      "brain_functools     kiwisolver          shelve              winxpgui\n",
      "brain_gi            lazy_object_proxy   shlex               winxptheme\n",
      "brain_hashlib       lib2to3             shutil              wordcloud\n",
      "brain_io            libarchive          signal              wrapt\n",
      "brain_mechanize     libfuturize         simplegeneric       wsgiref\n",
      "brain_multiprocessing libpasteurize       singledispatch      xdrlib\n",
      "brain_namedtuple_enum linecache           singledispatch_helpers xlrd\n",
      "brain_nose          llvmlite            sip                 xlsxwriter\n",
      "brain_numpy         locale              sipconfig           xlwings\n",
      "brain_pkg_resources locket              sipdistutils        xlwt\n",
      "brain_pytest        logging             site                xml\n",
      "brain_qt            lxml                six                 xmlrpc\n",
      "brain_random        lzma                skimage             xxsubtype\n",
      "brain_re            macpath             sklearn             yaml\n",
      "brain_six           mailbox             smtpd               zict\n",
      "brain_ssl           mailcap             smtplib             zipapp\n",
      "brain_subprocess    markupsafe          sndhdr              zipfile\n",
      "brain_threading     marshal             snowballstemmer     zipimport\n",
      "brain_typing        math                socket              zlib\n",
      "brain_uuid          matplotlib          socketserver        zmq\n",
      "bs4                 mccabe              socks               \n",
      "\n",
      "Enter any module name to get more help.  Or, type \"modules spam\" to search\n",
      "for modules whose name or summary contain the string \"spam\".\n",
      "\n",
      "help> quit\n",
      "\n",
      "You are now leaving help and returning to the Python interpreter.\n",
      "If you want to ask for help on a particular object directly from the\n",
      "interpreter, you can type \"help(object)\".  Executing \"help('string')\"\n",
      "has the same effect as typing a particular string at the help> prompt.\n"
     ]
    }
   ],
   "source": [
    "help()"
   ]
  },
  {
   "cell_type": "code",
   "execution_count": 72,
   "metadata": {},
   "outputs": [
    {
     "name": "stdout",
     "output_type": "stream",
     "text": [
      "Help on built-in module sys:\n",
      "\n",
      "NAME\n",
      "    sys\n",
      "\n",
      "MODULE REFERENCE\n",
      "    https://docs.python.org/3.7/library/sys\n",
      "    \n",
      "    The following documentation is automatically generated from the Python\n",
      "    source files.  It may be incomplete, incorrect or include features that\n",
      "    are considered implementation detail and may vary between Python\n",
      "    implementations.  When in doubt, consult the module reference at the\n",
      "    location listed above.\n",
      "\n",
      "DESCRIPTION\n",
      "    This module provides access to some objects used or maintained by the\n",
      "    interpreter and to functions that interact strongly with the interpreter.\n",
      "    \n",
      "    Dynamic objects:\n",
      "    \n",
      "    argv -- command line arguments; argv[0] is the script pathname if known\n",
      "    path -- module search path; path[0] is the script directory, else ''\n",
      "    modules -- dictionary of loaded modules\n",
      "    \n",
      "    displayhook -- called to show results in an interactive session\n",
      "    excepthook -- called to handle any uncaught exception other than SystemExit\n",
      "      To customize printing in an interactive session or to install a custom\n",
      "      top-level exception handler, assign other functions to replace these.\n",
      "    \n",
      "    stdin -- standard input file object; used by input()\n",
      "    stdout -- standard output file object; used by print()\n",
      "    stderr -- standard error object; used for error messages\n",
      "      By assigning other file objects (or objects that behave like files)\n",
      "      to these, it is possible to redirect all of the interpreter's I/O.\n",
      "    \n",
      "    last_type -- type of last uncaught exception\n",
      "    last_value -- value of last uncaught exception\n",
      "    last_traceback -- traceback of last uncaught exception\n",
      "      These three are only available in an interactive session after a\n",
      "      traceback has been printed.\n",
      "    \n",
      "    Static objects:\n",
      "    \n",
      "    builtin_module_names -- tuple of module names built into this interpreter\n",
      "    copyright -- copyright notice pertaining to this interpreter\n",
      "    exec_prefix -- prefix used to find the machine-specific Python library\n",
      "    executable -- absolute path of the executable binary of the Python interpreter\n",
      "    float_info -- a struct sequence with information about the float implementation.\n",
      "    float_repr_style -- string indicating the style of repr() output for floats\n",
      "    hash_info -- a struct sequence with information about the hash algorithm.\n",
      "    hexversion -- version information encoded as a single integer\n",
      "    implementation -- Python implementation information.\n",
      "    int_info -- a struct sequence with information about the int implementation.\n",
      "    maxsize -- the largest supported length of containers.\n",
      "    maxunicode -- the value of the largest Unicode code point\n",
      "    platform -- platform identifier\n",
      "    prefix -- prefix used to find the Python library\n",
      "    thread_info -- a struct sequence with information about the thread implementation.\n",
      "    version -- the version of this interpreter as a string\n",
      "    version_info -- version information as a named tuple\n",
      "    dllhandle -- [Windows only] integer handle of the Python DLL\n",
      "    winver -- [Windows only] version number of the Python DLL\n",
      "    _enablelegacywindowsfsencoding -- [Windows only] \n",
      "    __stdin__ -- the original stdin; don't touch!\n",
      "    __stdout__ -- the original stdout; don't touch!\n",
      "    __stderr__ -- the original stderr; don't touch!\n",
      "    __displayhook__ -- the original displayhook; don't touch!\n",
      "    __excepthook__ -- the original excepthook; don't touch!\n",
      "    \n",
      "    Functions:\n",
      "    \n",
      "    displayhook() -- print an object to the screen, and save it in builtins._\n",
      "    excepthook() -- print an exception and its traceback to sys.stderr\n",
      "    exc_info() -- return thread-safe information about the current exception\n",
      "    exit() -- exit the interpreter by raising SystemExit\n",
      "    getdlopenflags() -- returns flags to be used for dlopen() calls\n",
      "    getprofile() -- get the global profiling function\n",
      "    getrefcount() -- return the reference count for an object (plus one :-)\n",
      "    getrecursionlimit() -- return the max recursion depth for the interpreter\n",
      "    getsizeof() -- return the size of an object in bytes\n",
      "    gettrace() -- get the global debug tracing function\n",
      "    setcheckinterval() -- control how often the interpreter checks for events\n",
      "    setdlopenflags() -- set the flags to be used for dlopen() calls\n",
      "    setprofile() -- set the global profiling function\n",
      "    setrecursionlimit() -- set the max recursion depth for the interpreter\n",
      "    settrace() -- set the global debug tracing function\n",
      "\n",
      "FUNCTIONS\n",
      "    __breakpointhook__ = breakpointhook(...)\n",
      "        breakpointhook(*args, **kws)\n",
      "        \n",
      "        This hook function is called by built-in breakpoint().\n",
      "    \n",
      "    __displayhook__ = displayhook(...)\n",
      "        displayhook(object) -> None\n",
      "        \n",
      "        Print an object to sys.stdout and also save it in builtins._\n",
      "    \n",
      "    __excepthook__ = excepthook(...)\n",
      "        excepthook(exctype, value, traceback) -> None\n",
      "        \n",
      "        Handle an exception by displaying it with a traceback on sys.stderr.\n",
      "    \n",
      "    breakpointhook(...)\n",
      "        breakpointhook(*args, **kws)\n",
      "        \n",
      "        This hook function is called by built-in breakpoint().\n",
      "    \n",
      "    call_tracing(...)\n",
      "        call_tracing(func, args) -> object\n",
      "        \n",
      "        Call func(*args), while tracing is enabled.  The tracing state is\n",
      "        saved, and restored afterwards.  This is intended to be called from\n",
      "        a debugger from a checkpoint, to recursively debug some other code.\n",
      "    \n",
      "    callstats(...)\n",
      "        callstats() -> tuple of integers\n",
      "        \n",
      "        Return a tuple of function call statistics, if CALL_PROFILE was defined\n",
      "        when Python was built.  Otherwise, return None.\n",
      "        \n",
      "        When enabled, this function returns detailed, implementation-specific\n",
      "        details about the number of function calls executed. The return value is\n",
      "        a 11-tuple where the entries in the tuple are counts of:\n",
      "        0. all function calls\n",
      "        1. calls to PyFunction_Type objects\n",
      "        2. PyFunction calls that do not create an argument tuple\n",
      "        3. PyFunction calls that do not create an argument tuple\n",
      "           and bypass PyEval_EvalCodeEx()\n",
      "        4. PyMethod calls\n",
      "        5. PyMethod calls on bound methods\n",
      "        6. PyType calls\n",
      "        7. PyCFunction calls\n",
      "        8. generator calls\n",
      "        9. All other calls\n",
      "        10. Number of stack pops performed by call_function()\n",
      "    \n",
      "    exc_info(...)\n",
      "        exc_info() -> (type, value, traceback)\n",
      "        \n",
      "        Return information about the most recent exception caught by an except\n",
      "        clause in the current stack frame or in an older stack frame.\n",
      "    \n",
      "    exit(...)\n",
      "        exit([status])\n",
      "        \n",
      "        Exit the interpreter by raising SystemExit(status).\n",
      "        If the status is omitted or None, it defaults to zero (i.e., success).\n",
      "        If the status is an integer, it will be used as the system exit status.\n",
      "        If it is another kind of object, it will be printed and the system\n",
      "        exit status will be one (i.e., failure).\n",
      "    \n",
      "    get_asyncgen_hooks(...)\n",
      "        get_asyncgen_hooks()\n",
      "        \n",
      "        Return a namedtuple of installed asynchronous generators hooks (firstiter, finalizer).\n",
      "    \n",
      "    get_coroutine_origin_tracking_depth()\n",
      "        Check status of origin tracking for coroutine objects in this thread.\n",
      "    \n",
      "    get_coroutine_wrapper(...)\n",
      "        get_coroutine_wrapper()\n",
      "        \n",
      "        Return the wrapper for coroutine objects set by sys.set_coroutine_wrapper.\n",
      "    \n",
      "    getallocatedblocks(...)\n",
      "        getallocatedblocks() -> integer\n",
      "        \n",
      "        Return the number of memory blocks currently allocated, regardless of their\n",
      "        size.\n",
      "    \n",
      "    getcheckinterval(...)\n",
      "        getcheckinterval() -> current check interval; see setcheckinterval().\n",
      "    \n",
      "    getdefaultencoding(...)\n",
      "        getdefaultencoding() -> string\n",
      "        \n",
      "        Return the current default string encoding used by the Unicode \n",
      "        implementation.\n",
      "    \n",
      "    getfilesystemencodeerrors(...)\n",
      "        getfilesystemencodeerrors() -> string\n",
      "        \n",
      "        Return the error mode used to convert Unicode filenames in\n",
      "        operating system filenames.\n",
      "    \n",
      "    getfilesystemencoding(...)\n",
      "        getfilesystemencoding() -> string\n",
      "        \n",
      "        Return the encoding used to convert Unicode filenames in\n",
      "        operating system filenames.\n",
      "    \n",
      "    getprofile(...)\n",
      "        getprofile()\n",
      "        \n",
      "        Return the profiling function set with sys.setprofile.\n",
      "        See the profiler chapter in the library manual.\n",
      "    \n",
      "    getrecursionlimit(...)\n",
      "        getrecursionlimit()\n",
      "        \n",
      "        Return the current value of the recursion limit, the maximum depth\n",
      "        of the Python interpreter stack.  This limit prevents infinite\n",
      "        recursion from causing an overflow of the C stack and crashing Python.\n",
      "    \n",
      "    getrefcount(...)\n",
      "        getrefcount(object) -> integer\n",
      "        \n",
      "        Return the reference count of object.  The count returned is generally\n",
      "        one higher than you might expect, because it includes the (temporary)\n",
      "        reference as an argument to getrefcount().\n",
      "    \n",
      "    getsizeof(...)\n",
      "        getsizeof(object, default) -> int\n",
      "        \n",
      "        Return the size of object in bytes.\n",
      "    \n",
      "    getswitchinterval(...)\n",
      "        getswitchinterval() -> current thread switch interval; see setswitchinterval().\n",
      "    \n",
      "    gettrace(...)\n",
      "        gettrace()\n",
      "        \n",
      "        Return the global debug tracing function set with sys.settrace.\n",
      "        See the debugger chapter in the library manual.\n",
      "    \n",
      "    getwindowsversion(...)\n",
      "        getwindowsversion()\n",
      "        \n",
      "        Return information about the running version of Windows as a named tuple.\n",
      "        The members are named: major, minor, build, platform, service_pack,\n",
      "        service_pack_major, service_pack_minor, suite_mask, and product_type. For\n",
      "        backward compatibility, only the first 5 items are available by indexing.\n",
      "        All elements are numbers, except service_pack and platform_type which are\n",
      "        strings, and platform_version which is a 3-tuple. Platform is always 2.\n",
      "        Product_type may be 1 for a workstation, 2 for a domain controller, 3 for a\n",
      "        server. Platform_version is a 3-tuple containing a version number that is\n",
      "        intended for identifying the OS rather than feature detection.\n",
      "    \n",
      "    intern(...)\n",
      "        intern(string) -> string\n",
      "        \n",
      "        ``Intern'' the given string.  This enters the string in the (global)\n",
      "        table of interned strings whose purpose is to speed up dictionary lookups.\n",
      "        Return the string itself or the previously interned string object with the\n",
      "        same value.\n",
      "    \n",
      "    is_finalizing(...)\n",
      "        is_finalizing()\n",
      "        Return True if Python is exiting.\n",
      "    \n",
      "    set_asyncgen_hooks(...)\n",
      "        set_asyncgen_hooks(*, firstiter=None, finalizer=None)\n",
      "        \n",
      "        Set a finalizer for async generators objects.\n",
      "    \n",
      "    set_coroutine_origin_tracking_depth(depth)\n",
      "        Enable or disable origin tracking for coroutine objects in this thread.\n",
      "        \n",
      "        Coroutine objects will track 'depth' frames of traceback information about\n",
      "        where they came from, available in their cr_origin attribute. Set depth of 0\n",
      "        to disable.\n",
      "    \n",
      "    set_coroutine_wrapper(...)\n",
      "        set_coroutine_wrapper(wrapper)\n",
      "        \n",
      "        Set a wrapper for coroutine objects.\n",
      "    \n",
      "    setcheckinterval(...)\n",
      "        setcheckinterval(n)\n",
      "        \n",
      "        Tell the Python interpreter to check for asynchronous events every\n",
      "        n instructions.  This also affects how often thread switches occur.\n",
      "    \n",
      "    setprofile(...)\n",
      "        setprofile(function)\n",
      "        \n",
      "        Set the profiling function.  It will be called on each function call\n",
      "        and return.  See the profiler chapter in the library manual.\n",
      "    \n",
      "    setrecursionlimit(...)\n",
      "        setrecursionlimit(n)\n",
      "        \n",
      "        Set the maximum depth of the Python interpreter stack to n.  This\n",
      "        limit prevents infinite recursion from causing an overflow of the C\n",
      "        stack and crashing Python.  The highest possible limit is platform-\n",
      "        dependent.\n",
      "    \n",
      "    setswitchinterval(...)\n",
      "        setswitchinterval(n)\n",
      "        \n",
      "        Set the ideal thread switching delay inside the Python interpreter\n",
      "        The actual frequency of switching threads can be lower if the\n",
      "        interpreter executes long sequences of uninterruptible code\n",
      "        (this is implementation-specific and workload-dependent).\n",
      "        \n",
      "        The parameter must represent the desired switching delay in seconds\n",
      "        A typical value is 0.005 (5 milliseconds).\n",
      "    \n",
      "    settrace(...)\n",
      "        settrace(function)\n",
      "        \n",
      "        Set the global debug tracing function.  It will be called on each\n",
      "        function call.  See the debugger chapter in the library manual.\n",
      "\n",
      "DATA\n",
      "    __stderr__ = <_io.TextIOWrapper name='<stderr>' mode='w' encoding='utf...\n",
      "    __stdin__ = <_io.TextIOWrapper name='<stdin>' mode='r' encoding='cp936...\n",
      "    __stdout__ = <_io.TextIOWrapper name='<stdout>' mode='w' encoding='utf...\n",
      "    api_version = 1013\n",
      "    argv = [r'C:\\Program Files (x86)\\Anaconda3\\lib\\site-packages\\ipykernel...\n",
      "    base_exec_prefix = r'C:\\Program Files (x86)\\Anaconda3'\n",
      "    base_prefix = r'C:\\Program Files (x86)\\Anaconda3'\n",
      "    builtin_module_names = ('_abc', '_ast', '_bisect', '_blake2', '_codecs...\n",
      "    byteorder = 'little'\n",
      "    copyright = 'Copyright (c) 2001-2018 Python Software Foundati...ematis...\n",
      "    displayhook = <ipykernel.displayhook.ZMQShellDisplayHook object>\n",
      "    dllhandle = 140706931146752\n",
      "    dont_write_bytecode = False\n",
      "    exec_prefix = r'C:\\Program Files (x86)\\Anaconda3'\n",
      "    executable = r'C:\\Program Files (x86)\\Anaconda3\\python.exe'\n",
      "    flags = sys.flags(debug=0, inspect=0, interactive=0, opt...ation=1, is...\n",
      "    float_info = sys.float_info(max=1.7976931348623157e+308, max_...epsilo...\n",
      "    float_repr_style = 'short'\n",
      "    hash_info = sys.hash_info(width=64, modulus=2305843009213693...iphash2...\n",
      "    hexversion = 50790896\n",
      "    implementation = namespace(cache_tag='cpython-37', hexversion=507...in...\n",
      "    int_info = sys.int_info(bits_per_digit=30, sizeof_digit=4)\n",
      "    last_value = AttributeError(\"type object 'Ca' has no attribute 'aa'\")\n",
      "    maxsize = 9223372036854775807\n",
      "    maxunicode = 1114111\n",
      "    meta_path = [<class '_frozen_importlib.BuiltinImporter'>, <class '_fro...\n",
      "    modules = {'Crypto': <module 'Crypto' from 'C:\\\\Program Files (x86)\\\\A...\n",
      "    path = [r'C:\\Program Files (x86)\\Anaconda3\\lib\\site-packages\\spyder\\ut...\n",
      "    path_hooks = [<class 'zipimport.zipimporter'>, <function FileFinder.pa...\n",
      "    path_importer_cache = {'': FileFinder('.'), r'C:\\Program Files (x86)\\A...\n",
      "    platform = 'win32'\n",
      "    prefix = r'C:\\Program Files (x86)\\Anaconda3'\n",
      "    ps1 = 'In : '\n",
      "    ps2 = '...: '\n",
      "    ps3 = 'Out: '\n",
      "    py2_modules = {}\n",
      "    stderr = <colorama.ansitowin32.StreamWrapper object>\n",
      "    stdin = <_io.TextIOWrapper name='<stdin>' mode='r' encoding='cp936'>\n",
      "    stdout = <colorama.ansitowin32.StreamWrapper object>\n",
      "    thread_info = sys.thread_info(name='nt', lock=None, version=None)\n",
      "    version = '3.7.1 (default, Dec 10 2018, 22:54:23) [MSC v.1915 64 bit (...\n",
      "    version_info = sys.version_info(major=3, minor=7, micro=1, releaseleve...\n",
      "    warnoptions = []\n",
      "    winver = '3.7'\n",
      "\n",
      "FILE\n",
      "    (built-in)\n",
      "\n"
     ]
    },
    {
     "name": "stdout",
     "output_type": "stream",
     "text": [
      "\n"
     ]
    }
   ],
   "source": [
    "help('sys')"
   ]
  },
  {
   "cell_type": "code",
   "execution_count": 73,
   "metadata": {},
   "outputs": [
    {
     "name": "stdout",
     "output_type": "stream",
     "text": [
      "Help on class str in module builtins:\n",
      "\n",
      "class str(object)\n",
      " |  str(object='') -> str\n",
      " |  str(bytes_or_buffer[, encoding[, errors]]) -> str\n",
      " |  \n",
      " |  Create a new string object from the given object. If encoding or\n",
      " |  errors is specified, then the object must expose a data buffer\n",
      " |  that will be decoded using the given encoding and error handler.\n",
      " |  Otherwise, returns the result of object.__str__() (if defined)\n",
      " |  or repr(object).\n",
      " |  encoding defaults to sys.getdefaultencoding().\n",
      " |  errors defaults to 'strict'.\n",
      " |  \n",
      " |  Methods defined here:\n",
      " |  \n",
      " |  __add__(self, value, /)\n",
      " |      Return self+value.\n",
      " |  \n",
      " |  __contains__(self, key, /)\n",
      " |      Return key in self.\n",
      " |  \n",
      " |  __eq__(self, value, /)\n",
      " |      Return self==value.\n",
      " |  \n",
      " |  __format__(self, format_spec, /)\n",
      " |      Return a formatted version of the string as described by format_spec.\n",
      " |  \n",
      " |  __ge__(self, value, /)\n",
      " |      Return self>=value.\n",
      " |  \n",
      " |  __getattribute__(self, name, /)\n",
      " |      Return getattr(self, name).\n",
      " |  \n",
      " |  __getitem__(self, key, /)\n",
      " |      Return self[key].\n",
      " |  \n",
      " |  __getnewargs__(...)\n",
      " |  \n",
      " |  __gt__(self, value, /)\n",
      " |      Return self>value.\n",
      " |  \n",
      " |  __hash__(self, /)\n",
      " |      Return hash(self).\n",
      " |  \n",
      " |  __iter__(self, /)\n",
      " |      Implement iter(self).\n",
      " |  \n",
      " |  __le__(self, value, /)\n",
      " |      Return self<=value.\n",
      " |  \n",
      " |  __len__(self, /)\n",
      " |      Return len(self).\n",
      " |  \n",
      " |  __lt__(self, value, /)\n",
      " |      Return self<value.\n",
      " |  \n",
      " |  __mod__(self, value, /)\n",
      " |      Return self%value.\n",
      " |  \n",
      " |  __mul__(self, value, /)\n",
      " |      Return self*value.\n",
      " |  \n",
      " |  __ne__(self, value, /)\n",
      " |      Return self!=value.\n",
      " |  \n",
      " |  __repr__(self, /)\n",
      " |      Return repr(self).\n",
      " |  \n",
      " |  __rmod__(self, value, /)\n",
      " |      Return value%self.\n",
      " |  \n",
      " |  __rmul__(self, value, /)\n",
      " |      Return value*self.\n",
      " |  \n",
      " |  __sizeof__(self, /)\n",
      " |      Return the size of the string in memory, in bytes.\n",
      " |  \n",
      " |  __str__(self, /)\n",
      " |      Return str(self).\n",
      " |  \n",
      " |  capitalize(self, /)\n",
      " |      Return a capitalized version of the string.\n",
      " |      \n",
      " |      More specifically, make the first character have upper case and the rest lower\n",
      " |      case.\n",
      " |  \n",
      " |  casefold(self, /)\n",
      " |      Return a version of the string suitable for caseless comparisons.\n",
      " |  \n",
      " |  center(self, width, fillchar=' ', /)\n",
      " |      Return a centered string of length width.\n",
      " |      \n",
      " |      Padding is done using the specified fill character (default is a space).\n",
      " |  \n",
      " |  count(...)\n",
      " |      S.count(sub[, start[, end]]) -> int\n",
      " |      \n",
      " |      Return the number of non-overlapping occurrences of substring sub in\n",
      " |      string S[start:end].  Optional arguments start and end are\n",
      " |      interpreted as in slice notation.\n",
      " |  \n",
      " |  encode(self, /, encoding='utf-8', errors='strict')\n",
      " |      Encode the string using the codec registered for encoding.\n",
      " |      \n",
      " |      encoding\n",
      " |        The encoding in which to encode the string.\n",
      " |      errors\n",
      " |        The error handling scheme to use for encoding errors.\n",
      " |        The default is 'strict' meaning that encoding errors raise a\n",
      " |        UnicodeEncodeError.  Other possible values are 'ignore', 'replace' and\n",
      " |        'xmlcharrefreplace' as well as any other name registered with\n",
      " |        codecs.register_error that can handle UnicodeEncodeErrors.\n",
      " |  \n",
      " |  endswith(...)\n",
      " |      S.endswith(suffix[, start[, end]]) -> bool\n",
      " |      \n",
      " |      Return True if S ends with the specified suffix, False otherwise.\n",
      " |      With optional start, test S beginning at that position.\n",
      " |      With optional end, stop comparing S at that position.\n",
      " |      suffix can also be a tuple of strings to try.\n",
      " |  \n",
      " |  expandtabs(self, /, tabsize=8)\n",
      " |      Return a copy where all tab characters are expanded using spaces.\n",
      " |      \n",
      " |      If tabsize is not given, a tab size of 8 characters is assumed.\n",
      " |  \n",
      " |  find(...)\n",
      " |      S.find(sub[, start[, end]]) -> int\n",
      " |      \n",
      " |      Return the lowest index in S where substring sub is found,\n",
      " |      such that sub is contained within S[start:end].  Optional\n",
      " |      arguments start and end are interpreted as in slice notation.\n",
      " |      \n",
      " |      Return -1 on failure.\n",
      " |  \n",
      " |  format(...)\n",
      " |      S.format(*args, **kwargs) -> str\n",
      " |      \n",
      " |      Return a formatted version of S, using substitutions from args and kwargs.\n",
      " |      The substitutions are identified by braces ('{' and '}').\n",
      " |  \n",
      " |  format_map(...)\n",
      " |      S.format_map(mapping) -> str\n",
      " |      \n",
      " |      Return a formatted version of S, using substitutions from mapping.\n",
      " |      The substitutions are identified by braces ('{' and '}').\n",
      " |  \n",
      " |  index(...)\n",
      " |      S.index(sub[, start[, end]]) -> int\n",
      " |      \n",
      " |      Return the lowest index in S where substring sub is found, \n",
      " |      such that sub is contained within S[start:end].  Optional\n",
      " |      arguments start and end are interpreted as in slice notation.\n",
      " |      \n",
      " |      Raises ValueError when the substring is not found.\n",
      " |  \n",
      " |  isalnum(self, /)\n",
      " |      Return True if the string is an alpha-numeric string, False otherwise.\n",
      " |      \n",
      " |      A string is alpha-numeric if all characters in the string are alpha-numeric and\n",
      " |      there is at least one character in the string.\n",
      " |  \n",
      " |  isalpha(self, /)\n",
      " |      Return True if the string is an alphabetic string, False otherwise.\n",
      " |      \n",
      " |      A string is alphabetic if all characters in the string are alphabetic and there\n",
      " |      is at least one character in the string.\n",
      " |  \n",
      " |  isascii(self, /)\n",
      " |      Return True if all characters in the string are ASCII, False otherwise.\n",
      " |      \n",
      " |      ASCII characters have code points in the range U+0000-U+007F.\n",
      " |      Empty string is ASCII too.\n",
      " |  \n",
      " |  isdecimal(self, /)\n",
      " |      Return True if the string is a decimal string, False otherwise.\n",
      " |      \n",
      " |      A string is a decimal string if all characters in the string are decimal and\n",
      " |      there is at least one character in the string.\n",
      " |  \n",
      " |  isdigit(self, /)\n",
      " |      Return True if the string is a digit string, False otherwise.\n",
      " |      \n",
      " |      A string is a digit string if all characters in the string are digits and there\n",
      " |      is at least one character in the string.\n",
      " |  \n",
      " |  isidentifier(self, /)\n",
      " |      Return True if the string is a valid Python identifier, False otherwise.\n",
      " |      \n",
      " |      Use keyword.iskeyword() to test for reserved identifiers such as \"def\" and\n",
      " |      \"class\".\n",
      " |  \n",
      " |  islower(self, /)\n",
      " |      Return True if the string is a lowercase string, False otherwise.\n",
      " |      \n",
      " |      A string is lowercase if all cased characters in the string are lowercase and\n",
      " |      there is at least one cased character in the string.\n",
      " |  \n",
      " |  isnumeric(self, /)\n",
      " |      Return True if the string is a numeric string, False otherwise.\n",
      " |      \n",
      " |      A string is numeric if all characters in the string are numeric and there is at\n",
      " |      least one character in the string.\n",
      " |  \n",
      " |  isprintable(self, /)\n",
      " |      Return True if the string is printable, False otherwise.\n",
      " |      \n",
      " |      A string is printable if all of its characters are considered printable in\n",
      " |      repr() or if it is empty.\n",
      " |  \n",
      " |  isspace(self, /)\n",
      " |      Return True if the string is a whitespace string, False otherwise.\n",
      " |      \n",
      " |      A string is whitespace if all characters in the string are whitespace and there\n",
      " |      is at least one character in the string.\n",
      " |  \n",
      " |  istitle(self, /)\n",
      " |      Return True if the string is a title-cased string, False otherwise.\n",
      " |      \n",
      " |      In a title-cased string, upper- and title-case characters may only\n",
      " |      follow uncased characters and lowercase characters only cased ones.\n",
      " |  \n",
      " |  isupper(self, /)\n",
      " |      Return True if the string is an uppercase string, False otherwise.\n",
      " |      \n",
      " |      A string is uppercase if all cased characters in the string are uppercase and\n",
      " |      there is at least one cased character in the string.\n",
      " |  \n",
      " |  join(self, iterable, /)\n",
      " |      Concatenate any number of strings.\n",
      " |      \n",
      " |      The string whose method is called is inserted in between each given string.\n",
      " |      The result is returned as a new string.\n",
      " |      \n",
      " |      Example: '.'.join(['ab', 'pq', 'rs']) -> 'ab.pq.rs'\n",
      " |  \n",
      " |  ljust(self, width, fillchar=' ', /)\n",
      " |      Return a left-justified string of length width.\n",
      " |      \n",
      " |      Padding is done using the specified fill character (default is a space).\n",
      " |  \n",
      " |  lower(self, /)\n",
      " |      Return a copy of the string converted to lowercase.\n",
      " |  \n",
      " |  lstrip(self, chars=None, /)\n",
      " |      Return a copy of the string with leading whitespace removed.\n",
      " |      \n",
      " |      If chars is given and not None, remove characters in chars instead.\n",
      " |  \n",
      " |  partition(self, sep, /)\n",
      " |      Partition the string into three parts using the given separator.\n",
      " |      \n",
      " |      This will search for the separator in the string.  If the separator is found,\n",
      " |      returns a 3-tuple containing the part before the separator, the separator\n",
      " |      itself, and the part after it.\n",
      " |      \n",
      " |      If the separator is not found, returns a 3-tuple containing the original string\n",
      " |      and two empty strings.\n",
      " |  \n",
      " |  replace(self, old, new, count=-1, /)\n",
      " |      Return a copy with all occurrences of substring old replaced by new.\n",
      " |      \n",
      " |        count\n",
      " |          Maximum number of occurrences to replace.\n",
      " |          -1 (the default value) means replace all occurrences.\n",
      " |      \n",
      " |      If the optional argument count is given, only the first count occurrences are\n",
      " |      replaced.\n",
      " |  \n",
      " |  rfind(...)\n",
      " |      S.rfind(sub[, start[, end]]) -> int\n",
      " |      \n",
      " |      Return the highest index in S where substring sub is found,\n",
      " |      such that sub is contained within S[start:end].  Optional\n",
      " |      arguments start and end are interpreted as in slice notation.\n",
      " |      \n",
      " |      Return -1 on failure.\n",
      " |  \n",
      " |  rindex(...)\n",
      " |      S.rindex(sub[, start[, end]]) -> int\n",
      " |      \n",
      " |      Return the highest index in S where substring sub is found,\n",
      " |      such that sub is contained within S[start:end].  Optional\n",
      " |      arguments start and end are interpreted as in slice notation.\n",
      " |      \n",
      " |      Raises ValueError when the substring is not found.\n",
      " |  \n",
      " |  rjust(self, width, fillchar=' ', /)\n",
      " |      Return a right-justified string of length width.\n",
      " |      \n",
      " |      Padding is done using the specified fill character (default is a space).\n",
      " |  \n",
      " |  rpartition(self, sep, /)\n",
      " |      Partition the string into three parts using the given separator.\n",
      " |      \n",
      " |      This will search for the separator in the string, starting at the end. If\n",
      " |      the separator is found, returns a 3-tuple containing the part before the\n",
      " |      separator, the separator itself, and the part after it.\n",
      " |      \n",
      " |      If the separator is not found, returns a 3-tuple containing two empty strings\n",
      " |      and the original string.\n",
      " |  \n",
      " |  rsplit(self, /, sep=None, maxsplit=-1)\n",
      " |      Return a list of the words in the string, using sep as the delimiter string.\n",
      " |      \n",
      " |        sep\n",
      " |          The delimiter according which to split the string.\n",
      " |          None (the default value) means split according to any whitespace,\n",
      " |          and discard empty strings from the result.\n",
      " |        maxsplit\n",
      " |          Maximum number of splits to do.\n",
      " |          -1 (the default value) means no limit.\n",
      " |      \n",
      " |      Splits are done starting at the end of the string and working to the front.\n",
      " |  \n",
      " |  rstrip(self, chars=None, /)\n",
      " |      Return a copy of the string with trailing whitespace removed.\n",
      " |      \n",
      " |      If chars is given and not None, remove characters in chars instead.\n",
      " |  \n",
      " |  split(self, /, sep=None, maxsplit=-1)\n",
      " |      Return a list of the words in the string, using sep as the delimiter string.\n",
      " |      \n",
      " |      sep\n",
      " |        The delimiter according which to split the string.\n",
      " |        None (the default value) means split according to any whitespace,\n",
      " |        and discard empty strings from the result.\n",
      " |      maxsplit\n",
      " |        Maximum number of splits to do.\n",
      " |        -1 (the default value) means no limit.\n",
      " |  \n",
      " |  splitlines(self, /, keepends=False)\n",
      " |      Return a list of the lines in the string, breaking at line boundaries.\n",
      " |      \n",
      " |      Line breaks are not included in the resulting list unless keepends is given and\n",
      " |      true.\n",
      " |  \n",
      " |  startswith(...)\n",
      " |      S.startswith(prefix[, start[, end]]) -> bool\n",
      " |      \n",
      " |      Return True if S starts with the specified prefix, False otherwise.\n",
      " |      With optional start, test S beginning at that position.\n",
      " |      With optional end, stop comparing S at that position.\n",
      " |      prefix can also be a tuple of strings to try.\n",
      " |  \n",
      " |  strip(self, chars=None, /)\n",
      " |      Return a copy of the string with leading and trailing whitespace remove.\n",
      " |      \n",
      " |      If chars is given and not None, remove characters in chars instead.\n",
      " |  \n",
      " |  swapcase(self, /)\n",
      " |      Convert uppercase characters to lowercase and lowercase characters to uppercase.\n",
      " |  \n",
      " |  title(self, /)\n",
      " |      Return a version of the string where each word is titlecased.\n",
      " |      \n",
      " |      More specifically, words start with uppercased characters and all remaining\n",
      " |      cased characters have lower case.\n",
      " |  \n",
      " |  translate(self, table, /)\n",
      " |      Replace each character in the string using the given translation table.\n",
      " |      \n",
      " |        table\n",
      " |          Translation table, which must be a mapping of Unicode ordinals to\n",
      " |          Unicode ordinals, strings, or None.\n",
      " |      \n",
      " |      The table must implement lookup/indexing via __getitem__, for instance a\n",
      " |      dictionary or list.  If this operation raises LookupError, the character is\n",
      " |      left untouched.  Characters mapped to None are deleted.\n",
      " |  \n",
      " |  upper(self, /)\n",
      " |      Return a copy of the string converted to uppercase.\n",
      " |  \n",
      " |  zfill(self, width, /)\n",
      " |      Pad a numeric string with zeros on the left, to fill a field of the given width.\n",
      " |      \n",
      " |      The string is never truncated.\n",
      " |  \n",
      " |  ----------------------------------------------------------------------\n",
      " |  Static methods defined here:\n",
      " |  \n",
      " |  __new__(*args, **kwargs) from builtins.type\n",
      " |      Create and return a new object.  See help(type) for accurate signature.\n",
      " |  \n",
      " |  maketrans(x, y=None, z=None, /)\n",
      " |      Return a translation table usable for str.translate().\n",
      " |      \n",
      " |      If there is only one argument, it must be a dictionary mapping Unicode\n",
      " |      ordinals (integers) or characters to Unicode ordinals, strings or None.\n",
      " |      Character keys will be then converted to ordinals.\n",
      " |      If there are two arguments, they must be strings of equal length, and\n",
      " |      in the resulting dictionary, each character in x will be mapped to the\n",
      " |      character at the same position in y. If there is a third argument, it\n",
      " |      must be a string, whose characters will be mapped to None in the result.\n"
     ]
    },
    {
     "name": "stdout",
     "output_type": "stream",
     "text": [
      "\n"
     ]
    }
   ],
   "source": [
    "help('str')"
   ]
  },
  {
   "cell_type": "code",
   "execution_count": 74,
   "metadata": {},
   "outputs": [
    {
     "name": "stdout",
     "output_type": "stream",
     "text": [
      "Help on list object:\n",
      "\n",
      "class list(object)\n",
      " |  list(iterable=(), /)\n",
      " |  \n",
      " |  Built-in mutable sequence.\n",
      " |  \n",
      " |  If no argument is given, the constructor creates a new empty list.\n",
      " |  The argument must be an iterable if specified.\n",
      " |  \n",
      " |  Methods defined here:\n",
      " |  \n",
      " |  __add__(self, value, /)\n",
      " |      Return self+value.\n",
      " |  \n",
      " |  __contains__(self, key, /)\n",
      " |      Return key in self.\n",
      " |  \n",
      " |  __delitem__(self, key, /)\n",
      " |      Delete self[key].\n",
      " |  \n",
      " |  __eq__(self, value, /)\n",
      " |      Return self==value.\n",
      " |  \n",
      " |  __ge__(self, value, /)\n",
      " |      Return self>=value.\n",
      " |  \n",
      " |  __getattribute__(self, name, /)\n",
      " |      Return getattr(self, name).\n",
      " |  \n",
      " |  __getitem__(...)\n",
      " |      x.__getitem__(y) <==> x[y]\n",
      " |  \n",
      " |  __gt__(self, value, /)\n",
      " |      Return self>value.\n",
      " |  \n",
      " |  __iadd__(self, value, /)\n",
      " |      Implement self+=value.\n",
      " |  \n",
      " |  __imul__(self, value, /)\n",
      " |      Implement self*=value.\n",
      " |  \n",
      " |  __init__(self, /, *args, **kwargs)\n",
      " |      Initialize self.  See help(type(self)) for accurate signature.\n",
      " |  \n",
      " |  __iter__(self, /)\n",
      " |      Implement iter(self).\n",
      " |  \n",
      " |  __le__(self, value, /)\n",
      " |      Return self<=value.\n",
      " |  \n",
      " |  __len__(self, /)\n",
      " |      Return len(self).\n",
      " |  \n",
      " |  __lt__(self, value, /)\n",
      " |      Return self<value.\n",
      " |  \n",
      " |  __mul__(self, value, /)\n",
      " |      Return self*value.\n",
      " |  \n",
      " |  __ne__(self, value, /)\n",
      " |      Return self!=value.\n",
      " |  \n",
      " |  __repr__(self, /)\n",
      " |      Return repr(self).\n",
      " |  \n",
      " |  __reversed__(self, /)\n",
      " |      Return a reverse iterator over the list.\n",
      " |  \n",
      " |  __rmul__(self, value, /)\n",
      " |      Return value*self.\n",
      " |  \n",
      " |  __setitem__(self, key, value, /)\n",
      " |      Set self[key] to value.\n",
      " |  \n",
      " |  __sizeof__(self, /)\n",
      " |      Return the size of the list in memory, in bytes.\n",
      " |  \n",
      " |  append(self, object, /)\n",
      " |      Append object to the end of the list.\n",
      " |  \n",
      " |  clear(self, /)\n",
      " |      Remove all items from list.\n",
      " |  \n",
      " |  copy(self, /)\n",
      " |      Return a shallow copy of the list.\n",
      " |  \n",
      " |  count(self, value, /)\n",
      " |      Return number of occurrences of value.\n",
      " |  \n",
      " |  extend(self, iterable, /)\n",
      " |      Extend list by appending elements from the iterable.\n",
      " |  \n",
      " |  index(self, value, start=0, stop=9223372036854775807, /)\n",
      " |      Return first index of value.\n",
      " |      \n",
      " |      Raises ValueError if the value is not present.\n",
      " |  \n",
      " |  insert(self, index, object, /)\n",
      " |      Insert object before index.\n",
      " |  \n",
      " |  pop(self, index=-1, /)\n",
      " |      Remove and return item at index (default last).\n",
      " |      \n",
      " |      Raises IndexError if list is empty or index is out of range.\n",
      " |  \n",
      " |  remove(self, value, /)\n",
      " |      Remove first occurrence of value.\n",
      " |      \n",
      " |      Raises ValueError if the value is not present.\n",
      " |  \n",
      " |  reverse(self, /)\n",
      " |      Reverse *IN PLACE*.\n",
      " |  \n",
      " |  sort(self, /, *, key=None, reverse=False)\n",
      " |      Stable sort *IN PLACE*.\n",
      " |  \n",
      " |  ----------------------------------------------------------------------\n",
      " |  Static methods defined here:\n",
      " |  \n",
      " |  __new__(*args, **kwargs) from builtins.type\n",
      " |      Create and return a new object.  See help(type) for accurate signature.\n",
      " |  \n",
      " |  ----------------------------------------------------------------------\n",
      " |  Data and other attributes defined here:\n",
      " |  \n",
      " |  __hash__ = None\n",
      "\n"
     ]
    }
   ],
   "source": [
    "help([1,2,3])"
   ]
  },
  {
   "cell_type": "code",
   "execution_count": 75,
   "metadata": {},
   "outputs": [
    {
     "name": "stdout",
     "output_type": "stream",
     "text": [
      "Help on built-in function append:\n",
      "\n",
      "append(object, /) method of builtins.list instance\n",
      "    Append object to the end of the list.\n",
      "\n"
     ]
    }
   ],
   "source": [
    "help([1,2,3].append)"
   ]
  },
  {
   "cell_type": "markdown",
   "metadata": {},
   "source": [
    "### 31. hex(x)"
   ]
  },
  {
   "cell_type": "markdown",
   "metadata": {},
   "source": [
    "- 将整数转换为以\"0x\"为前缀的小写十六进制字符串。\n",
    "- 如果x不是int对象，则必须定义返回整数的__index__()方法。"
   ]
  },
  {
   "cell_type": "code",
   "execution_count": 1,
   "metadata": {},
   "outputs": [
    {
     "data": {
      "text/plain": [
       "'0xff'"
      ]
     },
     "execution_count": 1,
     "metadata": {},
     "output_type": "execute_result"
    }
   ],
   "source": [
    "hex(255)"
   ]
  },
  {
   "cell_type": "code",
   "execution_count": 2,
   "metadata": {},
   "outputs": [
    {
     "data": {
      "text/plain": [
       "'-0x2a'"
      ]
     },
     "execution_count": 2,
     "metadata": {},
     "output_type": "execute_result"
    }
   ],
   "source": [
    "hex(-42)"
   ]
  },
  {
   "cell_type": "code",
   "execution_count": 3,
   "metadata": {},
   "outputs": [
    {
     "data": {
      "text/plain": [
       "('0xff', 'ff', 'FF')"
      ]
     },
     "execution_count": 3,
     "metadata": {},
     "output_type": "execute_result"
    }
   ],
   "source": [
    "# 转换十六进制的其它方法\n",
    "'%#x' % 255, '%x' % 255, '%X' % 255"
   ]
  },
  {
   "cell_type": "code",
   "execution_count": 4,
   "metadata": {},
   "outputs": [
    {
     "data": {
      "text/plain": [
       "('0xff', 'ff', 'FF')"
      ]
     },
     "execution_count": 4,
     "metadata": {},
     "output_type": "execute_result"
    }
   ],
   "source": [
    "format(255, '#x'), format(255, 'x'), format(255, 'X')"
   ]
  },
  {
   "cell_type": "code",
   "execution_count": 5,
   "metadata": {},
   "outputs": [
    {
     "data": {
      "text/plain": [
       "('0xff', 'ff', 'FF')"
      ]
     },
     "execution_count": 5,
     "metadata": {},
     "output_type": "execute_result"
    }
   ],
   "source": [
    "f'{255:#x}', f'{255:x}', f'{255:X}'"
   ]
  },
  {
   "cell_type": "markdown",
   "metadata": {},
   "source": [
    "### 32. id(object)"
   ]
  },
  {
   "cell_type": "markdown",
   "metadata": {},
   "source": [
    "- 返回对象的“标识值”，是一个整数，在此对象的生命周期中保证是唯一且恒定的。\n",
    "- 两个生命期不重叠的对象可能具有相同的id()值。"
   ]
  },
  {
   "cell_type": "code",
   "execution_count": 6,
   "metadata": {},
   "outputs": [
    {
     "data": {
      "text/plain": [
       "2921249801584"
      ]
     },
     "execution_count": 6,
     "metadata": {},
     "output_type": "execute_result"
    }
   ],
   "source": [
    "id('hello')"
   ]
  },
  {
   "cell_type": "code",
   "execution_count": 7,
   "metadata": {},
   "outputs": [
    {
     "data": {
      "text/plain": [
       "-967657264647262877"
      ]
     },
     "execution_count": 7,
     "metadata": {},
     "output_type": "execute_result"
    }
   ],
   "source": [
    "hash('hello')"
   ]
  },
  {
   "cell_type": "markdown",
   "metadata": {},
   "source": [
    "### 33. input([prompt])"
   ]
  },
  {
   "cell_type": "markdown",
   "metadata": {},
   "source": [
    "- 如果存在prompt实参，则将其写入标准输出，末尾不带换行符。\n",
    "- 该函数从输入中读取一行，将其转换为字符串并返回。\n",
    "- 当读取到EOF时，则触发EOFError"
   ]
  },
  {
   "cell_type": "code",
   "execution_count": 8,
   "metadata": {},
   "outputs": [
    {
     "name": "stdout",
     "output_type": "stream",
     "text": [
      "-->Monty python's flying circus\n"
     ]
    }
   ],
   "source": [
    "s = input('-->')"
   ]
  },
  {
   "cell_type": "code",
   "execution_count": 9,
   "metadata": {},
   "outputs": [
    {
     "data": {
      "text/plain": [
       "\"Monty python's flying circus\""
      ]
     },
     "execution_count": 9,
     "metadata": {},
     "output_type": "execute_result"
    }
   ],
   "source": [
    "s"
   ]
  },
  {
   "cell_type": "markdown",
   "metadata": {},
   "source": [
    "### 34. class int([x])\n",
    "###       class int(x,base=10)"
   ]
  },
  {
   "cell_type": "markdown",
   "metadata": {},
   "source": [
    "- 返回一个基于数字或字符串x构造的整数对象，未给出参数时返回0.\n",
    "- 如果x定义了__int__()，int(x)将返回x.__int__()。\n",
    "- 如果x定义了__index__()，将返回x.__index__()。\n",
    "- 如果x定义了__trunc__()，将返回x.__trunc__()。\n",
    "- 对于浮点数，它将向零舍入。\n",
    "- 如果x不是数字，或者有base参数，**x必须是字符串、bytes、表示进制为base的整数字面值的bytearray实例**。\n",
    "- 文字前可以有符号，中间不能有空格，前后可以有空格。\n",
    "- 允许的进制有0/2-36。2/8/16进制的数字可以在代码中用0b/0B 0o/0O 0x/0X前缀来表示。"
   ]
  },
  {
   "cell_type": "code",
   "execution_count": 10,
   "metadata": {},
   "outputs": [
    {
     "data": {
      "text/plain": [
       "10"
      ]
     },
     "execution_count": 10,
     "metadata": {},
     "output_type": "execute_result"
    }
   ],
   "source": [
    "int(10.9)"
   ]
  },
  {
   "cell_type": "code",
   "execution_count": 11,
   "metadata": {},
   "outputs": [
    {
     "ename": "TypeError",
     "evalue": "int() can't convert non-string with explicit base",
     "output_type": "error",
     "traceback": [
      "\u001b[1;31m---------------------------------------------------------------------------\u001b[0m",
      "\u001b[1;31mTypeError\u001b[0m                                 Traceback (most recent call last)",
      "\u001b[1;32m<ipython-input-11-b78c223fc90d>\u001b[0m in \u001b[0;36m<module>\u001b[1;34m\u001b[0m\n\u001b[1;32m----> 1\u001b[1;33m \u001b[0mint\u001b[0m\u001b[1;33m(\u001b[0m\u001b[1;36m12\u001b[0m\u001b[1;33m,\u001b[0m \u001b[0mbase\u001b[0m\u001b[1;33m=\u001b[0m\u001b[1;36m8\u001b[0m\u001b[1;33m)\u001b[0m\u001b[1;33m\u001b[0m\u001b[1;33m\u001b[0m\u001b[0m\n\u001b[0m",
      "\u001b[1;31mTypeError\u001b[0m: int() can't convert non-string with explicit base"
     ]
    }
   ],
   "source": [
    "int(12, base=8)"
   ]
  },
  {
   "cell_type": "code",
   "execution_count": 12,
   "metadata": {},
   "outputs": [
    {
     "data": {
      "text/plain": [
       "10"
      ]
     },
     "execution_count": 12,
     "metadata": {},
     "output_type": "execute_result"
    }
   ],
   "source": [
    "int('12', base=8)"
   ]
  },
  {
   "cell_type": "code",
   "execution_count": 18,
   "metadata": {},
   "outputs": [],
   "source": [
    "s = bytes('12', 'utf-8')"
   ]
  },
  {
   "cell_type": "code",
   "execution_count": 19,
   "metadata": {},
   "outputs": [
    {
     "data": {
      "text/plain": [
       "b'12'"
      ]
     },
     "execution_count": 19,
     "metadata": {},
     "output_type": "execute_result"
    }
   ],
   "source": [
    "s"
   ]
  },
  {
   "cell_type": "code",
   "execution_count": 20,
   "metadata": {},
   "outputs": [
    {
     "data": {
      "text/plain": [
       "10"
      ]
     },
     "execution_count": 20,
     "metadata": {},
     "output_type": "execute_result"
    }
   ],
   "source": [
    "int(s,base=8)"
   ]
  },
  {
   "cell_type": "markdown",
   "metadata": {},
   "source": [
    "### 35. isinstance(object,classinfo)"
   ]
  },
  {
   "cell_type": "markdown",
   "metadata": {},
   "source": [
    "- 如果参数object是参数classinfo的实例或者是其子类则返回true。\n",
    "- 如果object不是给定类型的对象，函数将总是返回false。\n",
    "- 如果classinfo是类型对象元组，那么object是其中一个类型的实例就返回true。\n",
    "- 如果classinfo既不是类型，也不是类型元组，则引发typeerror异常。"
   ]
  },
  {
   "cell_type": "code",
   "execution_count": 21,
   "metadata": {},
   "outputs": [
    {
     "data": {
      "text/plain": [
       "True"
      ]
     },
     "execution_count": 21,
     "metadata": {},
     "output_type": "execute_result"
    }
   ],
   "source": [
    "a = 2\n",
    "isinstance(a, int)"
   ]
  },
  {
   "cell_type": "code",
   "execution_count": 22,
   "metadata": {},
   "outputs": [
    {
     "data": {
      "text/plain": [
       "True"
      ]
     },
     "execution_count": 22,
     "metadata": {},
     "output_type": "execute_result"
    }
   ],
   "source": [
    "isinstance(a, (int, str))"
   ]
  },
  {
   "cell_type": "markdown",
   "metadata": {},
   "source": [
    "isinstance()与type()区别：\n",
    "- type()不会认为子类是一种父类类型，不考虑继承关系。\n",
    "- isinstance()会认为子类是一种父类类型，考虑继续关系。"
   ]
  },
  {
   "cell_type": "code",
   "execution_count": 25,
   "metadata": {},
   "outputs": [
    {
     "data": {
      "text/plain": [
       "False"
      ]
     },
     "execution_count": 25,
     "metadata": {},
     "output_type": "execute_result"
    }
   ],
   "source": [
    "type(True) == int"
   ]
  },
  {
   "cell_type": "code",
   "execution_count": 26,
   "metadata": {},
   "outputs": [
    {
     "data": {
      "text/plain": [
       "True"
      ]
     },
     "execution_count": 26,
     "metadata": {},
     "output_type": "execute_result"
    }
   ],
   "source": [
    "isinstance(True, int)"
   ]
  },
  {
   "cell_type": "markdown",
   "metadata": {},
   "source": [
    "### 36. issubclass(class,classinfo)"
   ]
  },
  {
   "cell_type": "markdown",
   "metadata": {},
   "source": [
    "- 如果class是classinfo的子类则返回true。\n",
    "- classinfo也可以是类对象的元组。"
   ]
  },
  {
   "cell_type": "code",
   "execution_count": 27,
   "metadata": {},
   "outputs": [
    {
     "data": {
      "text/plain": [
       "True"
      ]
     },
     "execution_count": 27,
     "metadata": {},
     "output_type": "execute_result"
    }
   ],
   "source": [
    "issubclass(bool, int)"
   ]
  },
  {
   "cell_type": "markdown",
   "metadata": {},
   "source": [
    "### 37. iter(object[,sentinel])"
   ]
  },
  {
   "cell_type": "markdown",
   "metadata": {},
   "source": [
    "- 返回一个iterator对象。\n",
    "- 如果没有第二个实参，object必须是支持迭代协议的集合对象，或必须支持序列协议。\n",
    "- 如果有第二个实参sentinel，那么object必须是可调用的对象"
   ]
  },
  {
   "cell_type": "code",
   "execution_count": 28,
   "metadata": {},
   "outputs": [
    {
     "name": "stdout",
     "output_type": "stream",
     "text": [
      "1\n",
      "2\n",
      "3\n"
     ]
    }
   ],
   "source": [
    "lst = [1, 2, 3]\n",
    "for i in iter(lst):\n",
    "    print(i)"
   ]
  },
  {
   "cell_type": "code",
   "execution_count": 29,
   "metadata": {},
   "outputs": [
    {
     "data": {
      "text/plain": [
       "<list_iterator at 0x2a82854e908>"
      ]
     },
     "execution_count": 29,
     "metadata": {},
     "output_type": "execute_result"
    }
   ],
   "source": [
    "iter(lst)"
   ]
  },
  {
   "cell_type": "markdown",
   "metadata": {},
   "source": [
    "### 38. len(s)"
   ]
  },
  {
   "cell_type": "markdown",
   "metadata": {},
   "source": [
    "- 返回对象的长度（元素个数）。\n",
    "- 实参可以是序列（string、bytes、tuple、list、range）或集合（dictionary、set）"
   ]
  },
  {
   "cell_type": "code",
   "execution_count": 31,
   "metadata": {},
   "outputs": [
    {
     "data": {
      "text/plain": [
       "3"
      ]
     },
     "execution_count": 31,
     "metadata": {},
     "output_type": "execute_result"
    }
   ],
   "source": [
    "len(lst)"
   ]
  },
  {
   "cell_type": "markdown",
   "metadata": {},
   "source": [
    "### 39. class list([iterable])"
   ]
  },
  {
   "cell_type": "markdown",
   "metadata": {},
   "source": [
    "- list实际上是一个可变序列类型。"
   ]
  },
  {
   "cell_type": "markdown",
   "metadata": {},
   "source": [
    "### 40. locals()"
   ]
  },
  {
   "cell_type": "markdown",
   "metadata": {},
   "source": [
    "- 更新并返回表示当前本地符号表的字典。\n",
    "- 在函数代码块但不是类代码块中调用locals()时将返回自由变量。\n",
    "- 在模块层级上，locals()和globals()是同一个字典。"
   ]
  },
  {
   "cell_type": "code",
   "execution_count": 32,
   "metadata": {},
   "outputs": [
    {
     "data": {
      "text/plain": [
       "{'__name__': '__main__',\n",
       " '__doc__': 'Automatically created module for IPython interactive environment',\n",
       " '__package__': None,\n",
       " '__loader__': None,\n",
       " '__spec__': None,\n",
       " '__builtin__': <module 'builtins' (built-in)>,\n",
       " '__builtins__': <module 'builtins' (built-in)>,\n",
       " '_ih': ['',\n",
       "  'hex(255)',\n",
       "  'hex(-42)',\n",
       "  \"# 转换十六进制的其它方法\\n'%#x' % 255, '%x' % 255, '%X' % 255\",\n",
       "  \"format(255, '#x'), format(255, 'x'), format(255, 'X')\",\n",
       "  \"f'{255:#x}', f'{255:x}', f'{255:X}'\",\n",
       "  \"id('hello')\",\n",
       "  \"hash('hello')\",\n",
       "  \"s = input('-->')\",\n",
       "  's',\n",
       "  'int(10.9)',\n",
       "  'int(12, base=8)',\n",
       "  \"int('12', base=8)\",\n",
       "  's = bytes(12)',\n",
       "  's',\n",
       "  'int(s,base=8)',\n",
       "  \"s = bytes('12')\",\n",
       "  \"s = bytes('12', encode='utf-8')\",\n",
       "  \"s = bytes('12', 'utf-8')\",\n",
       "  's',\n",
       "  'int(s,base=8)',\n",
       "  'a = 2\\nisinstance(a, int)',\n",
       "  'isinstance(a, (int, str))',\n",
       "  'type(true)',\n",
       "  'type(True)',\n",
       "  'type(True) == int',\n",
       "  'isinstance(True, int)',\n",
       "  'issubclass(bool, int)',\n",
       "  'lst = [1, 2, 3]\\nfor i in iter(lst):\\n    print(i)',\n",
       "  'iter(lst)',\n",
       "  'len(iter)',\n",
       "  'len(lst)',\n",
       "  'locals()'],\n",
       " '_oh': {1: '0xff',\n",
       "  2: '-0x2a',\n",
       "  3: ('0xff', 'ff', 'FF'),\n",
       "  4: ('0xff', 'ff', 'FF'),\n",
       "  5: ('0xff', 'ff', 'FF'),\n",
       "  6: 2921249801584,\n",
       "  7: -967657264647262877,\n",
       "  9: \"Monty python's flying circus\",\n",
       "  10: 10,\n",
       "  12: 10,\n",
       "  14: b'\\x00\\x00\\x00\\x00\\x00\\x00\\x00\\x00\\x00\\x00\\x00\\x00',\n",
       "  19: b'12',\n",
       "  20: 10,\n",
       "  21: True,\n",
       "  22: True,\n",
       "  24: bool,\n",
       "  25: False,\n",
       "  26: True,\n",
       "  27: True,\n",
       "  29: <list_iterator at 0x2a82854e908>,\n",
       "  31: 3},\n",
       " '_dh': ['E:\\\\learnpython\\\\常用模块'],\n",
       " 'In': ['',\n",
       "  'hex(255)',\n",
       "  'hex(-42)',\n",
       "  \"# 转换十六进制的其它方法\\n'%#x' % 255, '%x' % 255, '%X' % 255\",\n",
       "  \"format(255, '#x'), format(255, 'x'), format(255, 'X')\",\n",
       "  \"f'{255:#x}', f'{255:x}', f'{255:X}'\",\n",
       "  \"id('hello')\",\n",
       "  \"hash('hello')\",\n",
       "  \"s = input('-->')\",\n",
       "  's',\n",
       "  'int(10.9)',\n",
       "  'int(12, base=8)',\n",
       "  \"int('12', base=8)\",\n",
       "  's = bytes(12)',\n",
       "  's',\n",
       "  'int(s,base=8)',\n",
       "  \"s = bytes('12')\",\n",
       "  \"s = bytes('12', encode='utf-8')\",\n",
       "  \"s = bytes('12', 'utf-8')\",\n",
       "  's',\n",
       "  'int(s,base=8)',\n",
       "  'a = 2\\nisinstance(a, int)',\n",
       "  'isinstance(a, (int, str))',\n",
       "  'type(true)',\n",
       "  'type(True)',\n",
       "  'type(True) == int',\n",
       "  'isinstance(True, int)',\n",
       "  'issubclass(bool, int)',\n",
       "  'lst = [1, 2, 3]\\nfor i in iter(lst):\\n    print(i)',\n",
       "  'iter(lst)',\n",
       "  'len(iter)',\n",
       "  'len(lst)',\n",
       "  'locals()'],\n",
       " 'Out': {1: '0xff',\n",
       "  2: '-0x2a',\n",
       "  3: ('0xff', 'ff', 'FF'),\n",
       "  4: ('0xff', 'ff', 'FF'),\n",
       "  5: ('0xff', 'ff', 'FF'),\n",
       "  6: 2921249801584,\n",
       "  7: -967657264647262877,\n",
       "  9: \"Monty python's flying circus\",\n",
       "  10: 10,\n",
       "  12: 10,\n",
       "  14: b'\\x00\\x00\\x00\\x00\\x00\\x00\\x00\\x00\\x00\\x00\\x00\\x00',\n",
       "  19: b'12',\n",
       "  20: 10,\n",
       "  21: True,\n",
       "  22: True,\n",
       "  24: bool,\n",
       "  25: False,\n",
       "  26: True,\n",
       "  27: True,\n",
       "  29: <list_iterator at 0x2a82854e908>,\n",
       "  31: 3},\n",
       " 'get_ipython': <bound method InteractiveShell.get_ipython of <ipykernel.zmqshell.ZMQInteractiveShell object at 0x000002A8262E11D0>>,\n",
       " 'exit': <IPython.core.autocall.ZMQExitAutocall at 0x2a828002278>,\n",
       " 'quit': <IPython.core.autocall.ZMQExitAutocall at 0x2a828002278>,\n",
       " '_': 3,\n",
       " '__': <list_iterator at 0x2a82854e908>,\n",
       " '___': True,\n",
       " '_i': 'len(lst)',\n",
       " '_ii': 'len(iter)',\n",
       " '_iii': 'iter(lst)',\n",
       " '_i1': 'hex(255)',\n",
       " '_1': '0xff',\n",
       " '_i2': 'hex(-42)',\n",
       " '_2': '-0x2a',\n",
       " '_i3': \"# 转换十六进制的其它方法\\n'%#x' % 255, '%x' % 255, '%X' % 255\",\n",
       " '_3': ('0xff', 'ff', 'FF'),\n",
       " '_i4': \"format(255, '#x'), format(255, 'x'), format(255, 'X')\",\n",
       " '_4': ('0xff', 'ff', 'FF'),\n",
       " '_i5': \"f'{255:#x}', f'{255:x}', f'{255:X}'\",\n",
       " '_5': ('0xff', 'ff', 'FF'),\n",
       " '_i6': \"id('hello')\",\n",
       " '_6': 2921249801584,\n",
       " '_i7': \"hash('hello')\",\n",
       " '_7': -967657264647262877,\n",
       " '_i8': \"s = input('-->')\",\n",
       " 's': b'12',\n",
       " '_i9': 's',\n",
       " '_9': \"Monty python's flying circus\",\n",
       " '_i10': 'int(10.9)',\n",
       " '_10': 10,\n",
       " '_i11': 'int(12, base=8)',\n",
       " '_i12': \"int('12', base=8)\",\n",
       " '_12': 10,\n",
       " '_i13': 's = bytes(12)',\n",
       " '_i14': 's',\n",
       " '_14': b'\\x00\\x00\\x00\\x00\\x00\\x00\\x00\\x00\\x00\\x00\\x00\\x00',\n",
       " '_i15': 'int(s,base=8)',\n",
       " '_i16': \"s = bytes('12')\",\n",
       " '_i17': \"s = bytes('12', encode='utf-8')\",\n",
       " '_i18': \"s = bytes('12', 'utf-8')\",\n",
       " '_i19': 's',\n",
       " '_19': b'12',\n",
       " '_i20': 'int(s,base=8)',\n",
       " '_20': 10,\n",
       " '_i21': 'a = 2\\nisinstance(a, int)',\n",
       " 'a': 2,\n",
       " '_21': True,\n",
       " '_i22': 'isinstance(a, (int, str))',\n",
       " '_22': True,\n",
       " '_i23': 'type(true)',\n",
       " '_i24': 'type(True)',\n",
       " '_24': bool,\n",
       " '_i25': 'type(True) == int',\n",
       " '_25': False,\n",
       " '_i26': 'isinstance(True, int)',\n",
       " '_26': True,\n",
       " '_i27': 'issubclass(bool, int)',\n",
       " '_27': True,\n",
       " '_i28': 'lst = [1, 2, 3]\\nfor i in iter(lst):\\n    print(i)',\n",
       " 'lst': [1, 2, 3],\n",
       " 'i': 3,\n",
       " '_i29': 'iter(lst)',\n",
       " '_29': <list_iterator at 0x2a82854e908>,\n",
       " '_i30': 'len(iter)',\n",
       " '_i31': 'len(lst)',\n",
       " '_31': 3,\n",
       " '_i32': 'locals()'}"
      ]
     },
     "execution_count": 32,
     "metadata": {},
     "output_type": "execute_result"
    }
   ],
   "source": [
    "locals()"
   ]
  },
  {
   "cell_type": "markdown",
   "metadata": {},
   "source": [
    "### 41. map(function,iterable,...)"
   ]
  },
  {
   "cell_type": "markdown",
   "metadata": {},
   "source": [
    "- 返回一个将function应用于iterable中每一项并输出其结果的迭代器。\n",
    "- 当有多个可迭代对象时，最短的可迭代对象耗尽则整个迭代就将结束。"
   ]
  },
  {
   "cell_type": "code",
   "execution_count": 36,
   "metadata": {},
   "outputs": [],
   "source": [
    "ss = map(lambda x: x*2, [1, 2, 3, 4])"
   ]
  },
  {
   "cell_type": "code",
   "execution_count": 37,
   "metadata": {},
   "outputs": [
    {
     "name": "stdout",
     "output_type": "stream",
     "text": [
      "2\n",
      "4\n",
      "6\n",
      "8\n"
     ]
    }
   ],
   "source": [
    "for i in ss:\n",
    "    print(i)"
   ]
  },
  {
   "cell_type": "markdown",
   "metadata": {},
   "source": [
    "### 42. max(iterable,*[,key,default])"
   ]
  },
  {
   "cell_type": "markdown",
   "metadata": {},
   "source": [
    "### max(arg1,arg2,*args[,key])"
   ]
  },
  {
   "cell_type": "markdown",
   "metadata": {},
   "source": [
    "- 返回可迭代对象中最大的元素。\n",
    "- key实参指定排序函数用的参数，如传给list.sort()的。\n",
    "- default实参是当可迭代对象为空时返回的值。\n",
    "- 如果iterable为空，并且没有给default，则会触发VulueError"
   ]
  },
  {
   "cell_type": "code",
   "execution_count": 38,
   "metadata": {},
   "outputs": [
    {
     "data": {
      "text/plain": [
       "4"
      ]
     },
     "execution_count": 38,
     "metadata": {},
     "output_type": "execute_result"
    }
   ],
   "source": [
    "max([1,2,3,4])"
   ]
  },
  {
   "cell_type": "code",
   "execution_count": 39,
   "metadata": {},
   "outputs": [
    {
     "data": {
      "text/plain": [
       "4"
      ]
     },
     "execution_count": 39,
     "metadata": {},
     "output_type": "execute_result"
    }
   ],
   "source": [
    "max(1,2,3,4)"
   ]
  },
  {
   "cell_type": "code",
   "execution_count": 40,
   "metadata": {},
   "outputs": [
    {
     "data": {
      "text/plain": [
       "'d'"
      ]
     },
     "execution_count": 40,
     "metadata": {},
     "output_type": "execute_result"
    }
   ],
   "source": [
    "max('a', 'b', 'd')"
   ]
  },
  {
   "cell_type": "markdown",
   "metadata": {},
   "source": [
    "### 43. memoryview(obj)"
   ]
  },
  {
   "cell_type": "markdown",
   "metadata": {},
   "source": [
    "- 返回由给定实参创建的“内存视图”对象。\n",
    "- 内存视图对象是指对支持缓冲区协议的数据进行包装，在不需要复制对象基础上允许python代码访问"
   ]
  },
  {
   "cell_type": "code",
   "execution_count": 42,
   "metadata": {},
   "outputs": [
    {
     "name": "stdout",
     "output_type": "stream",
     "text": [
      "Help on class memoryview in module builtins:\n",
      "\n",
      "class memoryview(object)\n",
      " |  memoryview(object)\n",
      " |  \n",
      " |  Create a new memoryview object which references the given object.\n",
      " |  \n",
      " |  Methods defined here:\n",
      " |  \n",
      " |  __delitem__(self, key, /)\n",
      " |      Delete self[key].\n",
      " |  \n",
      " |  __enter__(...)\n",
      " |  \n",
      " |  __eq__(self, value, /)\n",
      " |      Return self==value.\n",
      " |  \n",
      " |  __exit__(...)\n",
      " |  \n",
      " |  __ge__(self, value, /)\n",
      " |      Return self>=value.\n",
      " |  \n",
      " |  __getattribute__(self, name, /)\n",
      " |      Return getattr(self, name).\n",
      " |  \n",
      " |  __getitem__(self, key, /)\n",
      " |      Return self[key].\n",
      " |  \n",
      " |  __gt__(self, value, /)\n",
      " |      Return self>value.\n",
      " |  \n",
      " |  __hash__(self, /)\n",
      " |      Return hash(self).\n",
      " |  \n",
      " |  __le__(self, value, /)\n",
      " |      Return self<=value.\n",
      " |  \n",
      " |  __len__(self, /)\n",
      " |      Return len(self).\n",
      " |  \n",
      " |  __lt__(self, value, /)\n",
      " |      Return self<value.\n",
      " |  \n",
      " |  __ne__(self, value, /)\n",
      " |      Return self!=value.\n",
      " |  \n",
      " |  __repr__(self, /)\n",
      " |      Return repr(self).\n",
      " |  \n",
      " |  __setitem__(self, key, value, /)\n",
      " |      Set self[key] to value.\n",
      " |  \n",
      " |  cast(self, /, format, *, shape)\n",
      " |      Cast a memoryview to a new format or shape.\n",
      " |  \n",
      " |  hex(self, /)\n",
      " |      Return the data in the buffer as a string of hexadecimal numbers.\n",
      " |  \n",
      " |  release(self, /)\n",
      " |      Release the underlying buffer exposed by the memoryview object.\n",
      " |  \n",
      " |  tobytes(self, /)\n",
      " |      Return the data in the buffer as a byte string.\n",
      " |  \n",
      " |  tolist(self, /)\n",
      " |      Return the data in the buffer as a list of elements.\n",
      " |  \n",
      " |  ----------------------------------------------------------------------\n",
      " |  Static methods defined here:\n",
      " |  \n",
      " |  __new__(*args, **kwargs) from builtins.type\n",
      " |      Create and return a new object.  See help(type) for accurate signature.\n",
      " |  \n",
      " |  ----------------------------------------------------------------------\n",
      " |  Data descriptors defined here:\n",
      " |  \n",
      " |  c_contiguous\n",
      " |      A bool indicating whether the memory is C contiguous.\n",
      " |  \n",
      " |  contiguous\n",
      " |      A bool indicating whether the memory is contiguous.\n",
      " |  \n",
      " |  f_contiguous\n",
      " |      A bool indicating whether the memory is Fortran contiguous.\n",
      " |  \n",
      " |  format\n",
      " |      A string containing the format (in struct module style)\n",
      " |      for each element in the view.\n",
      " |  \n",
      " |  itemsize\n",
      " |      The size in bytes of each element of the memoryview.\n",
      " |  \n",
      " |  nbytes\n",
      " |      The amount of space in bytes that the array would use in\n",
      " |      a contiguous representation.\n",
      " |  \n",
      " |  ndim\n",
      " |      An integer indicating how many dimensions of a multi-dimensional\n",
      " |      array the memory represents.\n",
      " |  \n",
      " |  obj\n",
      " |      The underlying object of the memoryview.\n",
      " |  \n",
      " |  readonly\n",
      " |      A bool indicating whether the memory is read only.\n",
      " |  \n",
      " |  shape\n",
      " |      A tuple of ndim integers giving the shape of the memory\n",
      " |      as an N-dimensional array.\n",
      " |  \n",
      " |  strides\n",
      " |      A tuple of ndim integers giving the size in bytes to access\n",
      " |      each element for each dimension of the array.\n",
      " |  \n",
      " |  suboffsets\n",
      " |      A tuple of integers used internally for PIL-style arrays.\n",
      "\n"
     ]
    }
   ],
   "source": [
    "help(memoryview)"
   ]
  },
  {
   "cell_type": "code",
   "execution_count": 43,
   "metadata": {},
   "outputs": [],
   "source": [
    "v = memoryview(bytes('abcdefg', 'utf-8'))"
   ]
  },
  {
   "cell_type": "code",
   "execution_count": 44,
   "metadata": {},
   "outputs": [
    {
     "data": {
      "text/plain": [
       "98"
      ]
     },
     "execution_count": 44,
     "metadata": {},
     "output_type": "execute_result"
    }
   ],
   "source": [
    "v[1]"
   ]
  },
  {
   "cell_type": "code",
   "execution_count": 46,
   "metadata": {},
   "outputs": [
    {
     "data": {
      "text/plain": [
       "99"
      ]
     },
     "execution_count": 46,
     "metadata": {},
     "output_type": "execute_result"
    }
   ],
   "source": [
    "v[2]"
   ]
  },
  {
   "cell_type": "code",
   "execution_count": 47,
   "metadata": {},
   "outputs": [
    {
     "data": {
      "text/plain": [
       "7"
      ]
     },
     "execution_count": 47,
     "metadata": {},
     "output_type": "execute_result"
    }
   ],
   "source": [
    "len(v)"
   ]
  },
  {
   "cell_type": "code",
   "execution_count": 48,
   "metadata": {},
   "outputs": [
    {
     "data": {
      "text/plain": [
       "'b'"
      ]
     },
     "execution_count": 48,
     "metadata": {},
     "output_type": "execute_result"
    }
   ],
   "source": [
    "chr(98)"
   ]
  },
  {
   "cell_type": "code",
   "execution_count": 49,
   "metadata": {},
   "outputs": [
    {
     "data": {
      "text/plain": [
       "97"
      ]
     },
     "execution_count": 49,
     "metadata": {},
     "output_type": "execute_result"
    }
   ],
   "source": [
    "v[0]"
   ]
  },
  {
   "cell_type": "code",
   "execution_count": 50,
   "metadata": {},
   "outputs": [
    {
     "data": {
      "text/plain": [
       "b'abcdefg'"
      ]
     },
     "execution_count": 50,
     "metadata": {},
     "output_type": "execute_result"
    }
   ],
   "source": [
    "v.tobytes()"
   ]
  },
  {
   "cell_type": "markdown",
   "metadata": {},
   "source": [
    "### 44. min(iterable,*[,key,default]) \\ min(arg1,arg2,*args[,key])"
   ]
  },
  {
   "cell_type": "markdown",
   "metadata": {},
   "source": [
    "- 返回可迭代对象中最小的元素，或者返回两个及以上实参中最小的。"
   ]
  },
  {
   "cell_type": "markdown",
   "metadata": {},
   "source": [
    "### 45. next(iterator[,default])"
   ]
  },
  {
   "cell_type": "markdown",
   "metadata": {},
   "source": [
    "- 通过调用iterator的__next__()方法获取下一个元素。\n",
    "- 如果迭代器耗尽，则返回给定的default，如果没有则触发StopIteration"
   ]
  },
  {
   "cell_type": "code",
   "execution_count": 53,
   "metadata": {},
   "outputs": [
    {
     "data": {
      "text/plain": [
       "1"
      ]
     },
     "execution_count": 53,
     "metadata": {},
     "output_type": "execute_result"
    }
   ],
   "source": [
    "it = iter([1,2,4,5])\n",
    "next(it, 'end')"
   ]
  },
  {
   "cell_type": "code",
   "execution_count": 54,
   "metadata": {},
   "outputs": [
    {
     "data": {
      "text/plain": [
       "2"
      ]
     },
     "execution_count": 54,
     "metadata": {},
     "output_type": "execute_result"
    }
   ],
   "source": [
    "next(it, 'end')"
   ]
  },
  {
   "cell_type": "code",
   "execution_count": 55,
   "metadata": {},
   "outputs": [
    {
     "data": {
      "text/plain": [
       "4"
      ]
     },
     "execution_count": 55,
     "metadata": {},
     "output_type": "execute_result"
    }
   ],
   "source": [
    "next(it, 'end')"
   ]
  },
  {
   "cell_type": "code",
   "execution_count": 56,
   "metadata": {},
   "outputs": [
    {
     "data": {
      "text/plain": [
       "5"
      ]
     },
     "execution_count": 56,
     "metadata": {},
     "output_type": "execute_result"
    }
   ],
   "source": [
    "next(it, 'end')"
   ]
  },
  {
   "cell_type": "code",
   "execution_count": 57,
   "metadata": {},
   "outputs": [
    {
     "data": {
      "text/plain": [
       "'end'"
      ]
     },
     "execution_count": 57,
     "metadata": {},
     "output_type": "execute_result"
    }
   ],
   "source": [
    "next(it, 'end')"
   ]
  },
  {
   "cell_type": "code",
   "execution_count": 58,
   "metadata": {},
   "outputs": [
    {
     "data": {
      "text/plain": [
       "'end'"
      ]
     },
     "execution_count": 58,
     "metadata": {},
     "output_type": "execute_result"
    }
   ],
   "source": [
    "next(it, 'end')"
   ]
  },
  {
   "cell_type": "markdown",
   "metadata": {},
   "source": [
    "### 46. class object"
   ]
  },
  {
   "cell_type": "markdown",
   "metadata": {},
   "source": [
    "- 返回一个没有新特征的新对象。\n",
    "- 是所有类的基类。具有所有python类实例的通用方法。\n",
    "- 这个函数不接受任何实参。"
   ]
  },
  {
   "cell_type": "code",
   "execution_count": 59,
   "metadata": {},
   "outputs": [
    {
     "data": {
      "text/plain": [
       "object"
      ]
     },
     "execution_count": 59,
     "metadata": {},
     "output_type": "execute_result"
    }
   ],
   "source": [
    "object"
   ]
  },
  {
   "cell_type": "markdown",
   "metadata": {},
   "source": [
    "### 47. oct(x)"
   ]
  },
  {
   "cell_type": "markdown",
   "metadata": {},
   "source": [
    "- 将一个整数转变为一个前缀为“0o”的八进制字符串。\n",
    "- 如果不是int对象，那它需要定义__indec__()方法返回一个整数"
   ]
  },
  {
   "cell_type": "code",
   "execution_count": 60,
   "metadata": {},
   "outputs": [
    {
     "data": {
      "text/plain": [
       "'0o10'"
      ]
     },
     "execution_count": 60,
     "metadata": {},
     "output_type": "execute_result"
    }
   ],
   "source": [
    "oct(8)"
   ]
  },
  {
   "cell_type": "code",
   "execution_count": 61,
   "metadata": {},
   "outputs": [
    {
     "data": {
      "text/plain": [
       "'-0o70'"
      ]
     },
     "execution_count": 61,
     "metadata": {},
     "output_type": "execute_result"
    }
   ],
   "source": [
    "oct(-56)"
   ]
  },
  {
   "cell_type": "code",
   "execution_count": 62,
   "metadata": {},
   "outputs": [
    {
     "data": {
      "text/plain": [
       "('0o12', '12')"
      ]
     },
     "execution_count": 62,
     "metadata": {},
     "output_type": "execute_result"
    }
   ],
   "source": [
    "# 其它方法\n",
    "'%#o' % 10, '%o' % 10"
   ]
  },
  {
   "cell_type": "code",
   "execution_count": 63,
   "metadata": {},
   "outputs": [
    {
     "data": {
      "text/plain": [
       "('0o12', '12')"
      ]
     },
     "execution_count": 63,
     "metadata": {},
     "output_type": "execute_result"
    }
   ],
   "source": [
    "format(10, '#o'), format(10,'o')"
   ]
  },
  {
   "cell_type": "code",
   "execution_count": 64,
   "metadata": {},
   "outputs": [
    {
     "data": {
      "text/plain": [
       "('0o12', '12')"
      ]
     },
     "execution_count": 64,
     "metadata": {},
     "output_type": "execute_result"
    }
   ],
   "source": [
    "f'{10:#o}', f'{10:o}'"
   ]
  },
  {
   "cell_type": "markdown",
   "metadata": {},
   "source": [
    "### 48. open(file,mode='r',buffering=-1,encoding=None,errors=None,\n",
    "### newline=None,closefd=True,opener=None)"
   ]
  },
  {
   "cell_type": "markdown",
   "metadata": {},
   "source": [
    "- 打开file并返回对应的file object。如果该文件不能打开，则触发OSError。\n",
    "- file是个path=like object，表示将要打开的文件路径，也可以是要被封装的整数类型文件描述符。\n",
    "- mode是一个可选字符串，用于指定打开文件的模式。\n",
    "- 'r'读取，'w'写入，'x'排它性创建，'a'追加，'b'二进制模式，'t'文本模式，'+'打开用于更新\n",
    "- 模式'w+'与'w+b'打开文件并清空内容，模式'r+'与'r+b'打开并不清空内容。\n",
    "- 以二进制模式打开的文件返回的内容是bytes对象，不进行任何解码。\n",
    "- 在文本模式下，文件内容返回为str，首先使用指定的encoding或平台默认的字节码解码。"
   ]
  },
  {
   "cell_type": "markdown",
   "metadata": {},
   "source": [
    "### 49. ord(c)"
   ]
  },
  {
   "cell_type": "markdown",
   "metadata": {},
   "source": [
    "- 对表示单个Unicode字符的字符串，返回代表它Unicode码点的整数。\n",
    "- 是chr()的逆函数"
   ]
  },
  {
   "cell_type": "code",
   "execution_count": 1,
   "metadata": {},
   "outputs": [
    {
     "data": {
      "text/plain": [
       "97"
      ]
     },
     "execution_count": 1,
     "metadata": {},
     "output_type": "execute_result"
    }
   ],
   "source": [
    "ord('a')"
   ]
  },
  {
   "cell_type": "code",
   "execution_count": 2,
   "metadata": {},
   "outputs": [
    {
     "data": {
      "text/plain": [
       "38"
      ]
     },
     "execution_count": 2,
     "metadata": {},
     "output_type": "execute_result"
    }
   ],
   "source": [
    "ord('&')"
   ]
  },
  {
   "cell_type": "markdown",
   "metadata": {},
   "source": [
    "### 50. pow(base,exp[,mod])"
   ]
  },
  {
   "cell_type": "markdown",
   "metadata": {},
   "source": [
    "- 返回base的exp次幂；\n",
    "- 如果mod存在，则返回base的exp次幂对mod取余。\n",
    "- 参数必须具有数值类型。对于混用的操作数类型，应用双目算术运算符的类型强制转换规则。\n",
    "- mod必须为整数类型并且mod不为零。"
   ]
  },
  {
   "cell_type": "code",
   "execution_count": 3,
   "metadata": {},
   "outputs": [
    {
     "data": {
      "text/plain": [
       "0.02631578947368421"
      ]
     },
     "execution_count": 3,
     "metadata": {},
     "output_type": "execute_result"
    }
   ],
   "source": [
    "pow(38,-1)"
   ]
  },
  {
   "cell_type": "code",
   "execution_count": 4,
   "metadata": {},
   "outputs": [
    {
     "ename": "TypeError",
     "evalue": "pow() takes no keyword arguments",
     "output_type": "error",
     "traceback": [
      "\u001b[1;31m---------------------------------------------------------------------------\u001b[0m",
      "\u001b[1;31mTypeError\u001b[0m                                 Traceback (most recent call last)",
      "\u001b[1;32m<ipython-input-4-7f23d81989ca>\u001b[0m in \u001b[0;36m<module>\u001b[1;34m\u001b[0m\n\u001b[1;32m----> 1\u001b[1;33m \u001b[0mpow\u001b[0m\u001b[1;33m(\u001b[0m\u001b[1;36m38\u001b[0m\u001b[1;33m,\u001b[0m \u001b[1;33m-\u001b[0m\u001b[1;36m1\u001b[0m\u001b[1;33m,\u001b[0m \u001b[0mmod\u001b[0m\u001b[1;33m=\u001b[0m\u001b[1;36m97\u001b[0m\u001b[1;33m)\u001b[0m\u001b[1;33m\u001b[0m\u001b[1;33m\u001b[0m\u001b[0m\n\u001b[0m",
      "\u001b[1;31mTypeError\u001b[0m: pow() takes no keyword arguments"
     ]
    }
   ],
   "source": [
    "pow(38, -1, mod=97)"
   ]
  },
  {
   "cell_type": "code",
   "execution_count": 5,
   "metadata": {},
   "outputs": [
    {
     "name": "stdout",
     "output_type": "stream",
     "text": [
      "Help on built-in function pow in module builtins:\n",
      "\n",
      "pow(x, y, z=None, /)\n",
      "    Equivalent to x**y (with two arguments) or x**y % z (with three arguments)\n",
      "    \n",
      "    Some types, such as ints, are able to use a more efficient algorithm when\n",
      "    invoked using the three argument form.\n",
      "\n"
     ]
    }
   ],
   "source": [
    "help(pow)"
   ]
  },
  {
   "cell_type": "code",
   "execution_count": 7,
   "metadata": {},
   "outputs": [
    {
     "data": {
      "text/plain": [
       "86"
      ]
     },
     "execution_count": 7,
     "metadata": {},
     "output_type": "execute_result"
    }
   ],
   "source": [
    "pow(38, 2, 97)"
   ]
  },
  {
   "cell_type": "markdown",
   "metadata": {},
   "source": [
    "### 51. print(*objects,sep=' ',end='\\n',file=sys.stdout,flush=False)"
   ]
  },
  {
   "cell_type": "markdown",
   "metadata": {},
   "source": [
    "- 将objects打印到file指定的文本流，以sep分隔并在末尾加上end。\n",
    "- sep，end，file和flush如果存在，必须以关键字参数的形式给出。"
   ]
  },
  {
   "cell_type": "markdown",
   "metadata": {},
   "source": [
    "### 52. class property(fget=None,fset=None,fdel=None,doc=None)"
   ]
  },
  {
   "cell_type": "markdown",
   "metadata": {},
   "source": [
    "- 返回property属性。\n",
    "- fget是获取属性值的函数。\n",
    "- fset是用于设置属性值的函数。\n",
    "- fdel是用于删除属性值的函数。\n",
    "- doc为属性对象创建文档字符串。"
   ]
  },
  {
   "cell_type": "code",
   "execution_count": 8,
   "metadata": {},
   "outputs": [],
   "source": [
    "# 一个典型的用法是定义一个托管属性x\n",
    "class C:\n",
    "    def __init__(self):\n",
    "        self._x = None\n",
    "        \n",
    "    def getx(self):\n",
    "        return self._x\n",
    "    \n",
    "    def setx(self):\n",
    "        self._x = value\n",
    "        \n",
    "    def delx(self):\n",
    "        del self._x\n",
    "        \n",
    "    x = property(getx, setx, delx, \"I'm the 'x' property.\")"
   ]
  },
  {
   "cell_type": "code",
   "execution_count": 9,
   "metadata": {},
   "outputs": [
    {
     "data": {
      "text/plain": [
       "<property at 0x1f12f6ecd18>"
      ]
     },
     "execution_count": 9,
     "metadata": {},
     "output_type": "execute_result"
    }
   ],
   "source": [
    "c = C\n",
    "c.x"
   ]
  },
  {
   "cell_type": "code",
   "execution_count": 10,
   "metadata": {},
   "outputs": [],
   "source": [
    "c.x = 100"
   ]
  },
  {
   "cell_type": "code",
   "execution_count": 11,
   "metadata": {},
   "outputs": [
    {
     "data": {
      "text/plain": [
       "100"
      ]
     },
     "execution_count": 11,
     "metadata": {},
     "output_type": "execute_result"
    }
   ],
   "source": [
    "c.x"
   ]
  },
  {
   "cell_type": "markdown",
   "metadata": {},
   "source": [
    "如果c是C的实例，c.x将调用getter，c.x = value将调用setter，del c.x将调用deleter。"
   ]
  },
  {
   "cell_type": "code",
   "execution_count": 12,
   "metadata": {},
   "outputs": [],
   "source": [
    "# 例2. @property装饰器\n",
    "class Parrot:\n",
    "    def __init__(self):\n",
    "        self._voltage = 10000\n",
    "        \n",
    "    @property\n",
    "    def voltage(self):\n",
    "        \"\"\"Get the current voltage.\"\"\"\n",
    "        return self._voltage"
   ]
  },
  {
   "cell_type": "markdown",
   "metadata": {},
   "source": [
    "以上@property装饰器会将voltage()方法转化为一个具有相同名称的只读属性\"getter\"，并将voltage的文档字符串设置"
   ]
  },
  {
   "cell_type": "code",
   "execution_count": 14,
   "metadata": {},
   "outputs": [],
   "source": [
    "# 例3. 与例1等价\n",
    "class D:\n",
    "    def __init__(self):\n",
    "        self._x = None\n",
    "        \n",
    "    @property\n",
    "    def x(self):\n",
    "        \"\"\"I'm the 'x' property\"\"\"\n",
    "        return self._x\n",
    "    \n",
    "    @x.setter\n",
    "    def x(self, value):\n",
    "        self._x = value\n",
    "        \n",
    "    @x.deleter\n",
    "    def x(self):\n",
    "        del self._x"
   ]
  },
  {
   "cell_type": "markdown",
   "metadata": {},
   "source": [
    "### 53. range(stop), range(start, stop[,step])"
   ]
  },
  {
   "cell_type": "markdown",
   "metadata": {},
   "source": [
    "- 一个不可变的序列类型"
   ]
  },
  {
   "cell_type": "markdown",
   "metadata": {},
   "source": [
    "### 54. repr(object)"
   ]
  },
  {
   "cell_type": "markdown",
   "metadata": {},
   "source": [
    "- 返回包含一个对象的可打印表示的字符串。"
   ]
  },
  {
   "cell_type": "code",
   "execution_count": 16,
   "metadata": {},
   "outputs": [
    {
     "data": {
      "text/plain": [
       "'5'"
      ]
     },
     "execution_count": 16,
     "metadata": {},
     "output_type": "execute_result"
    }
   ],
   "source": [
    "repr(5)"
   ]
  },
  {
   "cell_type": "code",
   "execution_count": 17,
   "metadata": {},
   "outputs": [
    {
     "data": {
      "text/plain": [
       "\"'hello'\""
      ]
     },
     "execution_count": 17,
     "metadata": {},
     "output_type": "execute_result"
    }
   ],
   "source": [
    "repr('hello')"
   ]
  },
  {
   "cell_type": "code",
   "execution_count": 18,
   "metadata": {},
   "outputs": [
    {
     "data": {
      "text/plain": [
       "'hello'"
      ]
     },
     "execution_count": 18,
     "metadata": {},
     "output_type": "execute_result"
    }
   ],
   "source": [
    "eval(\"'hello'\")"
   ]
  },
  {
   "cell_type": "code",
   "execution_count": 19,
   "metadata": {},
   "outputs": [
    {
     "data": {
      "text/plain": [
       "int"
      ]
     },
     "execution_count": 19,
     "metadata": {},
     "output_type": "execute_result"
    }
   ],
   "source": [
    "type(eval('5'))"
   ]
  },
  {
   "cell_type": "markdown",
   "metadata": {},
   "source": [
    "### 55. reversed(seq)"
   ]
  },
  {
   "cell_type": "markdown",
   "metadata": {},
   "source": [
    "- 返回一个反向的iterator。\n",
    "- seq必须是一个具有__reversed__()方法的对象或者是支持该序列协议"
   ]
  },
  {
   "cell_type": "code",
   "execution_count": 20,
   "metadata": {},
   "outputs": [
    {
     "data": {
      "text/plain": [
       "<list_reverseiterator at 0x1f12f7650b8>"
      ]
     },
     "execution_count": 20,
     "metadata": {},
     "output_type": "execute_result"
    }
   ],
   "source": [
    "reversed([1,2,3,4])"
   ]
  },
  {
   "cell_type": "markdown",
   "metadata": {},
   "source": [
    "### 56. round(number[,ndigits])"
   ]
  },
  {
   "cell_type": "markdown",
   "metadata": {},
   "source": [
    "- 返回number舍入到小数点后ndigits位精度的值。\n",
    "- 如果ndigits被省略或为None，则返回最接近输入值的整数。\n",
    "- 对于支持round()的内置类型，值会被舍入到最接近的10的负ndigits次幂的倍数；\n",
    "- 如果与两个倍数的距离相等，则选择偶数。\n",
    "- 对一般的python对象number，round将委托给number.__round__"
   ]
  },
  {
   "cell_type": "code",
   "execution_count": 25,
   "metadata": {},
   "outputs": [
    {
     "data": {
      "text/plain": [
       "0"
      ]
     },
     "execution_count": 25,
     "metadata": {},
     "output_type": "execute_result"
    }
   ],
   "source": [
    "round(0.5)"
   ]
  },
  {
   "cell_type": "code",
   "execution_count": 26,
   "metadata": {},
   "outputs": [
    {
     "data": {
      "text/plain": [
       "2"
      ]
     },
     "execution_count": 26,
     "metadata": {},
     "output_type": "execute_result"
    }
   ],
   "source": [
    "round(1.5)"
   ]
  },
  {
   "cell_type": "markdown",
   "metadata": {},
   "source": [
    "### 57. class set([iterable])"
   ]
  },
  {
   "cell_type": "markdown",
   "metadata": {},
   "source": [
    "- 返回一个新的set对象，可以选择带有从iterable获取的元素。"
   ]
  },
  {
   "cell_type": "markdown",
   "metadata": {},
   "source": [
    "### 58. setattr(object,name,value)"
   ]
  },
  {
   "cell_type": "markdown",
   "metadata": {},
   "source": [
    "- 参数为一个对象、一个字符串和一个任意值。\n",
    "- 字符串指定一个现有属性或者新增属性。\n",
    "- 函数会将值赋给该属性，只要对象允许这种操作。"
   ]
  },
  {
   "cell_type": "code",
   "execution_count": 1,
   "metadata": {},
   "outputs": [
    {
     "data": {
      "text/plain": [
       "1"
      ]
     },
     "execution_count": 1,
     "metadata": {},
     "output_type": "execute_result"
    }
   ],
   "source": [
    "class AA:\n",
    "    bar = 1\n",
    "    \n",
    "a = AA()\n",
    "a.bar"
   ]
  },
  {
   "cell_type": "code",
   "execution_count": 2,
   "metadata": {},
   "outputs": [
    {
     "data": {
      "text/plain": [
       "5"
      ]
     },
     "execution_count": 2,
     "metadata": {},
     "output_type": "execute_result"
    }
   ],
   "source": [
    "setattr(a, 'bar', 5)\n",
    "a.bar"
   ]
  },
  {
   "cell_type": "markdown",
   "metadata": {},
   "source": [
    "### 59. class slice(stop), class slice(start,stop[,step])"
   ]
  },
  {
   "cell_type": "markdown",
   "metadata": {},
   "source": [
    "- 返回一个表示由range(start,stop,step)所指定索引集的slice对象。\n",
    "- 切片对象具有仅会返回对应参数值（或其默认值）的只读属性start，stop，step。"
   ]
  },
  {
   "cell_type": "code",
   "execution_count": 4,
   "metadata": {},
   "outputs": [
    {
     "data": {
      "text/plain": [
       "slice(None, 5, None)"
      ]
     },
     "execution_count": 4,
     "metadata": {},
     "output_type": "execute_result"
    }
   ],
   "source": [
    "myslice = slice(5)\n",
    "myslice"
   ]
  },
  {
   "cell_type": "code",
   "execution_count": 5,
   "metadata": {},
   "outputs": [
    {
     "data": {
      "text/plain": [
       "range(0, 10)"
      ]
     },
     "execution_count": 5,
     "metadata": {},
     "output_type": "execute_result"
    }
   ],
   "source": [
    "arr = range(10)\n",
    "arr"
   ]
  },
  {
   "cell_type": "code",
   "execution_count": 6,
   "metadata": {},
   "outputs": [
    {
     "data": {
      "text/plain": [
       "range(0, 5)"
      ]
     },
     "execution_count": 6,
     "metadata": {},
     "output_type": "execute_result"
    }
   ],
   "source": [
    "arr[myslice]"
   ]
  },
  {
   "cell_type": "markdown",
   "metadata": {},
   "source": [
    "### 60. sorted(iterable,*,key=None,reverse=False)"
   ]
  },
  {
   "cell_type": "markdown",
   "metadata": {},
   "source": [
    "- 根据iterable中的项返回一个新的已排序列表。\n",
    "- key指定带有单个参数的函数，用于从iterable的每个元素中提取用于比较的键（例如key=str.lower）\n",
    "- reverse为一个布尔值。如果为True，则每个列表元素将反向排序。"
   ]
  },
  {
   "cell_type": "markdown",
   "metadata": {},
   "source": [
    "### 61. @staticmethod"
   ]
  },
  {
   "cell_type": "markdown",
   "metadata": {},
   "source": [
    "- 将方法转换为静态方法。\n",
    "- 静态方法不会接收隐式的第一个参数。\n",
    "- @staticmethod这样的形式成为函数的decorator。\n",
    "- 静态方法的调用可以在类上进行（如C.f()）也可以在实例上进行（如C().f()）."
   ]
  },
  {
   "cell_type": "code",
   "execution_count": 7,
   "metadata": {},
   "outputs": [
    {
     "name": "stdout",
     "output_type": "stream",
     "text": [
      "runoob\n"
     ]
    }
   ],
   "source": [
    "class C:\n",
    "    @staticmethod\n",
    "    def f():\n",
    "        print('runoob')\n",
    "        \n",
    "C.f()"
   ]
  },
  {
   "cell_type": "code",
   "execution_count": 8,
   "metadata": {},
   "outputs": [
    {
     "name": "stdout",
     "output_type": "stream",
     "text": [
      "runoob\n"
     ]
    }
   ],
   "source": [
    "cobj = C()\n",
    "cobj.f()"
   ]
  },
  {
   "cell_type": "markdown",
   "metadata": {},
   "source": [
    "### 62. class str(object=''), class str(object=b'',encoding='utf-8',errors='strict')"
   ]
  },
  {
   "cell_type": "markdown",
   "metadata": {},
   "source": [
    "- 返回object的字符串版本。\n",
    "- 如果encoding或errors均未给出，str(object)返回object.__str__()。\n",
    "- 如果object没有__str__()方法，则str()返回repr(object)。\n",
    "- 如果encoding或errors至少给出其中之一，则object应该是一个bytes-like object。\n",
    "- 如果不给出encoding或errors，传入一个bytes对象，将返回非正式的字符串表示。"
   ]
  },
  {
   "cell_type": "code",
   "execution_count": 1,
   "metadata": {},
   "outputs": [
    {
     "data": {
      "text/plain": [
       "\"b'zoot!'\""
      ]
     },
     "execution_count": 1,
     "metadata": {},
     "output_type": "execute_result"
    }
   ],
   "source": [
    "str(b'zoot!')"
   ]
  },
  {
   "cell_type": "markdown",
   "metadata": {},
   "source": [
    "### 63. sum(iterable,/,start=0)"
   ]
  },
  {
   "cell_type": "markdown",
   "metadata": {},
   "source": [
    "- 从start开始自左向右对iterable的项求和并返回总计值。"
   ]
  },
  {
   "cell_type": "markdown",
   "metadata": {},
   "source": [
    "### 64. super([type[,object-or-type]])"
   ]
  },
  {
   "cell_type": "markdown",
   "metadata": {},
   "source": [
    "- 返回一个代理对象，它将方法调用委托给type的父类或兄弟类。\n",
    "- 在具有单继承的类层级结构中，super可用来引用父类而不必显式地指定它们的名称，从而令代码更易维护。\n",
    "- 在动态执行环境中支持协作多重继承。\n",
    "- 用来解决多重继承问题，会涉及到查找顺序（MRO）、重复调用（钻石继承）等问题。\n",
    "- MRO就是类的方法解析顺序表，其实也就是继承父类方法时的顺序表。"
   ]
  },
  {
   "cell_type": "code",
   "execution_count": 3,
   "metadata": {},
   "outputs": [
    {
     "name": "stdout",
     "output_type": "stream",
     "text": [
      "3\n"
     ]
    }
   ],
   "source": [
    "class DD:\n",
    "    def add(self, x):\n",
    "        y = x+1\n",
    "        print(y)\n",
    "        \n",
    "class EE(DD):\n",
    "    def add(self, x):\n",
    "        super().add(x)\n",
    "        \n",
    "bb = EE()\n",
    "bb.add(2)"
   ]
  },
  {
   "cell_type": "markdown",
   "metadata": {},
   "source": [
    "### 65. tuple([iteralbe])"
   ]
  },
  {
   "cell_type": "markdown",
   "metadata": {},
   "source": [
    "- tuple是一个不可变的序列类型，元组"
   ]
  },
  {
   "cell_type": "markdown",
   "metadata": {},
   "source": [
    "### 66. class type(object), class type(name,bases,dict)"
   ]
  },
  {
   "cell_type": "markdown",
   "metadata": {},
   "source": [
    "- 传入一个参数时，返回objcet的类型。返回值是一个type对象。\n",
    "- 推荐使用isinstance()函数检测对象的类型，因为它会考虑子类的情况。\n",
    "- name：类的名称，bases：基类的元组，dict：字典，类内定义的命名空间变量。"
   ]
  },
  {
   "cell_type": "code",
   "execution_count": 4,
   "metadata": {},
   "outputs": [
    {
     "data": {
      "text/plain": [
       "int"
      ]
     },
     "execution_count": 4,
     "metadata": {},
     "output_type": "execute_result"
    }
   ],
   "source": [
    "# 一个参数\n",
    "type(5)"
   ]
  },
  {
   "cell_type": "code",
   "execution_count": 5,
   "metadata": {},
   "outputs": [
    {
     "data": {
      "text/plain": [
       "__main__.X"
      ]
     },
     "execution_count": 5,
     "metadata": {},
     "output_type": "execute_result"
    }
   ],
   "source": [
    "# 三个参数\n",
    "class X:\n",
    "    a = 1\n",
    "    \n",
    "X = type('X', (object,), dict(a=1))    # 产生一个新的类型X\n",
    "X"
   ]
  },
  {
   "cell_type": "markdown",
   "metadata": {},
   "source": [
    "### 67. vars([object])"
   ]
  },
  {
   "cell_type": "markdown",
   "metadata": {},
   "source": [
    "- 返回模块、类、实例或任何其它具有__dict__属性的对象的__dict__属性。\n",
    "- 模块和实例这样的对象具有可更新的__dict__属性；其它对象可能会限制写入。\n",
    "- 不带参数时，vars()类似locals()。"
   ]
  },
  {
   "cell_type": "code",
   "execution_count": 6,
   "metadata": {},
   "outputs": [
    {
     "data": {
      "text/plain": [
       "{'__name__': '__main__',\n",
       " '__doc__': 'Automatically created module for IPython interactive environment',\n",
       " '__package__': None,\n",
       " '__loader__': None,\n",
       " '__spec__': None,\n",
       " '__builtin__': <module 'builtins' (built-in)>,\n",
       " '__builtins__': <module 'builtins' (built-in)>,\n",
       " '_ih': ['',\n",
       "  \"str(b'zoot!')\",\n",
       "  '63. sum(iterable,/,start=0)',\n",
       "  'class DD:\\n    def add(self, x):\\n        y = x+1\\n        print(y)\\n        \\nclass EE(DD):\\n    def add(self, x):\\n        super().add(x)\\n        \\nbb = EE()\\nbb.add(2)',\n",
       "  '# 一个参数\\ntype(5)',\n",
       "  \"# 三个参数\\nclass X:\\n    a = 1\\n    \\nX = type('X', (object,), dict(a=1))    # 产生一个新的类型X\\nX\",\n",
       "  'vars()'],\n",
       " '_oh': {1: \"b'zoot!'\", 4: int, 5: __main__.X},\n",
       " '_dh': ['E:\\\\learnpython\\\\常用模块'],\n",
       " 'In': ['',\n",
       "  \"str(b'zoot!')\",\n",
       "  '63. sum(iterable,/,start=0)',\n",
       "  'class DD:\\n    def add(self, x):\\n        y = x+1\\n        print(y)\\n        \\nclass EE(DD):\\n    def add(self, x):\\n        super().add(x)\\n        \\nbb = EE()\\nbb.add(2)',\n",
       "  '# 一个参数\\ntype(5)',\n",
       "  \"# 三个参数\\nclass X:\\n    a = 1\\n    \\nX = type('X', (object,), dict(a=1))    # 产生一个新的类型X\\nX\",\n",
       "  'vars()'],\n",
       " 'Out': {1: \"b'zoot!'\", 4: int, 5: __main__.X},\n",
       " 'get_ipython': <bound method InteractiveShell.get_ipython of <ipykernel.zmqshell.ZMQInteractiveShell object at 0x0000020D4006C080>>,\n",
       " 'exit': <IPython.core.autocall.ZMQExitAutocall at 0x20d4008d400>,\n",
       " 'quit': <IPython.core.autocall.ZMQExitAutocall at 0x20d4008d400>,\n",
       " '_': __main__.X,\n",
       " '__': int,\n",
       " '___': \"b'zoot!'\",\n",
       " '_i': \"# 三个参数\\nclass X:\\n    a = 1\\n    \\nX = type('X', (object,), dict(a=1))    # 产生一个新的类型X\\nX\",\n",
       " '_ii': '# 一个参数\\ntype(5)',\n",
       " '_iii': 'class DD:\\n    def add(self, x):\\n        y = x+1\\n        print(y)\\n        \\nclass EE(DD):\\n    def add(self, x):\\n        super().add(x)\\n        \\nbb = EE()\\nbb.add(2)',\n",
       " '_i1': \"str(b'zoot!')\",\n",
       " '_1': \"b'zoot!'\",\n",
       " '_i2': '63. sum(iterable,/,start=0)',\n",
       " '_i3': 'class DD:\\n    def add(self, x):\\n        y = x+1\\n        print(y)\\n        \\nclass EE(DD):\\n    def add(self, x):\\n        super().add(x)\\n        \\nbb = EE()\\nbb.add(2)',\n",
       " 'DD': __main__.DD,\n",
       " 'EE': __main__.EE,\n",
       " 'bb': <__main__.EE at 0x20d40521cc0>,\n",
       " '_i4': '# 一个参数\\ntype(5)',\n",
       " '_4': int,\n",
       " '_i5': \"# 三个参数\\nclass X:\\n    a = 1\\n    \\nX = type('X', (object,), dict(a=1))    # 产生一个新的类型X\\nX\",\n",
       " 'X': __main__.X,\n",
       " '_5': __main__.X,\n",
       " '_i6': 'vars()'}"
      ]
     },
     "execution_count": 6,
     "metadata": {},
     "output_type": "execute_result"
    }
   ],
   "source": [
    "vars()"
   ]
  },
  {
   "cell_type": "code",
   "execution_count": 7,
   "metadata": {},
   "outputs": [
    {
     "data": {
      "text/plain": [
       "mappingproxy({'a': 1,\n",
       "              '__module__': '__main__',\n",
       "              '__dict__': <attribute '__dict__' of 'X' objects>,\n",
       "              '__weakref__': <attribute '__weakref__' of 'X' objects>,\n",
       "              '__doc__': None})"
      ]
     },
     "execution_count": 7,
     "metadata": {},
     "output_type": "execute_result"
    }
   ],
   "source": [
    "vars(X)"
   ]
  },
  {
   "cell_type": "code",
   "execution_count": 8,
   "metadata": {},
   "outputs": [
    {
     "data": {
      "text/plain": [
       "mappingproxy({'__module__': '__main__',\n",
       "              'add': <function __main__.DD.add(self, x)>,\n",
       "              '__dict__': <attribute '__dict__' of 'DD' objects>,\n",
       "              '__weakref__': <attribute '__weakref__' of 'DD' objects>,\n",
       "              '__doc__': None})"
      ]
     },
     "execution_count": 8,
     "metadata": {},
     "output_type": "execute_result"
    }
   ],
   "source": [
    "vars(DD)"
   ]
  },
  {
   "cell_type": "code",
   "execution_count": 9,
   "metadata": {},
   "outputs": [
    {
     "data": {
      "text/plain": [
       "{}"
      ]
     },
     "execution_count": 9,
     "metadata": {},
     "output_type": "execute_result"
    }
   ],
   "source": [
    "vars(bb)"
   ]
  },
  {
   "cell_type": "markdown",
   "metadata": {},
   "source": [
    "### 68. zip(*iterables)"
   ]
  },
  {
   "cell_type": "markdown",
   "metadata": {},
   "source": [
    "- 返回一个元组的迭代器，其中第i个元组包含雷子每个参数序列的第i个元素。\n",
    "- 当所输入可迭代对象中最短的一个被耗尽时，迭代器将停止迭代。\n",
    "- 当只有一个可迭代对象参数时，它将返回一个单元组的迭代器。\n",
    "- 不带参数时，返回空迭代器。\n",
    "- zip()与*运算符相结合可以用来拆解一个列表"
   ]
  },
  {
   "cell_type": "code",
   "execution_count": 10,
   "metadata": {},
   "outputs": [],
   "source": [
    "x = [1, 2, 3]\n",
    "y = [4, 5, 6]\n",
    "zipped = zip(x, y)"
   ]
  },
  {
   "cell_type": "code",
   "execution_count": 11,
   "metadata": {},
   "outputs": [
    {
     "data": {
      "text/plain": [
       "<zip at 0x20d3f6b7d08>"
      ]
     },
     "execution_count": 11,
     "metadata": {},
     "output_type": "execute_result"
    }
   ],
   "source": [
    "zipped"
   ]
  },
  {
   "cell_type": "code",
   "execution_count": 12,
   "metadata": {},
   "outputs": [
    {
     "data": {
      "text/plain": [
       "[(1, 4), (2, 5), (3, 6)]"
      ]
     },
     "execution_count": 12,
     "metadata": {},
     "output_type": "execute_result"
    }
   ],
   "source": [
    "list(zipped)"
   ]
  },
  {
   "cell_type": "code",
   "execution_count": 13,
   "metadata": {},
   "outputs": [],
   "source": [
    "x2, y2 = zip(*zip(x, y))"
   ]
  },
  {
   "cell_type": "code",
   "execution_count": 14,
   "metadata": {},
   "outputs": [
    {
     "data": {
      "text/plain": [
       "(1, 2, 3)"
      ]
     },
     "execution_count": 14,
     "metadata": {},
     "output_type": "execute_result"
    }
   ],
   "source": [
    "x2"
   ]
  },
  {
   "cell_type": "code",
   "execution_count": 15,
   "metadata": {},
   "outputs": [
    {
     "data": {
      "text/plain": [
       "(4, 5, 6)"
      ]
     },
     "execution_count": 15,
     "metadata": {},
     "output_type": "execute_result"
    }
   ],
   "source": [
    "y2"
   ]
  },
  {
   "cell_type": "markdown",
   "metadata": {},
   "source": [
    "### 69. __import__(name,globals=None,locals=None,fromlist=(),level=0)"
   ]
  },
  {
   "cell_type": "markdown",
   "metadata": {},
   "source": [
    "- 导入name模块，有可能使用给定的globals和locals来确定如何在包的上下文中解读名称。\n",
    "- fromlist给出了应用从由name指定的模块导入对象或子模块的名称。\n",
    "- level指定使用绝对还是相对导入。0意味着仅执行绝对导入。"
   ]
  },
  {
   "cell_type": "code",
   "execution_count": null,
   "metadata": {},
   "outputs": [],
   "source": []
  }
 ],
 "metadata": {
  "kernelspec": {
   "display_name": "Python 3",
   "language": "python",
   "name": "python3"
  },
  "language_info": {
   "codemirror_mode": {
    "name": "ipython",
    "version": 3
   },
   "file_extension": ".py",
   "mimetype": "text/x-python",
   "name": "python",
   "nbconvert_exporter": "python",
   "pygments_lexer": "ipython3",
   "version": "3.7.1"
  }
 },
 "nbformat": 4,
 "nbformat_minor": 2
}
